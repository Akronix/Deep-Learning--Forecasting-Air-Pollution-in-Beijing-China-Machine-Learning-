{
 "cells": [
  {
   "cell_type": "markdown",
   "metadata": {},
   "source": [
    "Imports"
   ]
  },
  {
   "cell_type": "code",
   "execution_count": 4,
   "metadata": {},
   "outputs": [
    {
     "name": "stderr",
     "output_type": "stream",
     "text": [
      "Using TensorFlow backend.\n",
      "/home/ubuntu/anaconda3/envs/deep-air/lib/python3.6/importlib/_bootstrap.py:205: RuntimeWarning: compiletime version 3.5 of module 'tensorflow.python.framework.fast_tensor_util' does not match runtime version 3.6\n",
      "  return f(*args, **kwds)\n"
     ]
    }
   ],
   "source": [
    "from math import sqrt\n",
    "from numpy import concatenate\n",
    "from matplotlib import pyplot as plt\n",
    "%matplotlib inline\n",
    "from sklearn.model_selection import train_test_split\n",
    "from sklearn.preprocessing import MinMaxScaler\n",
    "from sklearn.preprocessing import LabelEncoder\n",
    "from sklearn.metrics import mean_squared_error\n",
    "from keras.models import Sequential\n",
    "from keras.layers import Dense\n",
    "from keras.layers import LSTM\n",
    "from keras.preprocessing.sequence import pad_sequences\n",
    "import numpy as np\n",
    "import pandas as pd\n",
    "import time\n",
    "import warnings; warnings.filterwarnings('ignore');\n",
    "from tensorflow.python.client import device_lib"
   ]
  },
  {
   "cell_type": "code",
   "execution_count": 8,
   "metadata": {
    "collapsed": true
   },
   "outputs": [],
   "source": [
    "# CuDNN-powered LSTM\n",
    "from keras.layers import CuDNNLSTM"
   ]
  },
  {
   "cell_type": "code",
   "execution_count": 9,
   "metadata": {
    "collapsed": true
   },
   "outputs": [],
   "source": [
    "def get_available_gpus():\n",
    "    local_devices = device_lib.list_local_devices()\n",
    "    return [x for x in local_devices if x.device_type == 'GPU']"
   ]
  },
  {
   "cell_type": "code",
   "execution_count": 10,
   "metadata": {
    "scrolled": true
   },
   "outputs": [
    {
     "data": {
      "text/plain": [
       "[name: \"/device:GPU:0\"\n",
       " device_type: \"GPU\"\n",
       " memory_limit: 357957632\n",
       " locality {\n",
       "   bus_id: 1\n",
       " }\n",
       " incarnation: 1033613650667949710\n",
       " physical_device_desc: \"device: 0, name: Tesla K80, pci bus id: 0000:00:1e.0, compute capability: 3.7\"]"
      ]
     },
     "execution_count": 10,
     "metadata": {},
     "output_type": "execute_result"
    }
   ],
   "source": [
    "get_available_gpus()"
   ]
  },
  {
   "cell_type": "markdown",
   "metadata": {},
   "source": [
    "## Baseline LSTM + room to change network architecture"
   ]
  },
  {
   "cell_type": "code",
   "execution_count": 364,
   "metadata": {
    "collapsed": true
   },
   "outputs": [],
   "source": [
    "def handle_wind_dir(data):\n",
    "    '''\n",
    "    Different ways to handle the string format:\n",
    "     1. Drop it\n",
    "     2. LabelEncode it\n",
    "     3. One-hot encode it\n",
    "     \n",
    "    The reason I need to handle it is because Keras' pad_sequences function takes int() of\n",
    "    all the columns.\n",
    "    '''\n",
    "    # I'll drop it first\n",
    "    data = data.drop('wnd_dir', axis=1, inplace=False)\n",
    "    return data"
   ]
  },
  {
   "cell_type": "code",
   "execution_count": 365,
   "metadata": {
    "collapsed": true
   },
   "outputs": [],
   "source": [
    "df = pd.read_csv('data/pollution.csv', header=0, index_col=0)"
   ]
  },
  {
   "cell_type": "code",
   "execution_count": 366,
   "metadata": {
    "collapsed": true
   },
   "outputs": [],
   "source": [
    "# Optionally drop wind dir\n",
    "df = handle_wind_dir(df)"
   ]
  },
  {
   "cell_type": "code",
   "execution_count": 367,
   "metadata": {
    "scrolled": true
   },
   "outputs": [
    {
     "data": {
      "text/html": [
       "<div>\n",
       "<style>\n",
       "    .dataframe thead tr:only-child th {\n",
       "        text-align: right;\n",
       "    }\n",
       "\n",
       "    .dataframe thead th {\n",
       "        text-align: left;\n",
       "    }\n",
       "\n",
       "    .dataframe tbody tr th {\n",
       "        vertical-align: top;\n",
       "    }\n",
       "</style>\n",
       "<table border=\"1\" class=\"dataframe\">\n",
       "  <thead>\n",
       "    <tr style=\"text-align: right;\">\n",
       "      <th></th>\n",
       "      <th>pollution</th>\n",
       "      <th>dew</th>\n",
       "      <th>temp</th>\n",
       "      <th>press</th>\n",
       "      <th>wnd_spd</th>\n",
       "      <th>snow</th>\n",
       "      <th>rain</th>\n",
       "    </tr>\n",
       "  </thead>\n",
       "  <tbody>\n",
       "    <tr>\n",
       "      <th>24</th>\n",
       "      <td>129.0</td>\n",
       "      <td>-16</td>\n",
       "      <td>-4.0</td>\n",
       "      <td>1020.0</td>\n",
       "      <td>1.79</td>\n",
       "      <td>0</td>\n",
       "      <td>0</td>\n",
       "    </tr>\n",
       "    <tr>\n",
       "      <th>25</th>\n",
       "      <td>148.0</td>\n",
       "      <td>-15</td>\n",
       "      <td>-4.0</td>\n",
       "      <td>1020.0</td>\n",
       "      <td>2.68</td>\n",
       "      <td>0</td>\n",
       "      <td>0</td>\n",
       "    </tr>\n",
       "    <tr>\n",
       "      <th>26</th>\n",
       "      <td>159.0</td>\n",
       "      <td>-11</td>\n",
       "      <td>-5.0</td>\n",
       "      <td>1021.0</td>\n",
       "      <td>3.57</td>\n",
       "      <td>0</td>\n",
       "      <td>0</td>\n",
       "    </tr>\n",
       "    <tr>\n",
       "      <th>27</th>\n",
       "      <td>181.0</td>\n",
       "      <td>-7</td>\n",
       "      <td>-5.0</td>\n",
       "      <td>1022.0</td>\n",
       "      <td>5.36</td>\n",
       "      <td>1</td>\n",
       "      <td>0</td>\n",
       "    </tr>\n",
       "    <tr>\n",
       "      <th>28</th>\n",
       "      <td>138.0</td>\n",
       "      <td>-7</td>\n",
       "      <td>-5.0</td>\n",
       "      <td>1022.0</td>\n",
       "      <td>6.25</td>\n",
       "      <td>2</td>\n",
       "      <td>0</td>\n",
       "    </tr>\n",
       "  </tbody>\n",
       "</table>\n",
       "</div>"
      ],
      "text/plain": [
       "    pollution  dew  temp   press  wnd_spd  snow  rain\n",
       "24      129.0  -16  -4.0  1020.0     1.79     0     0\n",
       "25      148.0  -15  -4.0  1020.0     2.68     0     0\n",
       "26      159.0  -11  -5.0  1021.0     3.57     0     0\n",
       "27      181.0   -7  -5.0  1022.0     5.36     1     0\n",
       "28      138.0   -7  -5.0  1022.0     6.25     2     0"
      ]
     },
     "execution_count": 367,
     "metadata": {},
     "output_type": "execute_result"
    }
   ],
   "source": [
    "df.head()"
   ]
  },
  {
   "cell_type": "code",
   "execution_count": 368,
   "metadata": {
    "collapsed": true
   },
   "outputs": [],
   "source": [
    "df_features = df.iloc[:, 1:]"
   ]
  },
  {
   "cell_type": "code",
   "execution_count": 369,
   "metadata": {
    "collapsed": true
   },
   "outputs": [],
   "source": [
    "df_label = pd.DataFrame(df.iloc[:,0], columns=['pollution'])"
   ]
  },
  {
   "cell_type": "code",
   "execution_count": 370,
   "metadata": {
    "collapsed": true
   },
   "outputs": [],
   "source": [
    "def standardize(df):\n",
    "    return ((df.values - np.mean(df.values, axis = 0)) / np.std(df.values, axis = 0))"
   ]
  },
  {
   "cell_type": "code",
   "execution_count": 371,
   "metadata": {
    "collapsed": true
   },
   "outputs": [],
   "source": [
    "stand = pd.DataFrame(standardize(df_features), columns=df_features.columns)"
   ]
  },
  {
   "cell_type": "code",
   "execution_count": 372,
   "metadata": {},
   "outputs": [
    {
     "data": {
      "text/html": [
       "<div>\n",
       "<style>\n",
       "    .dataframe thead tr:only-child th {\n",
       "        text-align: right;\n",
       "    }\n",
       "\n",
       "    .dataframe thead th {\n",
       "        text-align: left;\n",
       "    }\n",
       "\n",
       "    .dataframe tbody tr th {\n",
       "        vertical-align: top;\n",
       "    }\n",
       "</style>\n",
       "<table border=\"1\" class=\"dataframe\">\n",
       "  <thead>\n",
       "    <tr style=\"text-align: right;\">\n",
       "      <th></th>\n",
       "      <th>dew</th>\n",
       "      <th>temp</th>\n",
       "      <th>press</th>\n",
       "      <th>wnd_spd</th>\n",
       "      <th>snow</th>\n",
       "      <th>rain</th>\n",
       "    </tr>\n",
       "  </thead>\n",
       "  <tbody>\n",
       "    <tr>\n",
       "      <th>0</th>\n",
       "      <td>-1.235589</td>\n",
       "      <td>-1.349849</td>\n",
       "      <td>0.345886</td>\n",
       "      <td>-0.441890</td>\n",
       "      <td>-0.069372</td>\n",
       "      <td>-0.137706</td>\n",
       "    </tr>\n",
       "    <tr>\n",
       "      <th>1</th>\n",
       "      <td>-1.166285</td>\n",
       "      <td>-1.349849</td>\n",
       "      <td>0.345886</td>\n",
       "      <td>-0.424098</td>\n",
       "      <td>-0.069372</td>\n",
       "      <td>-0.137706</td>\n",
       "    </tr>\n",
       "    <tr>\n",
       "      <th>2</th>\n",
       "      <td>-0.889069</td>\n",
       "      <td>-1.431862</td>\n",
       "      <td>0.443244</td>\n",
       "      <td>-0.406306</td>\n",
       "      <td>-0.069372</td>\n",
       "      <td>-0.137706</td>\n",
       "    </tr>\n",
       "    <tr>\n",
       "      <th>3</th>\n",
       "      <td>-0.611852</td>\n",
       "      <td>-1.431862</td>\n",
       "      <td>0.540603</td>\n",
       "      <td>-0.370522</td>\n",
       "      <td>1.245425</td>\n",
       "      <td>-0.137706</td>\n",
       "    </tr>\n",
       "    <tr>\n",
       "      <th>4</th>\n",
       "      <td>-0.611852</td>\n",
       "      <td>-1.431862</td>\n",
       "      <td>0.540603</td>\n",
       "      <td>-0.352730</td>\n",
       "      <td>2.560223</td>\n",
       "      <td>-0.137706</td>\n",
       "    </tr>\n",
       "  </tbody>\n",
       "</table>\n",
       "</div>"
      ],
      "text/plain": [
       "        dew      temp     press   wnd_spd      snow      rain\n",
       "0 -1.235589 -1.349849  0.345886 -0.441890 -0.069372 -0.137706\n",
       "1 -1.166285 -1.349849  0.345886 -0.424098 -0.069372 -0.137706\n",
       "2 -0.889069 -1.431862  0.443244 -0.406306 -0.069372 -0.137706\n",
       "3 -0.611852 -1.431862  0.540603 -0.370522  1.245425 -0.137706\n",
       "4 -0.611852 -1.431862  0.540603 -0.352730  2.560223 -0.137706"
      ]
     },
     "execution_count": 372,
     "metadata": {},
     "output_type": "execute_result"
    }
   ],
   "source": [
    "stand.head()"
   ]
  },
  {
   "cell_type": "markdown",
   "metadata": {},
   "source": [
    "### Split Train and Leave Out set"
   ]
  },
  {
   "cell_type": "code",
   "execution_count": 373,
   "metadata": {
    "collapsed": true
   },
   "outputs": [],
   "source": [
    "test_size = 0.20\n",
    "row = 1 - round(test_size*len(df_features))\n",
    "train_features = df_features.iloc[:row, :]\n",
    "train_label = df_label.iloc[:row, :]\n",
    "leave_out_features = df_features.iloc[row:, :]\n",
    "leave_out_label = df_label.iloc[row:, :]"
   ]
  },
  {
   "cell_type": "code",
   "execution_count": 374,
   "metadata": {
    "collapsed": true
   },
   "outputs": [],
   "source": [
    "def prepare_sequences(df_features, df_label):\n",
    "    ''' \n",
    "    Let df = train and prepare sequences.\n",
    "    '''\n",
    "    input_cols = list(df_features.columns)\n",
    "#     df_features['single_input_vector'] = df_features[input_cols].apply(tuple, axis=1).apply(list)\\\n",
    "#         .apply(lambda x: [list(x)])\n",
    "    df_features['single_input_vector'] = df_features[input_cols].apply(tuple, axis=1).apply(list)\\\n",
    "        .apply(lambda x: [x])\n",
    "    df_label['single_output_vector'] = df_label['pollution'].apply(lambda x: [[x]])\n",
    "    train_full = pd.concat((df_features, df_label), axis=1)\n",
    "    return df_features, df_label, train_full"
   ]
  },
  {
   "cell_type": "code",
   "execution_count": 375,
   "metadata": {},
   "outputs": [],
   "source": [
    "train_features, train_label, train_full = prepare_sequences(train_features, train_label)"
   ]
  },
  {
   "cell_type": "code",
   "execution_count": 376,
   "metadata": {
    "collapsed": true
   },
   "outputs": [],
   "source": [
    "# train_features, test_features, train_label, test_label = train_test_split(stand, df_label,\n",
    "#                                                                           test_size=.50, \n",
    "#                                                                           random_state=789)"
   ]
  },
  {
   "cell_type": "code",
   "execution_count": 377,
   "metadata": {},
   "outputs": [
    {
     "data": {
      "text/plain": [
       "35041"
      ]
     },
     "execution_count": 377,
     "metadata": {},
     "output_type": "execute_result"
    }
   ],
   "source": [
    "len(train_features)"
   ]
  },
  {
   "cell_type": "code",
   "execution_count": 378,
   "metadata": {},
   "outputs": [
    {
     "data": {
      "text/plain": [
       "35041"
      ]
     },
     "execution_count": 378,
     "metadata": {},
     "output_type": "execute_result"
    }
   ],
   "source": [
    "len(train_label)"
   ]
  },
  {
   "cell_type": "code",
   "execution_count": null,
   "metadata": {
    "collapsed": true
   },
   "outputs": [],
   "source": []
  },
  {
   "cell_type": "code",
   "execution_count": 379,
   "metadata": {},
   "outputs": [
    {
     "data": {
      "text/html": [
       "<div>\n",
       "<style>\n",
       "    .dataframe thead tr:only-child th {\n",
       "        text-align: right;\n",
       "    }\n",
       "\n",
       "    .dataframe thead th {\n",
       "        text-align: left;\n",
       "    }\n",
       "\n",
       "    .dataframe tbody tr th {\n",
       "        vertical-align: top;\n",
       "    }\n",
       "</style>\n",
       "<table border=\"1\" class=\"dataframe\">\n",
       "  <thead>\n",
       "    <tr style=\"text-align: right;\">\n",
       "      <th></th>\n",
       "      <th>dew</th>\n",
       "      <th>temp</th>\n",
       "      <th>press</th>\n",
       "      <th>wnd_spd</th>\n",
       "      <th>snow</th>\n",
       "      <th>rain</th>\n",
       "      <th>single_input_vector</th>\n",
       "    </tr>\n",
       "  </thead>\n",
       "  <tbody>\n",
       "    <tr>\n",
       "      <th>24</th>\n",
       "      <td>-16</td>\n",
       "      <td>-4.0</td>\n",
       "      <td>1020.0</td>\n",
       "      <td>1.79</td>\n",
       "      <td>0</td>\n",
       "      <td>0</td>\n",
       "      <td>[[-16.0, -4.0, 1020.0, 1.79, 0.0, 0.0]]</td>\n",
       "    </tr>\n",
       "    <tr>\n",
       "      <th>25</th>\n",
       "      <td>-15</td>\n",
       "      <td>-4.0</td>\n",
       "      <td>1020.0</td>\n",
       "      <td>2.68</td>\n",
       "      <td>0</td>\n",
       "      <td>0</td>\n",
       "      <td>[[-15.0, -4.0, 1020.0, 2.68, 0.0, 0.0]]</td>\n",
       "    </tr>\n",
       "    <tr>\n",
       "      <th>26</th>\n",
       "      <td>-11</td>\n",
       "      <td>-5.0</td>\n",
       "      <td>1021.0</td>\n",
       "      <td>3.57</td>\n",
       "      <td>0</td>\n",
       "      <td>0</td>\n",
       "      <td>[[-11.0, -5.0, 1021.0, 3.57, 0.0, 0.0]]</td>\n",
       "    </tr>\n",
       "    <tr>\n",
       "      <th>27</th>\n",
       "      <td>-7</td>\n",
       "      <td>-5.0</td>\n",
       "      <td>1022.0</td>\n",
       "      <td>5.36</td>\n",
       "      <td>1</td>\n",
       "      <td>0</td>\n",
       "      <td>[[-7.0, -5.0, 1022.0, 5.36, 1.0, 0.0]]</td>\n",
       "    </tr>\n",
       "    <tr>\n",
       "      <th>28</th>\n",
       "      <td>-7</td>\n",
       "      <td>-5.0</td>\n",
       "      <td>1022.0</td>\n",
       "      <td>6.25</td>\n",
       "      <td>2</td>\n",
       "      <td>0</td>\n",
       "      <td>[[-7.0, -5.0, 1022.0, 6.25, 2.0, 0.0]]</td>\n",
       "    </tr>\n",
       "  </tbody>\n",
       "</table>\n",
       "</div>"
      ],
      "text/plain": [
       "    dew  temp   press  wnd_spd  snow  rain  \\\n",
       "24  -16  -4.0  1020.0     1.79     0     0   \n",
       "25  -15  -4.0  1020.0     2.68     0     0   \n",
       "26  -11  -5.0  1021.0     3.57     0     0   \n",
       "27   -7  -5.0  1022.0     5.36     1     0   \n",
       "28   -7  -5.0  1022.0     6.25     2     0   \n",
       "\n",
       "                        single_input_vector  \n",
       "24  [[-16.0, -4.0, 1020.0, 1.79, 0.0, 0.0]]  \n",
       "25  [[-15.0, -4.0, 1020.0, 2.68, 0.0, 0.0]]  \n",
       "26  [[-11.0, -5.0, 1021.0, 3.57, 0.0, 0.0]]  \n",
       "27   [[-7.0, -5.0, 1022.0, 5.36, 1.0, 0.0]]  \n",
       "28   [[-7.0, -5.0, 1022.0, 6.25, 2.0, 0.0]]  "
      ]
     },
     "execution_count": 379,
     "metadata": {},
     "output_type": "execute_result"
    }
   ],
   "source": [
    "train_features.head()"
   ]
  },
  {
   "cell_type": "code",
   "execution_count": 380,
   "metadata": {},
   "outputs": [
    {
     "data": {
      "text/html": [
       "<div>\n",
       "<style>\n",
       "    .dataframe thead tr:only-child th {\n",
       "        text-align: right;\n",
       "    }\n",
       "\n",
       "    .dataframe thead th {\n",
       "        text-align: left;\n",
       "    }\n",
       "\n",
       "    .dataframe tbody tr th {\n",
       "        vertical-align: top;\n",
       "    }\n",
       "</style>\n",
       "<table border=\"1\" class=\"dataframe\">\n",
       "  <thead>\n",
       "    <tr style=\"text-align: right;\">\n",
       "      <th></th>\n",
       "      <th>pollution</th>\n",
       "      <th>single_output_vector</th>\n",
       "    </tr>\n",
       "  </thead>\n",
       "  <tbody>\n",
       "    <tr>\n",
       "      <th>24</th>\n",
       "      <td>129.0</td>\n",
       "      <td>[[129.0]]</td>\n",
       "    </tr>\n",
       "    <tr>\n",
       "      <th>25</th>\n",
       "      <td>148.0</td>\n",
       "      <td>[[148.0]]</td>\n",
       "    </tr>\n",
       "    <tr>\n",
       "      <th>26</th>\n",
       "      <td>159.0</td>\n",
       "      <td>[[159.0]]</td>\n",
       "    </tr>\n",
       "    <tr>\n",
       "      <th>27</th>\n",
       "      <td>181.0</td>\n",
       "      <td>[[181.0]]</td>\n",
       "    </tr>\n",
       "    <tr>\n",
       "      <th>28</th>\n",
       "      <td>138.0</td>\n",
       "      <td>[[138.0]]</td>\n",
       "    </tr>\n",
       "  </tbody>\n",
       "</table>\n",
       "</div>"
      ],
      "text/plain": [
       "    pollution single_output_vector\n",
       "24      129.0            [[129.0]]\n",
       "25      148.0            [[148.0]]\n",
       "26      159.0            [[159.0]]\n",
       "27      181.0            [[181.0]]\n",
       "28      138.0            [[138.0]]"
      ]
     },
     "execution_count": 380,
     "metadata": {},
     "output_type": "execute_result"
    }
   ],
   "source": [
    "train_label.head()"
   ]
  },
  {
   "cell_type": "code",
   "execution_count": 381,
   "metadata": {
    "collapsed": true
   },
   "outputs": [],
   "source": [
    "def func(x, maxlen=None):\n",
    "    '''\n",
    "    Pad sequences with lists of 0s. Functional lambda programming.\n",
    "    '''\n",
    "    zeros_to_add = maxlen - len(x)\n",
    "    prepended = [np.zeros(7).tolist()]\n",
    "    y = prepended*zeros_to_add + x\n",
    "    return y\n",
    "\n",
    "def func_output(x, maxlen=None):\n",
    "    '''\n",
    "    Pad sequences with lists of 0s. Functional lambda programming.\n",
    "    '''\n",
    "    zeros_to_add = maxlen - len(x)\n",
    "    prepended = [np.zeros(1).tolist()]\n",
    "    y = prepended*zeros_to_add + x\n",
    "    return y\n",
    "\n",
    "def balanced_sliding_windows(df, stride=3):\n",
    "    '''\n",
    "    Create sliding windows of size [n - 3, n + 3]. Let df=train.\n",
    "    '''\n",
    "    seqs = []\n",
    "    for i, value in df.iterrows():\n",
    "        if i >= stride and i < len(df) - stride:\n",
    "            sequences = df.iloc[i-stride:i+stride, -1].sum()\n",
    "        elif i < stride:\n",
    "            sequences = df.iloc[i:i+stride, -1].sum()\n",
    "        else:\n",
    "            sequences = df.iloc[i-stride:i, -1].sum()\n",
    "        seqs.append(sequences)\n",
    "    return pd.Series(seqs)\n",
    "        \n",
    "def past_windows(df, stride=3):\n",
    "    '''\n",
    "    Create windows of size [n - 3: n]. Let df=train.\n",
    "    '''\n",
    "    seqs = []\n",
    "    for i, value in df.iterrows():\n",
    "        if i >= stride and i < len(df) - stride:\n",
    "            sequences = df.iloc[i-stride:i, -1].sum()\n",
    "        elif i < stride:\n",
    "            sequences = df.iloc[0:i, -1].sum()\n",
    "        else:\n",
    "            sequences = df.iloc[i-stride:i, -1].sum()\n",
    "        if sequences == 0:\n",
    "            # Pad empty array with arrays of 0s\n",
    "            sequences = func([], stride)\n",
    "        if len(sequences) < stride:\n",
    "            # Pad with arrays of 0s\n",
    "            sequences = func(sequences, stride)\n",
    "        seqs.append(sequences)\n",
    "    return pd.Series(seqs)\n",
    "\n",
    "def future_windows(df, stride=3):\n",
    "    '''\n",
    "    Create windows of size [n : n+3]. Let df=train.\n",
    "    '''\n",
    "    seqs = []\n",
    "    for i, value in df.iterrows():\n",
    "        if i >= stride and i < len(df) - stride:\n",
    "            sequences = df.iloc[i:i+stride, -1].sum()\n",
    "        elif i < stride:\n",
    "            sequences = df.iloc[i:i+stride, -1].sum()\n",
    "        else:\n",
    "            sequences = df.iloc[i:, -1].sum()\n",
    "        if type(sequences) == 'int' and sequences == 0:\n",
    "            sequences = func_output([], stride)\n",
    "        elif type(sequences) == 'int' and len(sequences) < stride:\n",
    "            # Pad with arrays of 0s\n",
    "            print(sequences)\n",
    "            sequences = func_output(sequences, stride)\n",
    "        seqs.append(sequences)\n",
    "    return pd.Series(seqs)"
   ]
  },
  {
   "cell_type": "code",
   "execution_count": 382,
   "metadata": {
    "collapsed": true
   },
   "outputs": [],
   "source": [
    "train_features = train_features.reset_index(drop=True)\n",
    "train_label = train_label.reset_index(drop=True)"
   ]
  },
  {
   "cell_type": "code",
   "execution_count": 383,
   "metadata": {},
   "outputs": [],
   "source": [
    "input_vec = train_features['single_input_vector']\n",
    "input_vec = pd.DataFrame(input_vec)"
   ]
  },
  {
   "cell_type": "code",
   "execution_count": 384,
   "metadata": {},
   "outputs": [],
   "source": [
    "output_vec = train_label['single_output_vector']\n",
    "output_vec = pd.DataFrame(output_vec)"
   ]
  },
  {
   "cell_type": "code",
   "execution_count": 385,
   "metadata": {
    "collapsed": true
   },
   "outputs": [],
   "source": [
    "# Good so far."
   ]
  },
  {
   "cell_type": "code",
   "execution_count": 386,
   "metadata": {
    "collapsed": true
   },
   "outputs": [],
   "source": [
    "#balanced_sliding_windows(input_vec).head()"
   ]
  },
  {
   "cell_type": "code",
   "execution_count": 387,
   "metadata": {
    "collapsed": true
   },
   "outputs": [],
   "source": [
    "#past_windows(input_vec).head()"
   ]
  },
  {
   "cell_type": "code",
   "execution_count": 388,
   "metadata": {
    "collapsed": true
   },
   "outputs": [],
   "source": [
    "#future_windows(output_vec).head()"
   ]
  },
  {
   "cell_type": "code",
   "execution_count": 389,
   "metadata": {
    "collapsed": true
   },
   "outputs": [],
   "source": [
    "#df.head()"
   ]
  },
  {
   "cell_type": "code",
   "execution_count": 390,
   "metadata": {
    "collapsed": true
   },
   "outputs": [],
   "source": [
    "# Good so far"
   ]
  },
  {
   "cell_type": "code",
   "execution_count": 391,
   "metadata": {
    "collapsed": true
   },
   "outputs": [],
   "source": [
    "def future_windows2(df, stride=3):\n",
    "    '''\n",
    "    Create windows of size [n : n+3]. Let df=train.\n",
    "    '''\n",
    "    seqs = []\n",
    "    sequences = None\n",
    "    for i, value in df.reset_index(drop=True).iterrows():\n",
    "        if i >= stride and i < len(df) - stride:\n",
    "            sequences = df.iloc[i:i+stride, -1].sum()\n",
    "        elif i < stride:\n",
    "            sequences = df.iloc[i:i+stride, -1].sum()\n",
    "        else:\n",
    "            sequences = df.iloc[i:, -1].sum()\n",
    "        if type(sequences) == 'int' and sequences == 0:\n",
    "            sequences = func_output([], stride)\n",
    "        elif i > len(df) - stride:\n",
    "            # Pad with arrays of 0s\n",
    "            sequences = func_output(sequences, stride)\n",
    "        seqs.append(sequences)\n",
    "    return pd.Series(seqs)"
   ]
  },
  {
   "cell_type": "code",
   "execution_count": 392,
   "metadata": {
    "collapsed": true
   },
   "outputs": [],
   "source": [
    "def past_windows2(df, stride=3):\n",
    "    '''\n",
    "    Create windows of size [n - 3: n]. Let df=train.\n",
    "    '''\n",
    "    seqs = []\n",
    "    # Bug was in the reset_index, the index started with 24 because the first 24 hours did not have\n",
    "    # a target value. So the i in iterrows() was taking the 24 + ith index instead of the ith index.\n",
    "    for i, value in df.reset_index(drop=True).iterrows():\n",
    "        if i >= stride and i < len(df) - stride:\n",
    "            sequences = df.iloc[i-stride:i, -1].sum()\n",
    "        elif i < stride:\n",
    "            sequences = df.iloc[0:i, -1].sum()\n",
    "        else:\n",
    "            sequences = df.iloc[i-stride:i, -1].sum()\n",
    "        if sequences == 0:\n",
    "            # Pad empty array with arrays of 0s\n",
    "            sequences = func([], stride)\n",
    "        if len(sequences) < stride:\n",
    "            # Pad with arrays of 0s\n",
    "            sequences = func(sequences, stride)\n",
    "        seqs.append(sequences)\n",
    "    return pd.Series(seqs)"
   ]
  },
  {
   "cell_type": "code",
   "execution_count": 393,
   "metadata": {},
   "outputs": [],
   "source": [
    "# Debugging past windows\n",
    "# np.asarray(pd.DataFrame(past_windows2(small_output_vec)).apply(np.asarray, axis=1))"
   ]
  },
  {
   "cell_type": "code",
   "execution_count": 394,
   "metadata": {},
   "outputs": [],
   "source": [
    "#pd.DataFrame(past_windows2(small_output_vec)).apply(len, axis=1)"
   ]
  },
  {
   "cell_type": "code",
   "execution_count": 395,
   "metadata": {},
   "outputs": [],
   "source": [
    "train_features['past_sequences'] = past_windows2(input_vec)"
   ]
  },
  {
   "cell_type": "code",
   "execution_count": 396,
   "metadata": {},
   "outputs": [],
   "source": [
    "train_label['future_sequences'] = future_windows2(output_vec)"
   ]
  },
  {
   "cell_type": "code",
   "execution_count": 397,
   "metadata": {
    "collapsed": true
   },
   "outputs": [],
   "source": [
    "small_output_vec = output_vec.iloc[:20,:]"
   ]
  },
  {
   "cell_type": "code",
   "execution_count": 398,
   "metadata": {
    "collapsed": true
   },
   "outputs": [],
   "source": [
    "small_input_vec = input_vec.iloc[:20,:]"
   ]
  },
  {
   "cell_type": "code",
   "execution_count": 399,
   "metadata": {},
   "outputs": [],
   "source": [
    "# Debugging future windows\n",
    "#future_windows2(small_output_vec)"
   ]
  },
  {
   "cell_type": "code",
   "execution_count": 400,
   "metadata": {
    "scrolled": false
   },
   "outputs": [
    {
     "data": {
      "text/html": [
       "<div>\n",
       "<style>\n",
       "    .dataframe thead tr:only-child th {\n",
       "        text-align: right;\n",
       "    }\n",
       "\n",
       "    .dataframe thead th {\n",
       "        text-align: left;\n",
       "    }\n",
       "\n",
       "    .dataframe tbody tr th {\n",
       "        vertical-align: top;\n",
       "    }\n",
       "</style>\n",
       "<table border=\"1\" class=\"dataframe\">\n",
       "  <thead>\n",
       "    <tr style=\"text-align: right;\">\n",
       "      <th></th>\n",
       "      <th>dew</th>\n",
       "      <th>temp</th>\n",
       "      <th>press</th>\n",
       "      <th>wnd_spd</th>\n",
       "      <th>snow</th>\n",
       "      <th>rain</th>\n",
       "      <th>single_input_vector</th>\n",
       "      <th>past_sequences</th>\n",
       "    </tr>\n",
       "  </thead>\n",
       "  <tbody>\n",
       "    <tr>\n",
       "      <th>0</th>\n",
       "      <td>-16</td>\n",
       "      <td>-4.0</td>\n",
       "      <td>1020.0</td>\n",
       "      <td>1.79</td>\n",
       "      <td>0</td>\n",
       "      <td>0</td>\n",
       "      <td>[[-16.0, -4.0, 1020.0, 1.79, 0.0, 0.0]]</td>\n",
       "      <td>[[0.0, 0.0, 0.0, 0.0, 0.0, 0.0, 0.0], [0.0, 0....</td>\n",
       "    </tr>\n",
       "    <tr>\n",
       "      <th>1</th>\n",
       "      <td>-15</td>\n",
       "      <td>-4.0</td>\n",
       "      <td>1020.0</td>\n",
       "      <td>2.68</td>\n",
       "      <td>0</td>\n",
       "      <td>0</td>\n",
       "      <td>[[-15.0, -4.0, 1020.0, 2.68, 0.0, 0.0]]</td>\n",
       "      <td>[[0.0, 0.0, 0.0, 0.0, 0.0, 0.0, 0.0], [0.0, 0....</td>\n",
       "    </tr>\n",
       "    <tr>\n",
       "      <th>2</th>\n",
       "      <td>-11</td>\n",
       "      <td>-5.0</td>\n",
       "      <td>1021.0</td>\n",
       "      <td>3.57</td>\n",
       "      <td>0</td>\n",
       "      <td>0</td>\n",
       "      <td>[[-11.0, -5.0, 1021.0, 3.57, 0.0, 0.0]]</td>\n",
       "      <td>[[0.0, 0.0, 0.0, 0.0, 0.0, 0.0, 0.0], [-16.0, ...</td>\n",
       "    </tr>\n",
       "    <tr>\n",
       "      <th>3</th>\n",
       "      <td>-7</td>\n",
       "      <td>-5.0</td>\n",
       "      <td>1022.0</td>\n",
       "      <td>5.36</td>\n",
       "      <td>1</td>\n",
       "      <td>0</td>\n",
       "      <td>[[-7.0, -5.0, 1022.0, 5.36, 1.0, 0.0]]</td>\n",
       "      <td>[[-16.0, -4.0, 1020.0, 1.79, 0.0, 0.0], [-15.0...</td>\n",
       "    </tr>\n",
       "    <tr>\n",
       "      <th>4</th>\n",
       "      <td>-7</td>\n",
       "      <td>-5.0</td>\n",
       "      <td>1022.0</td>\n",
       "      <td>6.25</td>\n",
       "      <td>2</td>\n",
       "      <td>0</td>\n",
       "      <td>[[-7.0, -5.0, 1022.0, 6.25, 2.0, 0.0]]</td>\n",
       "      <td>[[-15.0, -4.0, 1020.0, 2.68, 0.0, 0.0], [-11.0...</td>\n",
       "    </tr>\n",
       "  </tbody>\n",
       "</table>\n",
       "</div>"
      ],
      "text/plain": [
       "   dew  temp   press  wnd_spd  snow  rain  \\\n",
       "0  -16  -4.0  1020.0     1.79     0     0   \n",
       "1  -15  -4.0  1020.0     2.68     0     0   \n",
       "2  -11  -5.0  1021.0     3.57     0     0   \n",
       "3   -7  -5.0  1022.0     5.36     1     0   \n",
       "4   -7  -5.0  1022.0     6.25     2     0   \n",
       "\n",
       "                       single_input_vector  \\\n",
       "0  [[-16.0, -4.0, 1020.0, 1.79, 0.0, 0.0]]   \n",
       "1  [[-15.0, -4.0, 1020.0, 2.68, 0.0, 0.0]]   \n",
       "2  [[-11.0, -5.0, 1021.0, 3.57, 0.0, 0.0]]   \n",
       "3   [[-7.0, -5.0, 1022.0, 5.36, 1.0, 0.0]]   \n",
       "4   [[-7.0, -5.0, 1022.0, 6.25, 2.0, 0.0]]   \n",
       "\n",
       "                                      past_sequences  \n",
       "0  [[0.0, 0.0, 0.0, 0.0, 0.0, 0.0, 0.0], [0.0, 0....  \n",
       "1  [[0.0, 0.0, 0.0, 0.0, 0.0, 0.0, 0.0], [0.0, 0....  \n",
       "2  [[0.0, 0.0, 0.0, 0.0, 0.0, 0.0, 0.0], [-16.0, ...  \n",
       "3  [[-16.0, -4.0, 1020.0, 1.79, 0.0, 0.0], [-15.0...  \n",
       "4  [[-15.0, -4.0, 1020.0, 2.68, 0.0, 0.0], [-11.0...  "
      ]
     },
     "execution_count": 400,
     "metadata": {},
     "output_type": "execute_result"
    }
   ],
   "source": [
    "train_features.head()"
   ]
  },
  {
   "cell_type": "code",
   "execution_count": 401,
   "metadata": {
    "collapsed": true
   },
   "outputs": [],
   "source": [
    "# predicting G for now, just a test example\n",
    "# If your output is multi-dimensional, you need to capture those \n",
    "# dimensions in one object\n",
    "# If your output is a single dimension, this step may be unnecessary\n",
    "def set_output_featureset(df):\n",
    "    '''\n",
    "    Let df=train_label and prepare output vector\n",
    "    '''\n",
    "    df['output_vector'] = df['future_sequences']\n",
    "    return df\n",
    "\n",
    "def set_input_featureset(df):\n",
    "    '''\n",
    "    Let df=train_features and prepare input vector\n",
    "    '''\n",
    "    df['input_vector'] = df['past_sequences']\n",
    "    return df"
   ]
  },
  {
   "cell_type": "code",
   "execution_count": 402,
   "metadata": {
    "collapsed": true,
    "scrolled": true
   },
   "outputs": [],
   "source": [
    "train_label = set_output_featureset(train_label)"
   ]
  },
  {
   "cell_type": "code",
   "execution_count": 403,
   "metadata": {},
   "outputs": [
    {
     "data": {
      "text/html": [
       "<div>\n",
       "<style>\n",
       "    .dataframe thead tr:only-child th {\n",
       "        text-align: right;\n",
       "    }\n",
       "\n",
       "    .dataframe thead th {\n",
       "        text-align: left;\n",
       "    }\n",
       "\n",
       "    .dataframe tbody tr th {\n",
       "        vertical-align: top;\n",
       "    }\n",
       "</style>\n",
       "<table border=\"1\" class=\"dataframe\">\n",
       "  <thead>\n",
       "    <tr style=\"text-align: right;\">\n",
       "      <th></th>\n",
       "      <th>pollution</th>\n",
       "      <th>single_output_vector</th>\n",
       "      <th>future_sequences</th>\n",
       "      <th>output_vector</th>\n",
       "    </tr>\n",
       "  </thead>\n",
       "  <tbody>\n",
       "    <tr>\n",
       "      <th>0</th>\n",
       "      <td>129.0</td>\n",
       "      <td>[[129.0]]</td>\n",
       "      <td>[[129.0], [148.0], [159.0]]</td>\n",
       "      <td>[[129.0], [148.0], [159.0]]</td>\n",
       "    </tr>\n",
       "    <tr>\n",
       "      <th>1</th>\n",
       "      <td>148.0</td>\n",
       "      <td>[[148.0]]</td>\n",
       "      <td>[[148.0], [159.0], [181.0]]</td>\n",
       "      <td>[[148.0], [159.0], [181.0]]</td>\n",
       "    </tr>\n",
       "    <tr>\n",
       "      <th>2</th>\n",
       "      <td>159.0</td>\n",
       "      <td>[[159.0]]</td>\n",
       "      <td>[[159.0], [181.0], [138.0]]</td>\n",
       "      <td>[[159.0], [181.0], [138.0]]</td>\n",
       "    </tr>\n",
       "    <tr>\n",
       "      <th>3</th>\n",
       "      <td>181.0</td>\n",
       "      <td>[[181.0]]</td>\n",
       "      <td>[[181.0], [138.0], [109.0]]</td>\n",
       "      <td>[[181.0], [138.0], [109.0]]</td>\n",
       "    </tr>\n",
       "    <tr>\n",
       "      <th>4</th>\n",
       "      <td>138.0</td>\n",
       "      <td>[[138.0]]</td>\n",
       "      <td>[[138.0], [109.0], [105.0]]</td>\n",
       "      <td>[[138.0], [109.0], [105.0]]</td>\n",
       "    </tr>\n",
       "  </tbody>\n",
       "</table>\n",
       "</div>"
      ],
      "text/plain": [
       "   pollution single_output_vector             future_sequences  \\\n",
       "0      129.0            [[129.0]]  [[129.0], [148.0], [159.0]]   \n",
       "1      148.0            [[148.0]]  [[148.0], [159.0], [181.0]]   \n",
       "2      159.0            [[159.0]]  [[159.0], [181.0], [138.0]]   \n",
       "3      181.0            [[181.0]]  [[181.0], [138.0], [109.0]]   \n",
       "4      138.0            [[138.0]]  [[138.0], [109.0], [105.0]]   \n",
       "\n",
       "                 output_vector  \n",
       "0  [[129.0], [148.0], [159.0]]  \n",
       "1  [[148.0], [159.0], [181.0]]  \n",
       "2  [[159.0], [181.0], [138.0]]  \n",
       "3  [[181.0], [138.0], [109.0]]  \n",
       "4  [[138.0], [109.0], [105.0]]  "
      ]
     },
     "execution_count": 403,
     "metadata": {},
     "output_type": "execute_result"
    }
   ],
   "source": [
    "train_label.head()"
   ]
  },
  {
   "cell_type": "code",
   "execution_count": 404,
   "metadata": {
    "collapsed": true
   },
   "outputs": [],
   "source": [
    "train_features = set_input_featureset(train_features)"
   ]
  },
  {
   "cell_type": "code",
   "execution_count": 405,
   "metadata": {},
   "outputs": [
    {
     "data": {
      "text/html": [
       "<div>\n",
       "<style>\n",
       "    .dataframe thead tr:only-child th {\n",
       "        text-align: right;\n",
       "    }\n",
       "\n",
       "    .dataframe thead th {\n",
       "        text-align: left;\n",
       "    }\n",
       "\n",
       "    .dataframe tbody tr th {\n",
       "        vertical-align: top;\n",
       "    }\n",
       "</style>\n",
       "<table border=\"1\" class=\"dataframe\">\n",
       "  <thead>\n",
       "    <tr style=\"text-align: right;\">\n",
       "      <th></th>\n",
       "      <th>dew</th>\n",
       "      <th>temp</th>\n",
       "      <th>press</th>\n",
       "      <th>wnd_spd</th>\n",
       "      <th>snow</th>\n",
       "      <th>rain</th>\n",
       "      <th>single_input_vector</th>\n",
       "      <th>past_sequences</th>\n",
       "      <th>input_vector</th>\n",
       "    </tr>\n",
       "  </thead>\n",
       "  <tbody>\n",
       "    <tr>\n",
       "      <th>0</th>\n",
       "      <td>-16</td>\n",
       "      <td>-4.0</td>\n",
       "      <td>1020.0</td>\n",
       "      <td>1.79</td>\n",
       "      <td>0</td>\n",
       "      <td>0</td>\n",
       "      <td>[[-16.0, -4.0, 1020.0, 1.79, 0.0, 0.0]]</td>\n",
       "      <td>[[0.0, 0.0, 0.0, 0.0, 0.0, 0.0, 0.0], [0.0, 0....</td>\n",
       "      <td>[[0.0, 0.0, 0.0, 0.0, 0.0, 0.0, 0.0], [0.0, 0....</td>\n",
       "    </tr>\n",
       "    <tr>\n",
       "      <th>1</th>\n",
       "      <td>-15</td>\n",
       "      <td>-4.0</td>\n",
       "      <td>1020.0</td>\n",
       "      <td>2.68</td>\n",
       "      <td>0</td>\n",
       "      <td>0</td>\n",
       "      <td>[[-15.0, -4.0, 1020.0, 2.68, 0.0, 0.0]]</td>\n",
       "      <td>[[0.0, 0.0, 0.0, 0.0, 0.0, 0.0, 0.0], [0.0, 0....</td>\n",
       "      <td>[[0.0, 0.0, 0.0, 0.0, 0.0, 0.0, 0.0], [0.0, 0....</td>\n",
       "    </tr>\n",
       "    <tr>\n",
       "      <th>2</th>\n",
       "      <td>-11</td>\n",
       "      <td>-5.0</td>\n",
       "      <td>1021.0</td>\n",
       "      <td>3.57</td>\n",
       "      <td>0</td>\n",
       "      <td>0</td>\n",
       "      <td>[[-11.0, -5.0, 1021.0, 3.57, 0.0, 0.0]]</td>\n",
       "      <td>[[0.0, 0.0, 0.0, 0.0, 0.0, 0.0, 0.0], [-16.0, ...</td>\n",
       "      <td>[[0.0, 0.0, 0.0, 0.0, 0.0, 0.0, 0.0], [-16.0, ...</td>\n",
       "    </tr>\n",
       "    <tr>\n",
       "      <th>3</th>\n",
       "      <td>-7</td>\n",
       "      <td>-5.0</td>\n",
       "      <td>1022.0</td>\n",
       "      <td>5.36</td>\n",
       "      <td>1</td>\n",
       "      <td>0</td>\n",
       "      <td>[[-7.0, -5.0, 1022.0, 5.36, 1.0, 0.0]]</td>\n",
       "      <td>[[-16.0, -4.0, 1020.0, 1.79, 0.0, 0.0], [-15.0...</td>\n",
       "      <td>[[-16.0, -4.0, 1020.0, 1.79, 0.0, 0.0], [-15.0...</td>\n",
       "    </tr>\n",
       "    <tr>\n",
       "      <th>4</th>\n",
       "      <td>-7</td>\n",
       "      <td>-5.0</td>\n",
       "      <td>1022.0</td>\n",
       "      <td>6.25</td>\n",
       "      <td>2</td>\n",
       "      <td>0</td>\n",
       "      <td>[[-7.0, -5.0, 1022.0, 6.25, 2.0, 0.0]]</td>\n",
       "      <td>[[-15.0, -4.0, 1020.0, 2.68, 0.0, 0.0], [-11.0...</td>\n",
       "      <td>[[-15.0, -4.0, 1020.0, 2.68, 0.0, 0.0], [-11.0...</td>\n",
       "    </tr>\n",
       "  </tbody>\n",
       "</table>\n",
       "</div>"
      ],
      "text/plain": [
       "   dew  temp   press  wnd_spd  snow  rain  \\\n",
       "0  -16  -4.0  1020.0     1.79     0     0   \n",
       "1  -15  -4.0  1020.0     2.68     0     0   \n",
       "2  -11  -5.0  1021.0     3.57     0     0   \n",
       "3   -7  -5.0  1022.0     5.36     1     0   \n",
       "4   -7  -5.0  1022.0     6.25     2     0   \n",
       "\n",
       "                       single_input_vector  \\\n",
       "0  [[-16.0, -4.0, 1020.0, 1.79, 0.0, 0.0]]   \n",
       "1  [[-15.0, -4.0, 1020.0, 2.68, 0.0, 0.0]]   \n",
       "2  [[-11.0, -5.0, 1021.0, 3.57, 0.0, 0.0]]   \n",
       "3   [[-7.0, -5.0, 1022.0, 5.36, 1.0, 0.0]]   \n",
       "4   [[-7.0, -5.0, 1022.0, 6.25, 2.0, 0.0]]   \n",
       "\n",
       "                                      past_sequences  \\\n",
       "0  [[0.0, 0.0, 0.0, 0.0, 0.0, 0.0, 0.0], [0.0, 0....   \n",
       "1  [[0.0, 0.0, 0.0, 0.0, 0.0, 0.0, 0.0], [0.0, 0....   \n",
       "2  [[0.0, 0.0, 0.0, 0.0, 0.0, 0.0, 0.0], [-16.0, ...   \n",
       "3  [[-16.0, -4.0, 1020.0, 1.79, 0.0, 0.0], [-15.0...   \n",
       "4  [[-15.0, -4.0, 1020.0, 2.68, 0.0, 0.0], [-11.0...   \n",
       "\n",
       "                                        input_vector  \n",
       "0  [[0.0, 0.0, 0.0, 0.0, 0.0, 0.0, 0.0], [0.0, 0....  \n",
       "1  [[0.0, 0.0, 0.0, 0.0, 0.0, 0.0, 0.0], [0.0, 0....  \n",
       "2  [[0.0, 0.0, 0.0, 0.0, 0.0, 0.0, 0.0], [-16.0, ...  \n",
       "3  [[-16.0, -4.0, 1020.0, 1.79, 0.0, 0.0], [-15.0...  \n",
       "4  [[-15.0, -4.0, 1020.0, 2.68, 0.0, 0.0], [-11.0...  "
      ]
     },
     "execution_count": 405,
     "metadata": {},
     "output_type": "execute_result"
    }
   ],
   "source": [
    "train_features.head()"
   ]
  },
  {
   "cell_type": "markdown",
   "metadata": {},
   "source": [
    "### Split Train into Train and Dev"
   ]
  },
  {
   "cell_type": "code",
   "execution_count": 406,
   "metadata": {
    "collapsed": true
   },
   "outputs": [],
   "source": [
    "# train_features, dev_features, train_label, dev_label = train_test_split(train_features, train_label,\n",
    "#                                                                           test_size=.20, \n",
    "#                                                                           random_state=789)"
   ]
  },
  {
   "cell_type": "code",
   "execution_count": 407,
   "metadata": {},
   "outputs": [
    {
     "ename": "ValueError",
     "evalue": "all the input arrays must have same number of dimensions",
     "output_type": "error",
     "traceback": [
      "\u001b[0;31m---------------------------------------------------------------------------\u001b[0m",
      "\u001b[0;31mValueError\u001b[0m                                Traceback (most recent call last)",
      "\u001b[0;32m<ipython-input-407-1341fc547e98>\u001b[0m in \u001b[0;36m<module>\u001b[0;34m()\u001b[0m\n\u001b[1;32m     17\u001b[0m \u001b[0;31m# The reshape essentially reshaped the inner list into an 11 by 6 matrix,\u001b[0m\u001b[0;34m\u001b[0m\u001b[0;34m\u001b[0m\u001b[0m\n\u001b[1;32m     18\u001b[0m \u001b[0;31m#  or a max_sequence_length (rows) by input_dim (col) matrix\u001b[0m\u001b[0;34m\u001b[0m\u001b[0;34m\u001b[0m\u001b[0m\n\u001b[0;32m---> 19\u001b[0;31m X_train = np.hstack(X_train_init).reshape(len(train_features), \n\u001b[0m\u001b[1;32m     20\u001b[0m                                           \u001b[0mstride_length\u001b[0m\u001b[0;34m,\u001b[0m\u001b[0;34m\u001b[0m\u001b[0m\n\u001b[1;32m     21\u001b[0m                                          len(df_features.columns) + len(df_label.columns))\n",
      "\u001b[0;32m~/anaconda3/envs/deep-air/lib/python3.6/site-packages/numpy/core/shape_base.py\u001b[0m in \u001b[0;36mhstack\u001b[0;34m(tup)\u001b[0m\n\u001b[1;32m    291\u001b[0m         \u001b[0;32mreturn\u001b[0m \u001b[0m_nx\u001b[0m\u001b[0;34m.\u001b[0m\u001b[0mconcatenate\u001b[0m\u001b[0;34m(\u001b[0m\u001b[0marrs\u001b[0m\u001b[0;34m,\u001b[0m \u001b[0;36m0\u001b[0m\u001b[0;34m)\u001b[0m\u001b[0;34m\u001b[0m\u001b[0m\n\u001b[1;32m    292\u001b[0m     \u001b[0;32melse\u001b[0m\u001b[0;34m:\u001b[0m\u001b[0;34m\u001b[0m\u001b[0m\n\u001b[0;32m--> 293\u001b[0;31m         \u001b[0;32mreturn\u001b[0m \u001b[0m_nx\u001b[0m\u001b[0;34m.\u001b[0m\u001b[0mconcatenate\u001b[0m\u001b[0;34m(\u001b[0m\u001b[0marrs\u001b[0m\u001b[0;34m,\u001b[0m \u001b[0;36m1\u001b[0m\u001b[0;34m)\u001b[0m\u001b[0;34m\u001b[0m\u001b[0m\n\u001b[0m\u001b[1;32m    294\u001b[0m \u001b[0;34m\u001b[0m\u001b[0m\n\u001b[1;32m    295\u001b[0m \u001b[0;34m\u001b[0m\u001b[0m\n",
      "\u001b[0;31mValueError\u001b[0m: all the input arrays must have same number of dimensions"
     ]
    }
   ],
   "source": [
    "# Extract your training data\n",
    "#X_train_init = np.asarray(train.past_sequences)\n",
    "X_train_init = np.asarray(train_features.past_sequences)\n",
    "stride_length = 3\n",
    "# Training data for LSTM should be in the form of a 3D tuple:\n",
    "#   (# of samples, timesteps, input_dim)\n",
    "# Note that the input data that comes out of the dataframe \n",
    "# will not make a 3D array. It makes an array of arrays, \n",
    "# which is not the same thing.\n",
    "# So far X_train_init is an array of arrays.\n",
    "\n",
    "# Convert to 3D vector usng hstack and reshape\n",
    "# horizontal stack = hstack, essentially removes the outer array \n",
    "#  encapsulation.\n",
    "\n",
    "# reshape into (# of records, total_timesteps, input_dim)\n",
    "# The reshape essentially reshaped the inner list into an 11 by 6 matrix,\n",
    "#  or a max_sequence_length (rows) by input_dim (col) matrix\n",
    "X_train = np.hstack(X_train_init).reshape(len(train_features), \n",
    "                                          stride_length,\n",
    "                                         len(df_features.columns) + len(df_label.columns))\n",
    "y_train_init = np.asarray(train_label.output_vector)\n",
    "y_train = np.hstack(y_train_init).reshape(len(train_features), \n",
    "                                          stride_length,\n",
    "                                          len(output_vec.columns))"
   ]
  },
  {
   "cell_type": "code",
   "execution_count": 411,
   "metadata": {},
   "outputs": [
    {
     "ename": "Exception",
     "evalue": "Data must be 1-dimensional",
     "output_type": "error",
     "traceback": [
      "\u001b[0;31m---------------------------------------------------------------------------\u001b[0m",
      "\u001b[0;31mException\u001b[0m                                 Traceback (most recent call last)",
      "\u001b[0;32m<ipython-input-411-58214fc96f4c>\u001b[0m in \u001b[0;36m<module>\u001b[0;34m()\u001b[0m\n\u001b[0;32m----> 1\u001b[0;31m \u001b[0mpd\u001b[0m\u001b[0;34m.\u001b[0m\u001b[0mDataFrame\u001b[0m\u001b[0;34m(\u001b[0m\u001b[0mnp\u001b[0m\u001b[0;34m.\u001b[0m\u001b[0masarray\u001b[0m\u001b[0;34m(\u001b[0m\u001b[0mtrain_features\u001b[0m\u001b[0;34m.\u001b[0m\u001b[0minput_vector\u001b[0m\u001b[0;34m)\u001b[0m\u001b[0;34m)\u001b[0m\u001b[0;34m.\u001b[0m\u001b[0mapply\u001b[0m\u001b[0;34m(\u001b[0m\u001b[0mnp\u001b[0m\u001b[0;34m.\u001b[0m\u001b[0masarray\u001b[0m\u001b[0;34m,\u001b[0m \u001b[0maxis\u001b[0m\u001b[0;34m=\u001b[0m\u001b[0;36m1\u001b[0m\u001b[0;34m)\u001b[0m\u001b[0;34m.\u001b[0m\u001b[0mapply\u001b[0m\u001b[0;34m(\u001b[0m\u001b[0mnp\u001b[0m\u001b[0;34m.\u001b[0m\u001b[0mhstack\u001b[0m\u001b[0;34m,\u001b[0m \u001b[0maxis\u001b[0m\u001b[0;34m=\u001b[0m\u001b[0;36m1\u001b[0m\u001b[0;34m)\u001b[0m\u001b[0;34m\u001b[0m\u001b[0m\n\u001b[0m",
      "\u001b[0;32m~/anaconda3/envs/deep-air/lib/python3.6/site-packages/pandas/core/frame.py\u001b[0m in \u001b[0;36mapply\u001b[0;34m(self, func, axis, broadcast, raw, reduce, args, **kwds)\u001b[0m\n\u001b[1;32m   4260\u001b[0m                         \u001b[0mf\u001b[0m\u001b[0;34m,\u001b[0m \u001b[0maxis\u001b[0m\u001b[0;34m,\u001b[0m\u001b[0;34m\u001b[0m\u001b[0m\n\u001b[1;32m   4261\u001b[0m                         \u001b[0mreduce\u001b[0m\u001b[0;34m=\u001b[0m\u001b[0mreduce\u001b[0m\u001b[0;34m,\u001b[0m\u001b[0;34m\u001b[0m\u001b[0m\n\u001b[0;32m-> 4262\u001b[0;31m                         ignore_failures=ignore_failures)\n\u001b[0m\u001b[1;32m   4263\u001b[0m             \u001b[0;32melse\u001b[0m\u001b[0;34m:\u001b[0m\u001b[0;34m\u001b[0m\u001b[0m\n\u001b[1;32m   4264\u001b[0m                 \u001b[0;32mreturn\u001b[0m \u001b[0mself\u001b[0m\u001b[0;34m.\u001b[0m\u001b[0m_apply_broadcast\u001b[0m\u001b[0;34m(\u001b[0m\u001b[0mf\u001b[0m\u001b[0;34m,\u001b[0m \u001b[0maxis\u001b[0m\u001b[0;34m)\u001b[0m\u001b[0;34m\u001b[0m\u001b[0m\n",
      "\u001b[0;32m~/anaconda3/envs/deep-air/lib/python3.6/site-packages/pandas/core/frame.py\u001b[0m in \u001b[0;36m_apply_standard\u001b[0;34m(self, func, axis, ignore_failures, reduce)\u001b[0m\n\u001b[1;32m   4373\u001b[0m                 \u001b[0mindex\u001b[0m \u001b[0;34m=\u001b[0m \u001b[0;32mNone\u001b[0m\u001b[0;34m\u001b[0m\u001b[0m\n\u001b[1;32m   4374\u001b[0m \u001b[0;34m\u001b[0m\u001b[0m\n\u001b[0;32m-> 4375\u001b[0;31m             \u001b[0mresult\u001b[0m \u001b[0;34m=\u001b[0m \u001b[0mself\u001b[0m\u001b[0;34m.\u001b[0m\u001b[0m_constructor\u001b[0m\u001b[0;34m(\u001b[0m\u001b[0mdata\u001b[0m\u001b[0;34m=\u001b[0m\u001b[0mresults\u001b[0m\u001b[0;34m,\u001b[0m \u001b[0mindex\u001b[0m\u001b[0;34m=\u001b[0m\u001b[0mindex\u001b[0m\u001b[0;34m)\u001b[0m\u001b[0;34m\u001b[0m\u001b[0m\n\u001b[0m\u001b[1;32m   4376\u001b[0m             \u001b[0mresult\u001b[0m\u001b[0;34m.\u001b[0m\u001b[0mcolumns\u001b[0m \u001b[0;34m=\u001b[0m \u001b[0mres_index\u001b[0m\u001b[0;34m\u001b[0m\u001b[0m\n\u001b[1;32m   4377\u001b[0m \u001b[0;34m\u001b[0m\u001b[0m\n",
      "\u001b[0;32m~/anaconda3/envs/deep-air/lib/python3.6/site-packages/pandas/core/frame.py\u001b[0m in \u001b[0;36m__init__\u001b[0;34m(self, data, index, columns, dtype, copy)\u001b[0m\n\u001b[1;32m    273\u001b[0m                                  dtype=dtype, copy=copy)\n\u001b[1;32m    274\u001b[0m         \u001b[0;32melif\u001b[0m \u001b[0misinstance\u001b[0m\u001b[0;34m(\u001b[0m\u001b[0mdata\u001b[0m\u001b[0;34m,\u001b[0m \u001b[0mdict\u001b[0m\u001b[0;34m)\u001b[0m\u001b[0;34m:\u001b[0m\u001b[0;34m\u001b[0m\u001b[0m\n\u001b[0;32m--> 275\u001b[0;31m             \u001b[0mmgr\u001b[0m \u001b[0;34m=\u001b[0m \u001b[0mself\u001b[0m\u001b[0;34m.\u001b[0m\u001b[0m_init_dict\u001b[0m\u001b[0;34m(\u001b[0m\u001b[0mdata\u001b[0m\u001b[0;34m,\u001b[0m \u001b[0mindex\u001b[0m\u001b[0;34m,\u001b[0m \u001b[0mcolumns\u001b[0m\u001b[0;34m,\u001b[0m \u001b[0mdtype\u001b[0m\u001b[0;34m=\u001b[0m\u001b[0mdtype\u001b[0m\u001b[0;34m)\u001b[0m\u001b[0;34m\u001b[0m\u001b[0m\n\u001b[0m\u001b[1;32m    276\u001b[0m         \u001b[0;32melif\u001b[0m \u001b[0misinstance\u001b[0m\u001b[0;34m(\u001b[0m\u001b[0mdata\u001b[0m\u001b[0;34m,\u001b[0m \u001b[0mma\u001b[0m\u001b[0;34m.\u001b[0m\u001b[0mMaskedArray\u001b[0m\u001b[0;34m)\u001b[0m\u001b[0;34m:\u001b[0m\u001b[0;34m\u001b[0m\u001b[0m\n\u001b[1;32m    277\u001b[0m             \u001b[0;32mimport\u001b[0m \u001b[0mnumpy\u001b[0m\u001b[0;34m.\u001b[0m\u001b[0mma\u001b[0m\u001b[0;34m.\u001b[0m\u001b[0mmrecords\u001b[0m \u001b[0;32mas\u001b[0m \u001b[0mmrecords\u001b[0m\u001b[0;34m\u001b[0m\u001b[0m\n",
      "\u001b[0;32m~/anaconda3/envs/deep-air/lib/python3.6/site-packages/pandas/core/frame.py\u001b[0m in \u001b[0;36m_init_dict\u001b[0;34m(self, data, index, columns, dtype)\u001b[0m\n\u001b[1;32m    409\u001b[0m             \u001b[0marrays\u001b[0m \u001b[0;34m=\u001b[0m \u001b[0;34m[\u001b[0m\u001b[0mdata\u001b[0m\u001b[0;34m[\u001b[0m\u001b[0mk\u001b[0m\u001b[0;34m]\u001b[0m \u001b[0;32mfor\u001b[0m \u001b[0mk\u001b[0m \u001b[0;32min\u001b[0m \u001b[0mkeys\u001b[0m\u001b[0;34m]\u001b[0m\u001b[0;34m\u001b[0m\u001b[0m\n\u001b[1;32m    410\u001b[0m \u001b[0;34m\u001b[0m\u001b[0m\n\u001b[0;32m--> 411\u001b[0;31m         \u001b[0;32mreturn\u001b[0m \u001b[0m_arrays_to_mgr\u001b[0m\u001b[0;34m(\u001b[0m\u001b[0marrays\u001b[0m\u001b[0;34m,\u001b[0m \u001b[0mdata_names\u001b[0m\u001b[0;34m,\u001b[0m \u001b[0mindex\u001b[0m\u001b[0;34m,\u001b[0m \u001b[0mcolumns\u001b[0m\u001b[0;34m,\u001b[0m \u001b[0mdtype\u001b[0m\u001b[0;34m=\u001b[0m\u001b[0mdtype\u001b[0m\u001b[0;34m)\u001b[0m\u001b[0;34m\u001b[0m\u001b[0m\n\u001b[0m\u001b[1;32m    412\u001b[0m \u001b[0;34m\u001b[0m\u001b[0m\n\u001b[1;32m    413\u001b[0m     \u001b[0;32mdef\u001b[0m \u001b[0m_init_ndarray\u001b[0m\u001b[0;34m(\u001b[0m\u001b[0mself\u001b[0m\u001b[0;34m,\u001b[0m \u001b[0mvalues\u001b[0m\u001b[0;34m,\u001b[0m \u001b[0mindex\u001b[0m\u001b[0;34m,\u001b[0m \u001b[0mcolumns\u001b[0m\u001b[0;34m,\u001b[0m \u001b[0mdtype\u001b[0m\u001b[0;34m=\u001b[0m\u001b[0;32mNone\u001b[0m\u001b[0;34m,\u001b[0m \u001b[0mcopy\u001b[0m\u001b[0;34m=\u001b[0m\u001b[0;32mFalse\u001b[0m\u001b[0;34m)\u001b[0m\u001b[0;34m:\u001b[0m\u001b[0;34m\u001b[0m\u001b[0m\n",
      "\u001b[0;32m~/anaconda3/envs/deep-air/lib/python3.6/site-packages/pandas/core/frame.py\u001b[0m in \u001b[0;36m_arrays_to_mgr\u001b[0;34m(arrays, arr_names, index, columns, dtype)\u001b[0m\n\u001b[1;32m   5499\u001b[0m \u001b[0;34m\u001b[0m\u001b[0m\n\u001b[1;32m   5500\u001b[0m     \u001b[0;31m# don't force copy because getting jammed in an ndarray anyway\u001b[0m\u001b[0;34m\u001b[0m\u001b[0;34m\u001b[0m\u001b[0m\n\u001b[0;32m-> 5501\u001b[0;31m     \u001b[0marrays\u001b[0m \u001b[0;34m=\u001b[0m \u001b[0m_homogenize\u001b[0m\u001b[0;34m(\u001b[0m\u001b[0marrays\u001b[0m\u001b[0;34m,\u001b[0m \u001b[0mindex\u001b[0m\u001b[0;34m,\u001b[0m \u001b[0mdtype\u001b[0m\u001b[0;34m)\u001b[0m\u001b[0;34m\u001b[0m\u001b[0m\n\u001b[0m\u001b[1;32m   5502\u001b[0m \u001b[0;34m\u001b[0m\u001b[0m\n\u001b[1;32m   5503\u001b[0m     \u001b[0;31m# from BlockManager perspective\u001b[0m\u001b[0;34m\u001b[0m\u001b[0;34m\u001b[0m\u001b[0m\n",
      "\u001b[0;32m~/anaconda3/envs/deep-air/lib/python3.6/site-packages/pandas/core/frame.py\u001b[0m in \u001b[0;36m_homogenize\u001b[0;34m(data, index, dtype)\u001b[0m\n\u001b[1;32m   5810\u001b[0m                 \u001b[0mv\u001b[0m \u001b[0;34m=\u001b[0m \u001b[0mlib\u001b[0m\u001b[0;34m.\u001b[0m\u001b[0mfast_multiget\u001b[0m\u001b[0;34m(\u001b[0m\u001b[0mv\u001b[0m\u001b[0;34m,\u001b[0m \u001b[0moindex\u001b[0m\u001b[0;34m.\u001b[0m\u001b[0mvalues\u001b[0m\u001b[0;34m,\u001b[0m \u001b[0mdefault\u001b[0m\u001b[0;34m=\u001b[0m\u001b[0mNA\u001b[0m\u001b[0;34m)\u001b[0m\u001b[0;34m\u001b[0m\u001b[0m\n\u001b[1;32m   5811\u001b[0m             v = _sanitize_array(v, index, dtype=dtype, copy=False,\n\u001b[0;32m-> 5812\u001b[0;31m                                 raise_cast_failure=False)\n\u001b[0m\u001b[1;32m   5813\u001b[0m \u001b[0;34m\u001b[0m\u001b[0m\n\u001b[1;32m   5814\u001b[0m         \u001b[0mhomogenized\u001b[0m\u001b[0;34m.\u001b[0m\u001b[0mappend\u001b[0m\u001b[0;34m(\u001b[0m\u001b[0mv\u001b[0m\u001b[0;34m)\u001b[0m\u001b[0;34m\u001b[0m\u001b[0m\n",
      "\u001b[0;32m~/anaconda3/envs/deep-air/lib/python3.6/site-packages/pandas/core/series.py\u001b[0m in \u001b[0;36m_sanitize_array\u001b[0;34m(data, index, dtype, copy, raise_cast_failure)\u001b[0m\n\u001b[1;32m   3025\u001b[0m     \u001b[0;32melif\u001b[0m \u001b[0msubarr\u001b[0m\u001b[0;34m.\u001b[0m\u001b[0mndim\u001b[0m \u001b[0;34m>\u001b[0m \u001b[0;36m1\u001b[0m\u001b[0;34m:\u001b[0m\u001b[0;34m\u001b[0m\u001b[0m\n\u001b[1;32m   3026\u001b[0m         \u001b[0;32mif\u001b[0m \u001b[0misinstance\u001b[0m\u001b[0;34m(\u001b[0m\u001b[0mdata\u001b[0m\u001b[0;34m,\u001b[0m \u001b[0mnp\u001b[0m\u001b[0;34m.\u001b[0m\u001b[0mndarray\u001b[0m\u001b[0;34m)\u001b[0m\u001b[0;34m:\u001b[0m\u001b[0;34m\u001b[0m\u001b[0m\n\u001b[0;32m-> 3027\u001b[0;31m             \u001b[0;32mraise\u001b[0m \u001b[0mException\u001b[0m\u001b[0;34m(\u001b[0m\u001b[0;34m'Data must be 1-dimensional'\u001b[0m\u001b[0;34m)\u001b[0m\u001b[0;34m\u001b[0m\u001b[0m\n\u001b[0m\u001b[1;32m   3028\u001b[0m         \u001b[0;32melse\u001b[0m\u001b[0;34m:\u001b[0m\u001b[0;34m\u001b[0m\u001b[0m\n\u001b[1;32m   3029\u001b[0m             \u001b[0msubarr\u001b[0m \u001b[0;34m=\u001b[0m \u001b[0m_asarray_tuplesafe\u001b[0m\u001b[0;34m(\u001b[0m\u001b[0mdata\u001b[0m\u001b[0;34m,\u001b[0m \u001b[0mdtype\u001b[0m\u001b[0;34m=\u001b[0m\u001b[0mdtype\u001b[0m\u001b[0;34m)\u001b[0m\u001b[0;34m\u001b[0m\u001b[0m\n",
      "\u001b[0;31mException\u001b[0m: Data must be 1-dimensional"
     ]
    }
   ],
   "source": [
    "pd.DataFrame(np.asarray(train_features.input_vector)).apply(np.asarray, axis=1).apply(np.hstack, axis=1)"
   ]
  },
  {
   "cell_type": "code",
   "execution_count": 344,
   "metadata": {},
   "outputs": [
    {
     "data": {
      "text/plain": [
       "array([ list([[0.0, 0.0, 0.0, 0.0, 0.0, 0.0, 0.0], [0.0, 0.0, 0.0, 0.0, 0.0, 0.0, 0.0], [0.0, 0.0, 0.0, 0.0, 0.0, 0.0, 0.0]]),\n",
       "       list([[0.0, 0.0, 0.0, 0.0, 0.0, 0.0, 0.0], [0.0, 0.0, 0.0, 0.0, 0.0, 0.0, 0.0], [-16.0, -4.0, 1020.0, 1.79, 0.0, 0.0]]),\n",
       "       list([[0.0, 0.0, 0.0, 0.0, 0.0, 0.0, 0.0], [-16.0, -4.0, 1020.0, 1.79, 0.0, 0.0], [-15.0, -4.0, 1020.0, 2.6800000000000002, 0.0, 0.0]]),\n",
       "       ...,\n",
       "       list([[-19.0, 7.0, 1013.0, 114.87, 0.0, 0.0], [-21.0, 7.0, 1014.0, 119.79000000000001, 0.0, 0.0], [-21.0, 7.0, 1014.0, 125.59999999999999, 0.0, 0.0]]),\n",
       "       list([[-21.0, 7.0, 1014.0, 119.79000000000001, 0.0, 0.0], [-21.0, 7.0, 1014.0, 125.59999999999999, 0.0, 0.0], [-21.0, 6.0, 1014.0, 130.52000000000001, 0.0, 0.0]]),\n",
       "       list([[-21.0, 7.0, 1014.0, 125.59999999999999, 0.0, 0.0], [-21.0, 6.0, 1014.0, 130.52000000000001, 0.0, 0.0], [-20.0, 7.0, 1014.0, 137.66999999999999, 0.0, 0.0]])], dtype=object)"
      ]
     },
     "execution_count": 344,
     "metadata": {},
     "output_type": "execute_result"
    }
   ],
   "source": [
    "np.asarray(X_train_init)"
   ]
  },
  {
   "cell_type": "code",
   "execution_count": 342,
   "metadata": {
    "scrolled": true
   },
   "outputs": [
    {
     "data": {
      "text/html": [
       "<div>\n",
       "<style>\n",
       "    .dataframe thead tr:only-child th {\n",
       "        text-align: right;\n",
       "    }\n",
       "\n",
       "    .dataframe thead th {\n",
       "        text-align: left;\n",
       "    }\n",
       "\n",
       "    .dataframe tbody tr th {\n",
       "        vertical-align: top;\n",
       "    }\n",
       "</style>\n",
       "<table border=\"1\" class=\"dataframe\">\n",
       "  <thead>\n",
       "    <tr style=\"text-align: right;\">\n",
       "      <th></th>\n",
       "      <th>0</th>\n",
       "    </tr>\n",
       "  </thead>\n",
       "  <tbody>\n",
       "    <tr>\n",
       "      <th>0</th>\n",
       "      <td>[[0.0, 0.0, 0.0, 0.0, 0.0, 0.0, 0.0], [0.0, 0....</td>\n",
       "    </tr>\n",
       "    <tr>\n",
       "      <th>1</th>\n",
       "      <td>[[0.0, 0.0, 0.0, 0.0, 0.0, 0.0, 0.0], [0.0, 0....</td>\n",
       "    </tr>\n",
       "    <tr>\n",
       "      <th>2</th>\n",
       "      <td>[[0.0, 0.0, 0.0, 0.0, 0.0, 0.0, 0.0], [-16.0, ...</td>\n",
       "    </tr>\n",
       "    <tr>\n",
       "      <th>3</th>\n",
       "      <td>[[-16.0, -4.0, 1020.0, 1.79, 0.0, 0.0], [-15.0...</td>\n",
       "    </tr>\n",
       "    <tr>\n",
       "      <th>4</th>\n",
       "      <td>[[-15.0, -4.0, 1020.0, 2.68, 0.0, 0.0], [-11.0...</td>\n",
       "    </tr>\n",
       "    <tr>\n",
       "      <th>5</th>\n",
       "      <td>[[-11.0, -5.0, 1021.0, 3.57, 0.0, 0.0], [-7.0,...</td>\n",
       "    </tr>\n",
       "    <tr>\n",
       "      <th>6</th>\n",
       "      <td>[[-7.0, -5.0, 1022.0, 5.36, 1.0, 0.0], [-7.0, ...</td>\n",
       "    </tr>\n",
       "    <tr>\n",
       "      <th>7</th>\n",
       "      <td>[[-7.0, -5.0, 1022.0, 6.25, 2.0, 0.0], [-7.0, ...</td>\n",
       "    </tr>\n",
       "    <tr>\n",
       "      <th>8</th>\n",
       "      <td>[[-7.0, -6.0, 1022.0, 7.14, 3.0, 0.0], [-7.0, ...</td>\n",
       "    </tr>\n",
       "    <tr>\n",
       "      <th>9</th>\n",
       "      <td>[[-7.0, -6.0, 1023.0, 8.93, 4.0, 0.0], [-7.0, ...</td>\n",
       "    </tr>\n",
       "    <tr>\n",
       "      <th>10</th>\n",
       "      <td>[[-7.0, -5.0, 1024.0, 10.72, 0.0, 0.0], [-8.0,...</td>\n",
       "    </tr>\n",
       "    <tr>\n",
       "      <th>11</th>\n",
       "      <td>[[-8.0, -6.0, 1024.0, 12.51, 0.0, 0.0], [-7.0,...</td>\n",
       "    </tr>\n",
       "    <tr>\n",
       "      <th>12</th>\n",
       "      <td>[[-7.0, -5.0, 1025.0, 14.3, 0.0, 0.0], [-7.0, ...</td>\n",
       "    </tr>\n",
       "    <tr>\n",
       "      <th>13</th>\n",
       "      <td>[[-7.0, -5.0, 1026.0, 17.43, 1.0, 0.0], [-8.0,...</td>\n",
       "    </tr>\n",
       "    <tr>\n",
       "      <th>14</th>\n",
       "      <td>[[-8.0, -5.0, 1026.0, 20.56, 0.0, 0.0], [-8.0,...</td>\n",
       "    </tr>\n",
       "    <tr>\n",
       "      <th>15</th>\n",
       "      <td>[[-8.0, -5.0, 1026.0, 23.69, 0.0, 0.0], [-8.0,...</td>\n",
       "    </tr>\n",
       "    <tr>\n",
       "      <th>16</th>\n",
       "      <td>[[-8.0, -5.0, 1025.0, 27.71, 0.0, 0.0], [-9.0,...</td>\n",
       "    </tr>\n",
       "    <tr>\n",
       "      <th>17</th>\n",
       "      <td>[[-9.0, -5.0, 1025.0, 31.73, 0.0, 0.0], [-9.0,...</td>\n",
       "    </tr>\n",
       "    <tr>\n",
       "      <th>18</th>\n",
       "      <td>[[-9.0, -5.0, 1025.0, 35.75, 0.0, 0.0], [-9.0,...</td>\n",
       "    </tr>\n",
       "    <tr>\n",
       "      <th>19</th>\n",
       "      <td>[[-9.0, -5.0, 1026.0, 37.54, 0.0, 0.0], [-8.0,...</td>\n",
       "    </tr>\n",
       "    <tr>\n",
       "      <th>20</th>\n",
       "      <td>[[-8.0, -5.0, 1027.0, 39.33, 0.0, 0.0], [-8.0,...</td>\n",
       "    </tr>\n",
       "    <tr>\n",
       "      <th>21</th>\n",
       "      <td>[[-8.0, -5.0, 1027.0, 42.46, 0.0, 0.0], [-8.0,...</td>\n",
       "    </tr>\n",
       "    <tr>\n",
       "      <th>22</th>\n",
       "      <td>[[-8.0, -5.0, 1028.0, 44.25, 0.0, 0.0], [-7.0,...</td>\n",
       "    </tr>\n",
       "    <tr>\n",
       "      <th>23</th>\n",
       "      <td>[[-7.0, -5.0, 1028.0, 46.04, 0.0, 0.0], [-7.0,...</td>\n",
       "    </tr>\n",
       "    <tr>\n",
       "      <th>24</th>\n",
       "      <td>[[-7.0, -5.0, 1027.0, 49.17, 1.0, 0.0], [-8.0,...</td>\n",
       "    </tr>\n",
       "    <tr>\n",
       "      <th>25</th>\n",
       "      <td>[[-8.0, -6.0, 1028.0, 52.3, 2.0, 0.0], [-8.0, ...</td>\n",
       "    </tr>\n",
       "    <tr>\n",
       "      <th>26</th>\n",
       "      <td>[[-8.0, -6.0, 1027.0, 55.43, 3.0, 0.0], [-7.0,...</td>\n",
       "    </tr>\n",
       "    <tr>\n",
       "      <th>27</th>\n",
       "      <td>[[-7.0, -6.0, 1027.0, 58.56, 4.0, 0.0], [-8.0,...</td>\n",
       "    </tr>\n",
       "    <tr>\n",
       "      <th>28</th>\n",
       "      <td>[[-8.0, -6.0, 1026.0, 61.69, 5.0, 0.0], [-8.0,...</td>\n",
       "    </tr>\n",
       "    <tr>\n",
       "      <th>29</th>\n",
       "      <td>[[-8.0, -7.0, 1026.0, 65.71, 6.0, 0.0], [-8.0,...</td>\n",
       "    </tr>\n",
       "    <tr>\n",
       "      <th>...</th>\n",
       "      <td>...</td>\n",
       "    </tr>\n",
       "    <tr>\n",
       "      <th>35011</th>\n",
       "      <td>[[-23.0, 7.0, 1014.0, 120.68, 0.0, 0.0], [-22....</td>\n",
       "    </tr>\n",
       "    <tr>\n",
       "      <th>35012</th>\n",
       "      <td>[[-22.0, 6.0, 1015.0, 126.49, 0.0, 0.0], [-22....</td>\n",
       "    </tr>\n",
       "    <tr>\n",
       "      <th>35013</th>\n",
       "      <td>[[-22.0, 5.0, 1015.0, 130.51, 0.0, 0.0], [-22....</td>\n",
       "    </tr>\n",
       "    <tr>\n",
       "      <th>35014</th>\n",
       "      <td>[[-22.0, 6.0, 1015.0, 132.3, 0.0, 0.0], [-21.0...</td>\n",
       "    </tr>\n",
       "    <tr>\n",
       "      <th>35015</th>\n",
       "      <td>[[-21.0, 5.0, 1015.0, 3.13, 0.0, 0.0], [-20.0,...</td>\n",
       "    </tr>\n",
       "    <tr>\n",
       "      <th>35016</th>\n",
       "      <td>[[-20.0, 3.0, 1015.0, 1.79, 0.0, 0.0], [-20.0,...</td>\n",
       "    </tr>\n",
       "    <tr>\n",
       "      <th>35017</th>\n",
       "      <td>[[-20.0, 3.0, 1014.0, 3.13, 0.0, 0.0], [-21.0,...</td>\n",
       "    </tr>\n",
       "    <tr>\n",
       "      <th>35018</th>\n",
       "      <td>[[-21.0, 4.0, 1014.0, 4.92, 0.0, 0.0], [-18.0,...</td>\n",
       "    </tr>\n",
       "    <tr>\n",
       "      <th>35019</th>\n",
       "      <td>[[-18.0, -2.0, 1013.0, 0.89, 0.0, 0.0], [-20.0...</td>\n",
       "    </tr>\n",
       "    <tr>\n",
       "      <th>35020</th>\n",
       "      <td>[[-20.0, 1.0, 1013.0, 1.79, 0.0, 0.0], [-18.0,...</td>\n",
       "    </tr>\n",
       "    <tr>\n",
       "      <th>35021</th>\n",
       "      <td>[[-18.0, -2.0, 1012.0, 0.89, 0.0, 0.0], [-16.0...</td>\n",
       "    </tr>\n",
       "    <tr>\n",
       "      <th>35022</th>\n",
       "      <td>[[-16.0, -5.0, 1012.0, 1.79, 0.0, 0.0], [-16.0...</td>\n",
       "    </tr>\n",
       "    <tr>\n",
       "      <th>35023</th>\n",
       "      <td>[[-16.0, -2.0, 1011.0, 3.58, 0.0, 0.0], [-15.0...</td>\n",
       "    </tr>\n",
       "    <tr>\n",
       "      <th>35024</th>\n",
       "      <td>[[-15.0, -5.0, 1011.0, 1.79, 0.0, 0.0], [-19.0...</td>\n",
       "    </tr>\n",
       "    <tr>\n",
       "      <th>35025</th>\n",
       "      <td>[[-19.0, 2.0, 1010.0, 3.13, 0.0, 0.0], [-20.0,...</td>\n",
       "    </tr>\n",
       "    <tr>\n",
       "      <th>35026</th>\n",
       "      <td>[[-20.0, 5.0, 1011.0, 10.28, 0.0, 0.0], [-19.0...</td>\n",
       "    </tr>\n",
       "    <tr>\n",
       "      <th>35027</th>\n",
       "      <td>[[-19.0, 5.0, 1012.0, 17.43, 0.0, 0.0], [-19.0...</td>\n",
       "    </tr>\n",
       "    <tr>\n",
       "      <th>35028</th>\n",
       "      <td>[[-19.0, 6.0, 1013.0, 27.26, 0.0, 0.0], [-18.0...</td>\n",
       "    </tr>\n",
       "    <tr>\n",
       "      <th>35029</th>\n",
       "      <td>[[-18.0, 7.0, 1013.0, 37.09, 0.0, 0.0], [-19.0...</td>\n",
       "    </tr>\n",
       "    <tr>\n",
       "      <th>35030</th>\n",
       "      <td>[[-19.0, 7.0, 1013.0, 46.03, 0.0, 0.0], [-18.0...</td>\n",
       "    </tr>\n",
       "    <tr>\n",
       "      <th>35031</th>\n",
       "      <td>[[-18.0, 9.0, 1012.0, 57.21, 0.0, 0.0], [-18.0...</td>\n",
       "    </tr>\n",
       "    <tr>\n",
       "      <th>35032</th>\n",
       "      <td>[[-18.0, 9.0, 1011.0, 65.26, 0.0, 0.0], [-19.0...</td>\n",
       "    </tr>\n",
       "    <tr>\n",
       "      <th>35033</th>\n",
       "      <td>[[-19.0, 9.0, 1011.0, 73.31, 0.0, 0.0], [-18.0...</td>\n",
       "    </tr>\n",
       "    <tr>\n",
       "      <th>35034</th>\n",
       "      <td>[[-18.0, 9.0, 1012.0, 83.14, 0.0, 0.0], [-18.0...</td>\n",
       "    </tr>\n",
       "    <tr>\n",
       "      <th>35035</th>\n",
       "      <td>[[-18.0, 9.0, 1012.0, 92.97, 0.0, 0.0], [-19.0...</td>\n",
       "    </tr>\n",
       "    <tr>\n",
       "      <th>35036</th>\n",
       "      <td>[[-19.0, 8.0, 1012.0, 102.8, 0.0, 0.0], [-19.0...</td>\n",
       "    </tr>\n",
       "    <tr>\n",
       "      <th>35037</th>\n",
       "      <td>[[-19.0, 8.0, 1013.0, 109.95, 0.0, 0.0], [-19....</td>\n",
       "    </tr>\n",
       "    <tr>\n",
       "      <th>35038</th>\n",
       "      <td>[[-19.0, 7.0, 1013.0, 114.87, 0.0, 0.0], [-21....</td>\n",
       "    </tr>\n",
       "    <tr>\n",
       "      <th>35039</th>\n",
       "      <td>[[-21.0, 7.0, 1014.0, 119.79, 0.0, 0.0], [-21....</td>\n",
       "    </tr>\n",
       "    <tr>\n",
       "      <th>35040</th>\n",
       "      <td>[[-21.0, 7.0, 1014.0, 125.6, 0.0, 0.0], [-21.0...</td>\n",
       "    </tr>\n",
       "  </tbody>\n",
       "</table>\n",
       "<p>35041 rows × 1 columns</p>\n",
       "</div>"
      ],
      "text/plain": [
       "                                                       0\n",
       "0      [[0.0, 0.0, 0.0, 0.0, 0.0, 0.0, 0.0], [0.0, 0....\n",
       "1      [[0.0, 0.0, 0.0, 0.0, 0.0, 0.0, 0.0], [0.0, 0....\n",
       "2      [[0.0, 0.0, 0.0, 0.0, 0.0, 0.0, 0.0], [-16.0, ...\n",
       "3      [[-16.0, -4.0, 1020.0, 1.79, 0.0, 0.0], [-15.0...\n",
       "4      [[-15.0, -4.0, 1020.0, 2.68, 0.0, 0.0], [-11.0...\n",
       "5      [[-11.0, -5.0, 1021.0, 3.57, 0.0, 0.0], [-7.0,...\n",
       "6      [[-7.0, -5.0, 1022.0, 5.36, 1.0, 0.0], [-7.0, ...\n",
       "7      [[-7.0, -5.0, 1022.0, 6.25, 2.0, 0.0], [-7.0, ...\n",
       "8      [[-7.0, -6.0, 1022.0, 7.14, 3.0, 0.0], [-7.0, ...\n",
       "9      [[-7.0, -6.0, 1023.0, 8.93, 4.0, 0.0], [-7.0, ...\n",
       "10     [[-7.0, -5.0, 1024.0, 10.72, 0.0, 0.0], [-8.0,...\n",
       "11     [[-8.0, -6.0, 1024.0, 12.51, 0.0, 0.0], [-7.0,...\n",
       "12     [[-7.0, -5.0, 1025.0, 14.3, 0.0, 0.0], [-7.0, ...\n",
       "13     [[-7.0, -5.0, 1026.0, 17.43, 1.0, 0.0], [-8.0,...\n",
       "14     [[-8.0, -5.0, 1026.0, 20.56, 0.0, 0.0], [-8.0,...\n",
       "15     [[-8.0, -5.0, 1026.0, 23.69, 0.0, 0.0], [-8.0,...\n",
       "16     [[-8.0, -5.0, 1025.0, 27.71, 0.0, 0.0], [-9.0,...\n",
       "17     [[-9.0, -5.0, 1025.0, 31.73, 0.0, 0.0], [-9.0,...\n",
       "18     [[-9.0, -5.0, 1025.0, 35.75, 0.0, 0.0], [-9.0,...\n",
       "19     [[-9.0, -5.0, 1026.0, 37.54, 0.0, 0.0], [-8.0,...\n",
       "20     [[-8.0, -5.0, 1027.0, 39.33, 0.0, 0.0], [-8.0,...\n",
       "21     [[-8.0, -5.0, 1027.0, 42.46, 0.0, 0.0], [-8.0,...\n",
       "22     [[-8.0, -5.0, 1028.0, 44.25, 0.0, 0.0], [-7.0,...\n",
       "23     [[-7.0, -5.0, 1028.0, 46.04, 0.0, 0.0], [-7.0,...\n",
       "24     [[-7.0, -5.0, 1027.0, 49.17, 1.0, 0.0], [-8.0,...\n",
       "25     [[-8.0, -6.0, 1028.0, 52.3, 2.0, 0.0], [-8.0, ...\n",
       "26     [[-8.0, -6.0, 1027.0, 55.43, 3.0, 0.0], [-7.0,...\n",
       "27     [[-7.0, -6.0, 1027.0, 58.56, 4.0, 0.0], [-8.0,...\n",
       "28     [[-8.0, -6.0, 1026.0, 61.69, 5.0, 0.0], [-8.0,...\n",
       "29     [[-8.0, -7.0, 1026.0, 65.71, 6.0, 0.0], [-8.0,...\n",
       "...                                                  ...\n",
       "35011  [[-23.0, 7.0, 1014.0, 120.68, 0.0, 0.0], [-22....\n",
       "35012  [[-22.0, 6.0, 1015.0, 126.49, 0.0, 0.0], [-22....\n",
       "35013  [[-22.0, 5.0, 1015.0, 130.51, 0.0, 0.0], [-22....\n",
       "35014  [[-22.0, 6.0, 1015.0, 132.3, 0.0, 0.0], [-21.0...\n",
       "35015  [[-21.0, 5.0, 1015.0, 3.13, 0.0, 0.0], [-20.0,...\n",
       "35016  [[-20.0, 3.0, 1015.0, 1.79, 0.0, 0.0], [-20.0,...\n",
       "35017  [[-20.0, 3.0, 1014.0, 3.13, 0.0, 0.0], [-21.0,...\n",
       "35018  [[-21.0, 4.0, 1014.0, 4.92, 0.0, 0.0], [-18.0,...\n",
       "35019  [[-18.0, -2.0, 1013.0, 0.89, 0.0, 0.0], [-20.0...\n",
       "35020  [[-20.0, 1.0, 1013.0, 1.79, 0.0, 0.0], [-18.0,...\n",
       "35021  [[-18.0, -2.0, 1012.0, 0.89, 0.0, 0.0], [-16.0...\n",
       "35022  [[-16.0, -5.0, 1012.0, 1.79, 0.0, 0.0], [-16.0...\n",
       "35023  [[-16.0, -2.0, 1011.0, 3.58, 0.0, 0.0], [-15.0...\n",
       "35024  [[-15.0, -5.0, 1011.0, 1.79, 0.0, 0.0], [-19.0...\n",
       "35025  [[-19.0, 2.0, 1010.0, 3.13, 0.0, 0.0], [-20.0,...\n",
       "35026  [[-20.0, 5.0, 1011.0, 10.28, 0.0, 0.0], [-19.0...\n",
       "35027  [[-19.0, 5.0, 1012.0, 17.43, 0.0, 0.0], [-19.0...\n",
       "35028  [[-19.0, 6.0, 1013.0, 27.26, 0.0, 0.0], [-18.0...\n",
       "35029  [[-18.0, 7.0, 1013.0, 37.09, 0.0, 0.0], [-19.0...\n",
       "35030  [[-19.0, 7.0, 1013.0, 46.03, 0.0, 0.0], [-18.0...\n",
       "35031  [[-18.0, 9.0, 1012.0, 57.21, 0.0, 0.0], [-18.0...\n",
       "35032  [[-18.0, 9.0, 1011.0, 65.26, 0.0, 0.0], [-19.0...\n",
       "35033  [[-19.0, 9.0, 1011.0, 73.31, 0.0, 0.0], [-18.0...\n",
       "35034  [[-18.0, 9.0, 1012.0, 83.14, 0.0, 0.0], [-18.0...\n",
       "35035  [[-18.0, 9.0, 1012.0, 92.97, 0.0, 0.0], [-19.0...\n",
       "35036  [[-19.0, 8.0, 1012.0, 102.8, 0.0, 0.0], [-19.0...\n",
       "35037  [[-19.0, 8.0, 1013.0, 109.95, 0.0, 0.0], [-19....\n",
       "35038  [[-19.0, 7.0, 1013.0, 114.87, 0.0, 0.0], [-21....\n",
       "35039  [[-21.0, 7.0, 1014.0, 119.79, 0.0, 0.0], [-21....\n",
       "35040  [[-21.0, 7.0, 1014.0, 125.6, 0.0, 0.0], [-21.0...\n",
       "\n",
       "[35041 rows x 1 columns]"
      ]
     },
     "execution_count": 342,
     "metadata": {},
     "output_type": "execute_result"
    }
   ],
   "source": [
    "pd.DataFrame(X_train_init)"
   ]
  },
  {
   "cell_type": "code",
   "execution_count": 291,
   "metadata": {},
   "outputs": [
    {
     "ename": "ValueError",
     "evalue": "all the input arrays must have same number of dimensions",
     "output_type": "error",
     "traceback": [
      "\u001b[0;31m---------------------------------------------------------------------------\u001b[0m",
      "\u001b[0;31mValueError\u001b[0m                                Traceback (most recent call last)",
      "\u001b[0;32m<ipython-input-291-a65cc5fa5c99>\u001b[0m in \u001b[0;36m<module>\u001b[0;34m()\u001b[0m\n\u001b[0;32m----> 1\u001b[0;31m \u001b[0mnp\u001b[0m\u001b[0;34m.\u001b[0m\u001b[0mhstack\u001b[0m\u001b[0;34m(\u001b[0m\u001b[0mX_train_init\u001b[0m\u001b[0;34m)\u001b[0m\u001b[0;34m\u001b[0m\u001b[0m\n\u001b[0m",
      "\u001b[0;32m~/anaconda3/envs/deep-air/lib/python3.6/site-packages/numpy/core/shape_base.py\u001b[0m in \u001b[0;36mhstack\u001b[0;34m(tup)\u001b[0m\n\u001b[1;32m    291\u001b[0m         \u001b[0;32mreturn\u001b[0m \u001b[0m_nx\u001b[0m\u001b[0;34m.\u001b[0m\u001b[0mconcatenate\u001b[0m\u001b[0;34m(\u001b[0m\u001b[0marrs\u001b[0m\u001b[0;34m,\u001b[0m \u001b[0;36m0\u001b[0m\u001b[0;34m)\u001b[0m\u001b[0;34m\u001b[0m\u001b[0m\n\u001b[1;32m    292\u001b[0m     \u001b[0;32melse\u001b[0m\u001b[0;34m:\u001b[0m\u001b[0;34m\u001b[0m\u001b[0m\n\u001b[0;32m--> 293\u001b[0;31m         \u001b[0;32mreturn\u001b[0m \u001b[0m_nx\u001b[0m\u001b[0;34m.\u001b[0m\u001b[0mconcatenate\u001b[0m\u001b[0;34m(\u001b[0m\u001b[0marrs\u001b[0m\u001b[0;34m,\u001b[0m \u001b[0;36m1\u001b[0m\u001b[0;34m)\u001b[0m\u001b[0;34m\u001b[0m\u001b[0m\n\u001b[0m\u001b[1;32m    294\u001b[0m \u001b[0;34m\u001b[0m\u001b[0m\n\u001b[1;32m    295\u001b[0m \u001b[0;34m\u001b[0m\u001b[0m\n",
      "\u001b[0;31mValueError\u001b[0m: all the input arrays must have same number of dimensions"
     ]
    }
   ],
   "source": [
    "np.hstack(X_train_init)"
   ]
  },
  {
   "cell_type": "code",
   "execution_count": 92,
   "metadata": {
    "collapsed": true
   },
   "outputs": [],
   "source": [
    "#np.hstack(y_train_init)"
   ]
  },
  {
   "cell_type": "code",
   "execution_count": 93,
   "metadata": {},
   "outputs": [
    {
     "data": {
      "text/plain": [
       "(43800, 9)"
      ]
     },
     "execution_count": 93,
     "metadata": {},
     "output_type": "execute_result"
    }
   ],
   "source": [
    "len(train), len(df.columns)"
   ]
  },
  {
   "cell_type": "code",
   "execution_count": 283,
   "metadata": {},
   "outputs": [
    {
     "ename": "TypeError",
     "evalue": "object of type 'int' has no len()",
     "output_type": "error",
     "traceback": [
      "\u001b[0;31m---------------------------------------------------------------------------\u001b[0m",
      "\u001b[0;31mTypeError\u001b[0m                                 Traceback (most recent call last)",
      "\u001b[0;32m<ipython-input-283-1e02ffae4042>\u001b[0m in \u001b[0;36m<module>\u001b[0;34m()\u001b[0m\n\u001b[1;32m      1\u001b[0m \u001b[0;31m# #Debugging\u001b[0m\u001b[0;34m\u001b[0m\u001b[0;34m\u001b[0m\u001b[0m\n\u001b[0;32m----> 2\u001b[0;31m \u001b[0mtrain\u001b[0m\u001b[0;34m[\u001b[0m\u001b[0mtrain\u001b[0m\u001b[0;34m.\u001b[0m\u001b[0moutput_vector\u001b[0m\u001b[0;34m.\u001b[0m\u001b[0mapply\u001b[0m\u001b[0;34m(\u001b[0m\u001b[0;32mlambda\u001b[0m \u001b[0mx\u001b[0m\u001b[0;34m:\u001b[0m \u001b[0;32mTrue\u001b[0m \u001b[0;32mif\u001b[0m \u001b[0mlen\u001b[0m\u001b[0;34m(\u001b[0m\u001b[0mx\u001b[0m\u001b[0;34m)\u001b[0m \u001b[0;34m!=\u001b[0m \u001b[0;36m3\u001b[0m \u001b[0;32melse\u001b[0m \u001b[0;32mFalse\u001b[0m\u001b[0;34m)\u001b[0m\u001b[0;34m]\u001b[0m\u001b[0;34m\u001b[0m\u001b[0m\n\u001b[0m",
      "\u001b[0;32m~/anaconda3/envs/deep-air/lib/python3.6/site-packages/pandas/core/series.py\u001b[0m in \u001b[0;36mapply\u001b[0;34m(self, func, convert_dtype, args, **kwds)\u001b[0m\n\u001b[1;32m   2353\u001b[0m             \u001b[0;32melse\u001b[0m\u001b[0;34m:\u001b[0m\u001b[0;34m\u001b[0m\u001b[0m\n\u001b[1;32m   2354\u001b[0m                 \u001b[0mvalues\u001b[0m \u001b[0;34m=\u001b[0m \u001b[0mself\u001b[0m\u001b[0;34m.\u001b[0m\u001b[0masobject\u001b[0m\u001b[0;34m\u001b[0m\u001b[0m\n\u001b[0;32m-> 2355\u001b[0;31m                 \u001b[0mmapped\u001b[0m \u001b[0;34m=\u001b[0m \u001b[0mlib\u001b[0m\u001b[0;34m.\u001b[0m\u001b[0mmap_infer\u001b[0m\u001b[0;34m(\u001b[0m\u001b[0mvalues\u001b[0m\u001b[0;34m,\u001b[0m \u001b[0mf\u001b[0m\u001b[0;34m,\u001b[0m \u001b[0mconvert\u001b[0m\u001b[0;34m=\u001b[0m\u001b[0mconvert_dtype\u001b[0m\u001b[0;34m)\u001b[0m\u001b[0;34m\u001b[0m\u001b[0m\n\u001b[0m\u001b[1;32m   2356\u001b[0m \u001b[0;34m\u001b[0m\u001b[0m\n\u001b[1;32m   2357\u001b[0m         \u001b[0;32mif\u001b[0m \u001b[0mlen\u001b[0m\u001b[0;34m(\u001b[0m\u001b[0mmapped\u001b[0m\u001b[0;34m)\u001b[0m \u001b[0;32mand\u001b[0m \u001b[0misinstance\u001b[0m\u001b[0;34m(\u001b[0m\u001b[0mmapped\u001b[0m\u001b[0;34m[\u001b[0m\u001b[0;36m0\u001b[0m\u001b[0;34m]\u001b[0m\u001b[0;34m,\u001b[0m \u001b[0mSeries\u001b[0m\u001b[0;34m)\u001b[0m\u001b[0;34m:\u001b[0m\u001b[0;34m\u001b[0m\u001b[0m\n",
      "\u001b[0;32mpandas/_libs/src/inference.pyx\u001b[0m in \u001b[0;36mpandas._libs.lib.map_infer (pandas/_libs/lib.c:66645)\u001b[0;34m()\u001b[0m\n",
      "\u001b[0;32m<ipython-input-283-1e02ffae4042>\u001b[0m in \u001b[0;36m<lambda>\u001b[0;34m(x)\u001b[0m\n\u001b[1;32m      1\u001b[0m \u001b[0;31m# #Debugging\u001b[0m\u001b[0;34m\u001b[0m\u001b[0;34m\u001b[0m\u001b[0m\n\u001b[0;32m----> 2\u001b[0;31m \u001b[0mtrain\u001b[0m\u001b[0;34m[\u001b[0m\u001b[0mtrain\u001b[0m\u001b[0;34m.\u001b[0m\u001b[0moutput_vector\u001b[0m\u001b[0;34m.\u001b[0m\u001b[0mapply\u001b[0m\u001b[0;34m(\u001b[0m\u001b[0;32mlambda\u001b[0m \u001b[0mx\u001b[0m\u001b[0;34m:\u001b[0m \u001b[0;32mTrue\u001b[0m \u001b[0;32mif\u001b[0m \u001b[0mlen\u001b[0m\u001b[0;34m(\u001b[0m\u001b[0mx\u001b[0m\u001b[0;34m)\u001b[0m \u001b[0;34m!=\u001b[0m \u001b[0;36m3\u001b[0m \u001b[0;32melse\u001b[0m \u001b[0;32mFalse\u001b[0m\u001b[0;34m)\u001b[0m\u001b[0;34m]\u001b[0m\u001b[0;34m\u001b[0m\u001b[0m\n\u001b[0m",
      "\u001b[0;31mTypeError\u001b[0m: object of type 'int' has no len()"
     ]
    }
   ],
   "source": [
    "# #Debugging\n",
    "#train[train.output_vector.apply(lambda x: True if len(x) != 3 else False)]"
   ]
  },
  {
   "cell_type": "code",
   "execution_count": 347,
   "metadata": {},
   "outputs": [
    {
     "data": {
      "text/html": [
       "<div>\n",
       "<style>\n",
       "    .dataframe thead tr:only-child th {\n",
       "        text-align: right;\n",
       "    }\n",
       "\n",
       "    .dataframe thead th {\n",
       "        text-align: left;\n",
       "    }\n",
       "\n",
       "    .dataframe tbody tr th {\n",
       "        vertical-align: top;\n",
       "    }\n",
       "</style>\n",
       "<table border=\"1\" class=\"dataframe\">\n",
       "  <thead>\n",
       "    <tr style=\"text-align: right;\">\n",
       "      <th></th>\n",
       "      <th>dew</th>\n",
       "      <th>temp</th>\n",
       "      <th>press</th>\n",
       "      <th>wnd_spd</th>\n",
       "      <th>snow</th>\n",
       "      <th>rain</th>\n",
       "      <th>single_input_vector</th>\n",
       "      <th>past_sequences</th>\n",
       "      <th>input_vector</th>\n",
       "    </tr>\n",
       "  </thead>\n",
       "  <tbody>\n",
       "  </tbody>\n",
       "</table>\n",
       "</div>"
      ],
      "text/plain": [
       "Empty DataFrame\n",
       "Columns: [dew, temp, press, wnd_spd, snow, rain, single_input_vector, past_sequences, input_vector]\n",
       "Index: []"
      ]
     },
     "execution_count": 347,
     "metadata": {},
     "output_type": "execute_result"
    }
   ],
   "source": [
    "train_features[train_features.input_vector.apply(lambda x: True if len(x) != 3 else False)]"
   ]
  },
  {
   "cell_type": "code",
   "execution_count": 95,
   "metadata": {},
   "outputs": [
    {
     "name": "stdout",
     "output_type": "stream",
     "text": [
      "(43800, 3, 7)\n",
      "(43800, 3, 1)\n"
     ]
    }
   ],
   "source": [
    "print(X_train.shape)\n",
    "print(y_train.shape)"
   ]
  },
  {
   "cell_type": "code",
   "execution_count": null,
   "metadata": {
    "collapsed": true
   },
   "outputs": [],
   "source": []
  },
  {
   "cell_type": "code",
   "execution_count": 96,
   "metadata": {
    "collapsed": true
   },
   "outputs": [],
   "source": [
    "# Get your input dimensions\n",
    "# Input length is the length for one input sequence \n",
    "#  (i.e. the number of rows for your sample, which is\n",
    "#     the max_sequence_length by construction)\n",
    "input_length = X_train.shape[1]\n",
    "# Input dim is the number of dimensions in one input vector \n",
    "#  (i.e. number of input columns)\n",
    "input_dim = X_train.shape[2]\n",
    "output_dim = len(y_train[0])"
   ]
  },
  {
   "cell_type": "code",
   "execution_count": 97,
   "metadata": {},
   "outputs": [
    {
     "data": {
      "text/plain": [
       "3"
      ]
     },
     "execution_count": 97,
     "metadata": {},
     "output_type": "execute_result"
    }
   ],
   "source": [
    "input_length"
   ]
  },
  {
   "cell_type": "code",
   "execution_count": 101,
   "metadata": {},
   "outputs": [
    {
     "ename": "ImportError",
     "evalue": "cannot import name 'CuDNNLSTM'",
     "output_type": "error",
     "traceback": [
      "\u001b[0;31m---------------------------------------------------------------------------\u001b[0m",
      "\u001b[0;31mImportError\u001b[0m                               Traceback (most recent call last)",
      "\u001b[0;32m<ipython-input-101-4a1051a3d903>\u001b[0m in \u001b[0;36m<module>\u001b[0;34m()\u001b[0m\n\u001b[0;32m----> 1\u001b[0;31m \u001b[0;32mfrom\u001b[0m \u001b[0mkeras\u001b[0m\u001b[0;34m.\u001b[0m\u001b[0mlayers\u001b[0m \u001b[0;32mimport\u001b[0m \u001b[0mCuDNNLSTM\u001b[0m\u001b[0;34m\u001b[0m\u001b[0m\n\u001b[0m\u001b[1;32m      2\u001b[0m \u001b[0;31m# Room to build a GPU-powered network using CuDNNLSTM\u001b[0m\u001b[0;34m\u001b[0m\u001b[0;34m\u001b[0m\u001b[0m\n\u001b[1;32m      3\u001b[0m \u001b[0mmodel_GPU\u001b[0m \u001b[0;34m=\u001b[0m \u001b[0mSequential\u001b[0m\u001b[0;34m(\u001b[0m\u001b[0;34m)\u001b[0m\u001b[0;34m\u001b[0m\u001b[0m\n\u001b[1;32m      4\u001b[0m \u001b[0mmodel_GPU\u001b[0m\u001b[0;34m.\u001b[0m\u001b[0madd\u001b[0m\u001b[0;34m(\u001b[0m\u001b[0mCuDNNLSTM\u001b[0m\u001b[0;34m(\u001b[0m\u001b[0;36m100\u001b[0m\u001b[0;34m,\u001b[0m \u001b[0minput_shape\u001b[0m\u001b[0;34m=\u001b[0m\u001b[0;34m(\u001b[0m\u001b[0minput_length\u001b[0m\u001b[0;34m,\u001b[0m \u001b[0minput_dim\u001b[0m\u001b[0;34m)\u001b[0m\u001b[0;34m,\u001b[0m \u001b[0mreturn_sequences\u001b[0m\u001b[0;34m=\u001b[0m\u001b[0;32mTrue\u001b[0m\u001b[0;34m)\u001b[0m\u001b[0;34m)\u001b[0m\u001b[0;34m\u001b[0m\u001b[0m\n\u001b[1;32m      5\u001b[0m \u001b[0mmodel_GPU\u001b[0m\u001b[0;34m.\u001b[0m\u001b[0madd\u001b[0m\u001b[0;34m(\u001b[0m\u001b[0mDropout\u001b[0m\u001b[0;34m(\u001b[0m\u001b[0;36m.20\u001b[0m\u001b[0;34m)\u001b[0m\u001b[0;34m)\u001b[0m\u001b[0;34m\u001b[0m\u001b[0m\n",
      "\u001b[0;31mImportError\u001b[0m: cannot import name 'CuDNNLSTM'"
     ]
    }
   ],
   "source": [
    "from keras.layers import CuDNNLSTM\n",
    "# Room to build a GPU-powered network using CuDNNLSTM\n",
    "model_GPU = Sequential()\n",
    "model_GPU.add(CuDNNLSTM(100, input_shape=(input_length, input_dim), return_sequences=True))\n",
    "model_GPU.add(Dropout(.20))\n",
    "model_GPU.add(CuDNNLSTM(50, input_shape=(input_length, input_dim), return_sequences=True))\n",
    "model_GPU.add(Dropout(.20))\n",
    "model_GPU.add(TimeDistributed(Dense(1, activation='softmax')))\n",
    "\n"
   ]
  },
  {
   "cell_type": "code",
   "execution_count": 141,
   "metadata": {
    "collapsed": true
   },
   "outputs": [],
   "source": [
    "model_GPU.compile(loss='mse',\n",
    "             optimizer='adam',\n",
    "             metrics=['accuracy'])"
   ]
  },
  {
   "cell_type": "code",
   "execution_count": 143,
   "metadata": {},
   "outputs": [
    {
     "name": "stdout",
     "output_type": "stream",
     "text": [
      "Epoch 1/10\n",
      "35040/35040 [==============================] - 2s 66us/step - loss: 2.0061 - acc: 0.0000e+00\n",
      "Epoch 2/10\n",
      "35040/35040 [==============================] - 2s 66us/step - loss: 2.0061 - acc: 0.0000e+00\n",
      "Epoch 3/10\n",
      "35040/35040 [==============================] - 2s 66us/step - loss: 2.0061 - acc: 0.0000e+00\n",
      "Epoch 4/10\n",
      "35040/35040 [==============================] - 2s 66us/step - loss: 2.0061 - acc: 0.0000e+00\n",
      "Epoch 5/10\n",
      "35040/35040 [==============================] - 2s 66us/step - loss: 2.0061 - acc: 0.0000e+00\n",
      "Epoch 6/10\n",
      "35040/35040 [==============================] - 2s 67us/step - loss: 2.0061 - acc: 0.0000e+00\n",
      "Epoch 7/10\n",
      "35040/35040 [==============================] - 2s 67us/step - loss: 2.0061 - acc: 0.0000e+00\n",
      "Epoch 8/10\n",
      "35040/35040 [==============================] - 2s 66us/step - loss: 2.0061 - acc: 0.0000e+00\n",
      "Epoch 9/10\n",
      "35040/35040 [==============================] - 2s 66us/step - loss: 2.0061 - acc: 0.0000e+00\n",
      "Epoch 10/10\n",
      "35040/35040 [==============================] - 2s 67us/step - loss: 2.0061 - acc: 0.0000e+00\n"
     ]
    }
   ],
   "source": [
    "# Set batch_size to 30 to show that it doesn't have to be a factor \n",
    "# or multiple of your sample size\n",
    "history = model_GPU.fit(X_train, y_train,\n",
    "                   batch_size = 24*5, epochs=10,\n",
    "                   verbose = 1)"
   ]
  },
  {
   "cell_type": "code",
   "execution_count": null,
   "metadata": {
    "collapsed": true
   },
   "outputs": [],
   "source": [
    "# Reduced from 2 hours per epoch in a CPU to 2 minutes per epoch in the GPU"
   ]
  },
  {
   "cell_type": "code",
   "execution_count": 87,
   "metadata": {
    "collapsed": true
   },
   "outputs": [],
   "source": [
    "from keras.models import Model, Sequential\n",
    "from keras.layers import LSTM, Dense, TimeDistributed, Dropout\n",
    "\n",
    "# Initialize the model\n",
    "model_simple = Sequential()\n",
    "# 100 is the units, which is the size of the hidden vector at any given state\n",
    "# input_length is the stride_length, which is equivalent to the number of cells\n",
    "model_simple.add(LSTM(100, input_shape=(input_length, input_dim), return_sequences=True))\n",
    "#model_simple.add(LSTM(50, input_shape=(input_length, input_dim), return_sequences=True))\n",
    "model_simple.add(TimeDistributed(Dense(1, activation='linear')))\n",
    "\n",
    "\n",
    "# Below is a very large, 6-layer network (Takes a lot of time to run)\n",
    "model = Sequential()\n",
    "# arbitrarily picked the output dim to be 100\n",
    "model.add(LSTM(2048, input_shape=(input_length, input_dim), return_sequences=True))\n",
    "# The max output value is > 1 so used relu as final activation\n",
    "# 2048 is the output dimension in the layer\n",
    "# Input to this layer will have a shape (None, 3, 50) where 3 = stride_length, None = batch_size,\n",
    "#   and 2048 = output layer size\n",
    "# Add dropout probability\n",
    "model.add(Dropout(0.2))\n",
    "# Another LSTM layer\n",
    "model.add(LSTM(1024, return_sequences=True))\n",
    "model.add(Dropout(0.2))\n",
    "model.add(LSTM(512, return_sequences=True))\n",
    "model.add(Dropout(0.2))\n",
    "model.add(LSTM(512, return_sequences=True))\n",
    "model.add(Dropout(0.2))\n",
    "# Output dimension of 7, since I have a feature length of 7 (pollution + weather stuff)\n",
    "#model.add(Dense(7, activation='softmax'))\n",
    "# Output dimension of 1, since I have a feature length of 1 (pollution is only output feature)\n",
    "model.add(TimeDistributed(Dense(1, activation='linear')))\n",
    "#model.add(Dense(output_dim, activation='relu'))\n",
    "\n",
    "# model.compile(loss='mean_squared_error',\n",
    "#              optimizer='rmsprop',\n",
    "#              metrics=['accuracy'])"
   ]
  },
  {
   "cell_type": "code",
   "execution_count": 88,
   "metadata": {
    "collapsed": true
   },
   "outputs": [],
   "source": [
    "model_simple.compile(loss='mse',\n",
    "             optimizer='adam',\n",
    "             metrics=['accuracy'])"
   ]
  },
  {
   "cell_type": "code",
   "execution_count": 89,
   "metadata": {
    "scrolled": false
   },
   "outputs": [
    {
     "name": "stdout",
     "output_type": "stream",
     "text": [
      "Epoch 1/5\n",
      "35040/35040 [==============================] - 17s 488us/step - loss: 13368.9472 - acc: 0.0070\n",
      "Epoch 2/5\n",
      "35040/35040 [==============================] - 14s 405us/step - loss: 9420.4976 - acc: 0.0052\n",
      "Epoch 3/5\n",
      "35040/35040 [==============================] - 14s 405us/step - loss: 8671.4822 - acc: 0.0042\n",
      "Epoch 4/5\n",
      "35040/35040 [==============================] - 14s 405us/step - loss: 8628.8452 - acc: 0.0039\n",
      "Epoch 5/5\n",
      "35040/35040 [==============================] - 14s 406us/step - loss: 8627.3278 - acc: 0.0041\n"
     ]
    }
   ],
   "source": [
    "# Set batch_size to 30 to show that it doesn't have to be a factor \n",
    "# or multiple of your sample size\n",
    "history = model_simple.fit(X_train, y_train,\n",
    "                   batch_size = 20, epochs=5,\n",
    "                   verbose = 1)"
   ]
  },
  {
   "cell_type": "code",
   "execution_count": null,
   "metadata": {
    "collapsed": true
   },
   "outputs": [],
   "source": [
    "# Took 1.5min on CPU --> On GPU it took 40 seconds"
   ]
  },
  {
   "cell_type": "code",
   "execution_count": 43,
   "metadata": {
    "scrolled": true
   },
   "outputs": [
    {
     "data": {
      "text/plain": [
       "array([[[   9.75070953],\n",
       "        [  36.31097412],\n",
       "        [ 104.66318512]],\n",
       "\n",
       "       [[  82.32813263],\n",
       "        [  97.49900055],\n",
       "        [  99.82424927]],\n",
       "\n",
       "       [[  82.32813263],\n",
       "        [  97.49900055],\n",
       "        [  99.82424927]],\n",
       "\n",
       "       ..., \n",
       "       [[  82.32813263],\n",
       "        [  97.49900055],\n",
       "        [  99.82424927]],\n",
       "\n",
       "       [[  82.32813263],\n",
       "        [  97.49900055],\n",
       "        [  99.82424927]],\n",
       "\n",
       "       [[  82.32813263],\n",
       "        [  97.49900055],\n",
       "        [  99.82424927]]], dtype=float32)"
      ]
     },
     "execution_count": 43,
     "metadata": {},
     "output_type": "execute_result"
    }
   ],
   "source": [
    "model.predict(X_train)"
   ]
  },
  {
   "cell_type": "code",
   "execution_count": 44,
   "metadata": {},
   "outputs": [
    {
     "data": {
      "text/plain": [
       "array([[[  11.],\n",
       "        [  27.],\n",
       "        [  85.]],\n",
       "\n",
       "       [[  15.],\n",
       "        [  28.],\n",
       "        [  21.]],\n",
       "\n",
       "       [[ 143.],\n",
       "        [  79.],\n",
       "        [ 230.]],\n",
       "\n",
       "       ..., \n",
       "       [[  53.],\n",
       "        [ 259.],\n",
       "        [  93.]],\n",
       "\n",
       "       [[  85.],\n",
       "        [ 118.],\n",
       "        [  11.]],\n",
       "\n",
       "       [[ 126.],\n",
       "        [ 126.],\n",
       "        [ 126.]]])"
      ]
     },
     "execution_count": 44,
     "metadata": {},
     "output_type": "execute_result"
    }
   ],
   "source": [
    "y_train"
   ]
  },
  {
   "cell_type": "code",
   "execution_count": null,
   "metadata": {
    "collapsed": true
   },
   "outputs": [],
   "source": []
  }
 ],
 "metadata": {
  "anaconda-cloud": {},
  "kernelspec": {
   "display_name": "Python [conda env:deep-air]",
   "language": "python",
   "name": "conda-env-deep-air-py"
  },
  "language_info": {
   "codemirror_mode": {
    "name": "ipython",
    "version": 3
   },
   "file_extension": ".py",
   "mimetype": "text/x-python",
   "name": "python",
   "nbconvert_exporter": "python",
   "pygments_lexer": "ipython3",
   "version": "3.6.2"
  }
 },
 "nbformat": 4,
 "nbformat_minor": 2
}
