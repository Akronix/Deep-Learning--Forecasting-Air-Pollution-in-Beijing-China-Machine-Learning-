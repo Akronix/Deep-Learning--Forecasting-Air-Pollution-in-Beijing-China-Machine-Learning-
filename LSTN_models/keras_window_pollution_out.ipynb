{
 "cells": [
  {
   "cell_type": "markdown",
   "metadata": {},
   "source": [
    "Imports"
   ]
  },
  {
   "cell_type": "code",
   "execution_count": 1,
   "metadata": {},
   "outputs": [
    {
     "name": "stderr",
     "output_type": "stream",
     "text": [
      "Using TensorFlow backend.\n"
     ]
    }
   ],
   "source": [
    "from math import sqrt\n",
    "from numpy import concatenate\n",
    "from matplotlib import pyplot as plt\n",
    "%matplotlib inline\n",
    "from sklearn.preprocessing import MinMaxScaler\n",
    "from sklearn.preprocessing import LabelEncoder\n",
    "from sklearn.metrics import mean_squared_error\n",
    "from keras.models import Sequential\n",
    "from keras.layers import Dense\n",
    "from keras.layers import LSTM\n",
    "import numpy as np\n",
    "import pandas as pd\n",
    "import time"
   ]
  },
  {
   "cell_type": "code",
   "execution_count": 2,
   "metadata": {
    "collapsed": true
   },
   "outputs": [],
   "source": [
    "from sklearn.model_selection import train_test_split\n",
    "from keras.preprocessing.sequence import pad_sequences"
   ]
  },
  {
   "cell_type": "markdown",
   "metadata": {},
   "source": [
    "## Baseline LSTM + room to change network architecture"
   ]
  },
  {
   "cell_type": "code",
   "execution_count": 109,
   "metadata": {
    "collapsed": true
   },
   "outputs": [],
   "source": [
    "def handle_wind_dir(data):\n",
    "    '''\n",
    "    Different ways to handle the string format:\n",
    "     1. Drop it\n",
    "     2. LabelEncode it\n",
    "     3. One-hot encode it\n",
    "     \n",
    "    The reason I need to handle it is because Keras' pad_sequences function takes int() of\n",
    "    all the columns.\n",
    "    '''\n",
    "    # I'll drop it first\n",
    "    data = data.drop('wnd_dir', axis=1, inplace=False)\n",
    "    return data"
   ]
  },
  {
   "cell_type": "code",
   "execution_count": 110,
   "metadata": {
    "collapsed": true
   },
   "outputs": [],
   "source": [
    "import warnings; warnings.filterwarnings('ignore')"
   ]
  },
  {
   "cell_type": "code",
   "execution_count": 111,
   "metadata": {
    "collapsed": true
   },
   "outputs": [],
   "source": [
    "df = pd.read_csv('../data/pollution.csv', header=0, index_col=0)"
   ]
  },
  {
   "cell_type": "code",
   "execution_count": 112,
   "metadata": {
    "collapsed": true
   },
   "outputs": [],
   "source": [
    "# Optionally drop wind dir\n",
    "df = handle_wind_dir(df)"
   ]
  },
  {
   "cell_type": "code",
   "execution_count": 113,
   "metadata": {
    "collapsed": true
   },
   "outputs": [],
   "source": [
    "train, test = train_test_split(df, test_size=.90, random_state=789)"
   ]
  },
  {
   "cell_type": "code",
   "execution_count": 114,
   "metadata": {},
   "outputs": [
    {
     "data": {
      "text/plain": [
       "4380"
      ]
     },
     "execution_count": 114,
     "metadata": {},
     "output_type": "execute_result"
    }
   ],
   "source": [
    "len(train)"
   ]
  },
  {
   "cell_type": "code",
   "execution_count": 115,
   "metadata": {},
   "outputs": [
    {
     "data": {
      "text/plain": [
       "39420"
      ]
     },
     "execution_count": 115,
     "metadata": {},
     "output_type": "execute_result"
    }
   ],
   "source": [
    "len(test)"
   ]
  },
  {
   "cell_type": "code",
   "execution_count": 116,
   "metadata": {
    "collapsed": true
   },
   "outputs": [],
   "source": [
    "def prepare_sequences(df):\n",
    "    ''' \n",
    "    Let df = train and prepare sequences.\n",
    "    '''\n",
    "    input_cols = list(df.columns)\n",
    "    df['single_input_vector'] = df[input_cols].apply(tuple, axis=1).apply(list)\\\n",
    "        .apply(lambda x: [list(x)])\n",
    "    df['single_output_vector'] = df['pollution'].apply(lambda x: [[x]])\n",
    "    return df.reset_index(drop=True)"
   ]
  },
  {
   "cell_type": "code",
   "execution_count": 117,
   "metadata": {
    "collapsed": true
   },
   "outputs": [],
   "source": [
    "train = prepare_sequences(train)"
   ]
  },
  {
   "cell_type": "code",
   "execution_count": 118,
   "metadata": {},
   "outputs": [
    {
     "data": {
      "text/html": [
       "<div>\n",
       "<style>\n",
       "    .dataframe thead tr:only-child th {\n",
       "        text-align: right;\n",
       "    }\n",
       "\n",
       "    .dataframe thead th {\n",
       "        text-align: left;\n",
       "    }\n",
       "\n",
       "    .dataframe tbody tr th {\n",
       "        vertical-align: top;\n",
       "    }\n",
       "</style>\n",
       "<table border=\"1\" class=\"dataframe\">\n",
       "  <thead>\n",
       "    <tr style=\"text-align: right;\">\n",
       "      <th></th>\n",
       "      <th>pollution</th>\n",
       "      <th>dew</th>\n",
       "      <th>temp</th>\n",
       "      <th>press</th>\n",
       "      <th>wnd_spd</th>\n",
       "      <th>snow</th>\n",
       "      <th>rain</th>\n",
       "      <th>single_input_vector</th>\n",
       "      <th>single_output_vector</th>\n",
       "    </tr>\n",
       "  </thead>\n",
       "  <tbody>\n",
       "    <tr>\n",
       "      <th>0</th>\n",
       "      <td>234.0</td>\n",
       "      <td>-21</td>\n",
       "      <td>-10.0</td>\n",
       "      <td>1032.0</td>\n",
       "      <td>4.47</td>\n",
       "      <td>0</td>\n",
       "      <td>0</td>\n",
       "      <td>[[234.0, -21.0, -10.0, 1032.0, 4.47, 0.0, 0.0]]</td>\n",
       "      <td>[[234.0]]</td>\n",
       "    </tr>\n",
       "    <tr>\n",
       "      <th>1</th>\n",
       "      <td>19.0</td>\n",
       "      <td>13</td>\n",
       "      <td>14.0</td>\n",
       "      <td>1024.0</td>\n",
       "      <td>38.00</td>\n",
       "      <td>0</td>\n",
       "      <td>11</td>\n",
       "      <td>[[19.0, 13.0, 14.0, 1024.0, 38.0, 0.0, 11.0]]</td>\n",
       "      <td>[[19.0]]</td>\n",
       "    </tr>\n",
       "    <tr>\n",
       "      <th>2</th>\n",
       "      <td>313.0</td>\n",
       "      <td>-10</td>\n",
       "      <td>1.0</td>\n",
       "      <td>1033.0</td>\n",
       "      <td>3.56</td>\n",
       "      <td>0</td>\n",
       "      <td>0</td>\n",
       "      <td>[[313.0, -10.0, 1.0, 1033.0, 3.56, 0.0, 0.0]]</td>\n",
       "      <td>[[313.0]]</td>\n",
       "    </tr>\n",
       "    <tr>\n",
       "      <th>3</th>\n",
       "      <td>258.0</td>\n",
       "      <td>-17</td>\n",
       "      <td>-5.0</td>\n",
       "      <td>1022.0</td>\n",
       "      <td>1.79</td>\n",
       "      <td>0</td>\n",
       "      <td>0</td>\n",
       "      <td>[[258.0, -17.0, -5.0, 1022.0, 1.79, 0.0, 0.0]]</td>\n",
       "      <td>[[258.0]]</td>\n",
       "    </tr>\n",
       "    <tr>\n",
       "      <th>4</th>\n",
       "      <td>45.0</td>\n",
       "      <td>-5</td>\n",
       "      <td>14.0</td>\n",
       "      <td>1011.0</td>\n",
       "      <td>4.02</td>\n",
       "      <td>0</td>\n",
       "      <td>0</td>\n",
       "      <td>[[45.0, -5.0, 14.0, 1011.0, 4.02, 0.0, 0.0]]</td>\n",
       "      <td>[[45.0]]</td>\n",
       "    </tr>\n",
       "  </tbody>\n",
       "</table>\n",
       "</div>"
      ],
      "text/plain": [
       "   pollution  dew  temp   press  wnd_spd  snow  rain  \\\n",
       "0      234.0  -21 -10.0  1032.0     4.47     0     0   \n",
       "1       19.0   13  14.0  1024.0    38.00     0    11   \n",
       "2      313.0  -10   1.0  1033.0     3.56     0     0   \n",
       "3      258.0  -17  -5.0  1022.0     1.79     0     0   \n",
       "4       45.0   -5  14.0  1011.0     4.02     0     0   \n",
       "\n",
       "                               single_input_vector single_output_vector  \n",
       "0  [[234.0, -21.0, -10.0, 1032.0, 4.47, 0.0, 0.0]]            [[234.0]]  \n",
       "1    [[19.0, 13.0, 14.0, 1024.0, 38.0, 0.0, 11.0]]             [[19.0]]  \n",
       "2    [[313.0, -10.0, 1.0, 1033.0, 3.56, 0.0, 0.0]]            [[313.0]]  \n",
       "3   [[258.0, -17.0, -5.0, 1022.0, 1.79, 0.0, 0.0]]            [[258.0]]  \n",
       "4     [[45.0, -5.0, 14.0, 1011.0, 4.02, 0.0, 0.0]]             [[45.0]]  "
      ]
     },
     "execution_count": 118,
     "metadata": {},
     "output_type": "execute_result"
    }
   ],
   "source": [
    "train.head()"
   ]
  },
  {
   "cell_type": "code",
   "execution_count": 142,
   "metadata": {
    "collapsed": true
   },
   "outputs": [],
   "source": [
    "def func(x, maxlen=None):\n",
    "    '''\n",
    "    Pad sequences with lists of 0s. Functional lambda programming.\n",
    "    '''\n",
    "    zeros_to_add = maxlen - len(x)\n",
    "    prepended = [np.zeros(7).tolist()]\n",
    "    y = prepended*zeros_to_add + x\n",
    "    return y\n",
    "\n",
    "def func_output(x, maxlen=None):\n",
    "    '''\n",
    "    Pad sequences with lists of 0s. Functional lambda programming.\n",
    "    '''\n",
    "    zeros_to_add = maxlen - len(x)\n",
    "    prepended = [np.zeros(1).tolist()]\n",
    "    y = prepended*zeros_to_add + x\n",
    "    return y\n",
    "\n",
    "def balanced_sliding_windows(df, stride=3):\n",
    "    '''\n",
    "    Create sliding windows of size [n - 3, n + 3]. Let df=train.\n",
    "    '''\n",
    "    seqs = []\n",
    "    for i, value in df.iterrows():\n",
    "        if i >= stride and i < len(df) - stride:\n",
    "            sequences = df.iloc[i-stride:i+stride, -1].sum()\n",
    "        elif i < stride:\n",
    "            sequences = df.iloc[i:i+stride, -1].sum()\n",
    "        else:\n",
    "            sequences = df.iloc[i-stride:i, -1].sum()\n",
    "        seqs.append(sequences)\n",
    "    return pd.Series(seqs)\n",
    "        \n",
    "def past_windows(df, stride=3):\n",
    "    '''\n",
    "    Create windows of size [n - 3: n]. Let df=train.\n",
    "    '''\n",
    "    seqs = []\n",
    "    for i, value in df.iterrows():\n",
    "        if i >= stride and i < len(df) - stride:\n",
    "            sequences = df.iloc[i-stride:i, -1].sum()\n",
    "        elif i < stride:\n",
    "            sequences = df.iloc[0:i, -1].sum()\n",
    "        else:\n",
    "            sequences = df.iloc[i-stride:i, -1].sum()\n",
    "        if sequences == 0:\n",
    "            # Pad empty array with arrays of 0s\n",
    "            sequences = func([], stride)\n",
    "        if len(sequences) < stride:\n",
    "            # Pad with arrays of 0s\n",
    "            sequences = func(sequences, stride)\n",
    "        seqs.append(sequences)\n",
    "    return pd.Series(seqs)\n",
    "\n",
    "def future_windows(df, stride=3):\n",
    "    '''\n",
    "    Create windows of size [n : n+3]. Let df=train.\n",
    "    '''\n",
    "    seqs = []\n",
    "    for i, value in df.iterrows():\n",
    "        if i >= stride and i < len(df) - stride:\n",
    "            sequences = df.iloc[i:i+stride, -1].sum()\n",
    "        elif i < stride:\n",
    "            sequences = df.iloc[i:i+stride, -1].sum()\n",
    "        else:\n",
    "            sequences = df.iloc[i:, -1].sum()\n",
    "        if type(sequences) == 'int' and sequences == 0:\n",
    "            sequences = func_output([], stride)\n",
    "        if len(sequences) < stride:\n",
    "            # Pad with arrays of 0s\n",
    "            sequences = func_output(sequences, stride)\n",
    "        seqs.append(sequences)\n",
    "    return pd.Series(seqs)"
   ]
  },
  {
   "cell_type": "code",
   "execution_count": 143,
   "metadata": {
    "collapsed": true
   },
   "outputs": [],
   "source": [
    "input_vec = train['single_input_vector']\n",
    "input_vec = pd.DataFrame(input_vec)"
   ]
  },
  {
   "cell_type": "code",
   "execution_count": 144,
   "metadata": {
    "collapsed": true
   },
   "outputs": [],
   "source": [
    "output_vec = train['single_output_vector']\n",
    "output_vec = pd.DataFrame(output_vec)"
   ]
  },
  {
   "cell_type": "code",
   "execution_count": 145,
   "metadata": {
    "collapsed": true
   },
   "outputs": [],
   "source": [
    "# Good so far."
   ]
  },
  {
   "cell_type": "code",
   "execution_count": 146,
   "metadata": {},
   "outputs": [
    {
     "data": {
      "text/plain": [
       "0    [[234.0, -21.0, -10.0, 1032.0, 4.47, 0.0, 0.0]...\n",
       "1    [[19.0, 13.0, 14.0, 1024.0, 38.0, 0.0, 11.0], ...\n",
       "2    [[313.0, -10.0, 1.0, 1033.0, 3.56, 0.0, 0.0], ...\n",
       "3    [[234.0, -21.0, -10.0, 1032.0, 4.47, 0.0, 0.0]...\n",
       "4    [[19.0, 13.0, 14.0, 1024.0, 38.0, 0.0, 11.0], ...\n",
       "dtype: object"
      ]
     },
     "execution_count": 146,
     "metadata": {},
     "output_type": "execute_result"
    }
   ],
   "source": [
    "balanced_sliding_windows(input_vec).head()"
   ]
  },
  {
   "cell_type": "code",
   "execution_count": 147,
   "metadata": {},
   "outputs": [
    {
     "data": {
      "text/plain": [
       "0    [[0.0, 0.0, 0.0, 0.0, 0.0, 0.0, 0.0], [0.0, 0....\n",
       "1    [[0.0, 0.0, 0.0, 0.0, 0.0, 0.0, 0.0], [0.0, 0....\n",
       "2    [[0.0, 0.0, 0.0, 0.0, 0.0, 0.0, 0.0], [234.0, ...\n",
       "3    [[234.0, -21.0, -10.0, 1032.0, 4.47, 0.0, 0.0]...\n",
       "4    [[19.0, 13.0, 14.0, 1024.0, 38.0, 0.0, 11.0], ...\n",
       "dtype: object"
      ]
     },
     "execution_count": 147,
     "metadata": {},
     "output_type": "execute_result"
    }
   ],
   "source": [
    "past_windows(input_vec).head()"
   ]
  },
  {
   "cell_type": "code",
   "execution_count": 148,
   "metadata": {},
   "outputs": [
    {
     "data": {
      "text/plain": [
       "0    [[234.0], [19.0], [313.0]]\n",
       "1    [[19.0], [313.0], [258.0]]\n",
       "2    [[313.0], [258.0], [45.0]]\n",
       "3     [[258.0], [45.0], [25.0]]\n",
       "4      [[45.0], [25.0], [76.0]]\n",
       "dtype: object"
      ]
     },
     "execution_count": 148,
     "metadata": {},
     "output_type": "execute_result"
    }
   ],
   "source": [
    "future_windows(output_vec).head()"
   ]
  },
  {
   "cell_type": "code",
   "execution_count": 149,
   "metadata": {},
   "outputs": [
    {
     "data": {
      "text/html": [
       "<div>\n",
       "<style>\n",
       "    .dataframe thead tr:only-child th {\n",
       "        text-align: right;\n",
       "    }\n",
       "\n",
       "    .dataframe thead th {\n",
       "        text-align: left;\n",
       "    }\n",
       "\n",
       "    .dataframe tbody tr th {\n",
       "        vertical-align: top;\n",
       "    }\n",
       "</style>\n",
       "<table border=\"1\" class=\"dataframe\">\n",
       "  <thead>\n",
       "    <tr style=\"text-align: right;\">\n",
       "      <th></th>\n",
       "      <th>pollution</th>\n",
       "      <th>dew</th>\n",
       "      <th>temp</th>\n",
       "      <th>press</th>\n",
       "      <th>wnd_spd</th>\n",
       "      <th>snow</th>\n",
       "      <th>rain</th>\n",
       "    </tr>\n",
       "  </thead>\n",
       "  <tbody>\n",
       "    <tr>\n",
       "      <th>24</th>\n",
       "      <td>129.0</td>\n",
       "      <td>-16</td>\n",
       "      <td>-4.0</td>\n",
       "      <td>1020.0</td>\n",
       "      <td>1.79</td>\n",
       "      <td>0</td>\n",
       "      <td>0</td>\n",
       "    </tr>\n",
       "    <tr>\n",
       "      <th>25</th>\n",
       "      <td>148.0</td>\n",
       "      <td>-15</td>\n",
       "      <td>-4.0</td>\n",
       "      <td>1020.0</td>\n",
       "      <td>2.68</td>\n",
       "      <td>0</td>\n",
       "      <td>0</td>\n",
       "    </tr>\n",
       "    <tr>\n",
       "      <th>26</th>\n",
       "      <td>159.0</td>\n",
       "      <td>-11</td>\n",
       "      <td>-5.0</td>\n",
       "      <td>1021.0</td>\n",
       "      <td>3.57</td>\n",
       "      <td>0</td>\n",
       "      <td>0</td>\n",
       "    </tr>\n",
       "    <tr>\n",
       "      <th>27</th>\n",
       "      <td>181.0</td>\n",
       "      <td>-7</td>\n",
       "      <td>-5.0</td>\n",
       "      <td>1022.0</td>\n",
       "      <td>5.36</td>\n",
       "      <td>1</td>\n",
       "      <td>0</td>\n",
       "    </tr>\n",
       "    <tr>\n",
       "      <th>28</th>\n",
       "      <td>138.0</td>\n",
       "      <td>-7</td>\n",
       "      <td>-5.0</td>\n",
       "      <td>1022.0</td>\n",
       "      <td>6.25</td>\n",
       "      <td>2</td>\n",
       "      <td>0</td>\n",
       "    </tr>\n",
       "  </tbody>\n",
       "</table>\n",
       "</div>"
      ],
      "text/plain": [
       "    pollution  dew  temp   press  wnd_spd  snow  rain\n",
       "24      129.0  -16  -4.0  1020.0     1.79     0     0\n",
       "25      148.0  -15  -4.0  1020.0     2.68     0     0\n",
       "26      159.0  -11  -5.0  1021.0     3.57     0     0\n",
       "27      181.0   -7  -5.0  1022.0     5.36     1     0\n",
       "28      138.0   -7  -5.0  1022.0     6.25     2     0"
      ]
     },
     "execution_count": 149,
     "metadata": {},
     "output_type": "execute_result"
    }
   ],
   "source": [
    "df.head()"
   ]
  },
  {
   "cell_type": "code",
   "execution_count": 150,
   "metadata": {
    "collapsed": true
   },
   "outputs": [],
   "source": [
    "# Good so far"
   ]
  },
  {
   "cell_type": "code",
   "execution_count": 151,
   "metadata": {
    "collapsed": true
   },
   "outputs": [],
   "source": [
    "train['past_sequences'] = past_windows(input_vec)\n",
    "train['future_sequences'] = future_windows(output_vec)"
   ]
  },
  {
   "cell_type": "code",
   "execution_count": 152,
   "metadata": {},
   "outputs": [
    {
     "data": {
      "text/html": [
       "<div>\n",
       "<style>\n",
       "    .dataframe thead tr:only-child th {\n",
       "        text-align: right;\n",
       "    }\n",
       "\n",
       "    .dataframe thead th {\n",
       "        text-align: left;\n",
       "    }\n",
       "\n",
       "    .dataframe tbody tr th {\n",
       "        vertical-align: top;\n",
       "    }\n",
       "</style>\n",
       "<table border=\"1\" class=\"dataframe\">\n",
       "  <thead>\n",
       "    <tr style=\"text-align: right;\">\n",
       "      <th></th>\n",
       "      <th>pollution</th>\n",
       "      <th>dew</th>\n",
       "      <th>temp</th>\n",
       "      <th>press</th>\n",
       "      <th>wnd_spd</th>\n",
       "      <th>snow</th>\n",
       "      <th>rain</th>\n",
       "      <th>single_input_vector</th>\n",
       "      <th>single_output_vector</th>\n",
       "      <th>past_sequences</th>\n",
       "      <th>future_sequences</th>\n",
       "      <th>output_vector</th>\n",
       "    </tr>\n",
       "  </thead>\n",
       "  <tbody>\n",
       "    <tr>\n",
       "      <th>0</th>\n",
       "      <td>234.0</td>\n",
       "      <td>-21</td>\n",
       "      <td>-10.0</td>\n",
       "      <td>1032.0</td>\n",
       "      <td>4.47</td>\n",
       "      <td>0</td>\n",
       "      <td>0</td>\n",
       "      <td>[[234.0, -21.0, -10.0, 1032.0, 4.47, 0.0, 0.0]]</td>\n",
       "      <td>[[234.0]]</td>\n",
       "      <td>[[0.0, 0.0, 0.0, 0.0, 0.0, 0.0, 0.0], [0.0, 0....</td>\n",
       "      <td>[[234.0], [19.0], [313.0]]</td>\n",
       "      <td>[[234.0], [19.0], [313.0]]</td>\n",
       "    </tr>\n",
       "    <tr>\n",
       "      <th>1</th>\n",
       "      <td>19.0</td>\n",
       "      <td>13</td>\n",
       "      <td>14.0</td>\n",
       "      <td>1024.0</td>\n",
       "      <td>38.00</td>\n",
       "      <td>0</td>\n",
       "      <td>11</td>\n",
       "      <td>[[19.0, 13.0, 14.0, 1024.0, 38.0, 0.0, 11.0]]</td>\n",
       "      <td>[[19.0]]</td>\n",
       "      <td>[[0.0, 0.0, 0.0, 0.0, 0.0, 0.0, 0.0], [0.0, 0....</td>\n",
       "      <td>[[19.0], [313.0], [258.0]]</td>\n",
       "      <td>[[19.0], [313.0], [258.0]]</td>\n",
       "    </tr>\n",
       "    <tr>\n",
       "      <th>2</th>\n",
       "      <td>313.0</td>\n",
       "      <td>-10</td>\n",
       "      <td>1.0</td>\n",
       "      <td>1033.0</td>\n",
       "      <td>3.56</td>\n",
       "      <td>0</td>\n",
       "      <td>0</td>\n",
       "      <td>[[313.0, -10.0, 1.0, 1033.0, 3.56, 0.0, 0.0]]</td>\n",
       "      <td>[[313.0]]</td>\n",
       "      <td>[[0.0, 0.0, 0.0, 0.0, 0.0, 0.0, 0.0], [234.0, ...</td>\n",
       "      <td>[[313.0], [258.0], [45.0]]</td>\n",
       "      <td>[[313.0], [258.0], [45.0]]</td>\n",
       "    </tr>\n",
       "    <tr>\n",
       "      <th>3</th>\n",
       "      <td>258.0</td>\n",
       "      <td>-17</td>\n",
       "      <td>-5.0</td>\n",
       "      <td>1022.0</td>\n",
       "      <td>1.79</td>\n",
       "      <td>0</td>\n",
       "      <td>0</td>\n",
       "      <td>[[258.0, -17.0, -5.0, 1022.0, 1.79, 0.0, 0.0]]</td>\n",
       "      <td>[[258.0]]</td>\n",
       "      <td>[[234.0, -21.0, -10.0, 1032.0, 4.47, 0.0, 0.0]...</td>\n",
       "      <td>[[258.0], [45.0], [25.0]]</td>\n",
       "      <td>[[258.0], [45.0], [25.0]]</td>\n",
       "    </tr>\n",
       "    <tr>\n",
       "      <th>4</th>\n",
       "      <td>45.0</td>\n",
       "      <td>-5</td>\n",
       "      <td>14.0</td>\n",
       "      <td>1011.0</td>\n",
       "      <td>4.02</td>\n",
       "      <td>0</td>\n",
       "      <td>0</td>\n",
       "      <td>[[45.0, -5.0, 14.0, 1011.0, 4.02, 0.0, 0.0]]</td>\n",
       "      <td>[[45.0]]</td>\n",
       "      <td>[[19.0, 13.0, 14.0, 1024.0, 38.0, 0.0, 11.0], ...</td>\n",
       "      <td>[[45.0], [25.0], [76.0]]</td>\n",
       "      <td>[[45.0], [25.0], [76.0]]</td>\n",
       "    </tr>\n",
       "  </tbody>\n",
       "</table>\n",
       "</div>"
      ],
      "text/plain": [
       "   pollution  dew  temp   press  wnd_spd  snow  rain  \\\n",
       "0      234.0  -21 -10.0  1032.0     4.47     0     0   \n",
       "1       19.0   13  14.0  1024.0    38.00     0    11   \n",
       "2      313.0  -10   1.0  1033.0     3.56     0     0   \n",
       "3      258.0  -17  -5.0  1022.0     1.79     0     0   \n",
       "4       45.0   -5  14.0  1011.0     4.02     0     0   \n",
       "\n",
       "                               single_input_vector single_output_vector  \\\n",
       "0  [[234.0, -21.0, -10.0, 1032.0, 4.47, 0.0, 0.0]]            [[234.0]]   \n",
       "1    [[19.0, 13.0, 14.0, 1024.0, 38.0, 0.0, 11.0]]             [[19.0]]   \n",
       "2    [[313.0, -10.0, 1.0, 1033.0, 3.56, 0.0, 0.0]]            [[313.0]]   \n",
       "3   [[258.0, -17.0, -5.0, 1022.0, 1.79, 0.0, 0.0]]            [[258.0]]   \n",
       "4     [[45.0, -5.0, 14.0, 1011.0, 4.02, 0.0, 0.0]]             [[45.0]]   \n",
       "\n",
       "                                      past_sequences  \\\n",
       "0  [[0.0, 0.0, 0.0, 0.0, 0.0, 0.0, 0.0], [0.0, 0....   \n",
       "1  [[0.0, 0.0, 0.0, 0.0, 0.0, 0.0, 0.0], [0.0, 0....   \n",
       "2  [[0.0, 0.0, 0.0, 0.0, 0.0, 0.0, 0.0], [234.0, ...   \n",
       "3  [[234.0, -21.0, -10.0, 1032.0, 4.47, 0.0, 0.0]...   \n",
       "4  [[19.0, 13.0, 14.0, 1024.0, 38.0, 0.0, 11.0], ...   \n",
       "\n",
       "             future_sequences               output_vector  \n",
       "0  [[234.0], [19.0], [313.0]]  [[234.0], [19.0], [313.0]]  \n",
       "1  [[19.0], [313.0], [258.0]]  [[19.0], [313.0], [258.0]]  \n",
       "2  [[313.0], [258.0], [45.0]]  [[313.0], [258.0], [45.0]]  \n",
       "3   [[258.0], [45.0], [25.0]]   [[258.0], [45.0], [25.0]]  \n",
       "4    [[45.0], [25.0], [76.0]]    [[45.0], [25.0], [76.0]]  "
      ]
     },
     "execution_count": 152,
     "metadata": {},
     "output_type": "execute_result"
    }
   ],
   "source": [
    "train.head()"
   ]
  },
  {
   "cell_type": "code",
   "execution_count": null,
   "metadata": {
    "collapsed": true
   },
   "outputs": [],
   "source": []
  },
  {
   "cell_type": "code",
   "execution_count": 153,
   "metadata": {
    "collapsed": true
   },
   "outputs": [],
   "source": [
    "# predicting G for now, just a test example\n",
    "# If your output is multi-dimensional, you need to capture those \n",
    "# dimensions in one object\n",
    "# If your output is a single dimension, this step may be unnecessary\n",
    "def set_output_featureset(df):\n",
    "    '''\n",
    "    Let df=train and prepare output vector\n",
    "    '''\n",
    "    df['output_vector'] = df['future_sequences']\n",
    "    return df"
   ]
  },
  {
   "cell_type": "code",
   "execution_count": 154,
   "metadata": {
    "collapsed": true,
    "scrolled": true
   },
   "outputs": [],
   "source": [
    "train = set_output_featureset(train)"
   ]
  },
  {
   "cell_type": "code",
   "execution_count": 155,
   "metadata": {},
   "outputs": [
    {
     "data": {
      "text/html": [
       "<div>\n",
       "<style>\n",
       "    .dataframe thead tr:only-child th {\n",
       "        text-align: right;\n",
       "    }\n",
       "\n",
       "    .dataframe thead th {\n",
       "        text-align: left;\n",
       "    }\n",
       "\n",
       "    .dataframe tbody tr th {\n",
       "        vertical-align: top;\n",
       "    }\n",
       "</style>\n",
       "<table border=\"1\" class=\"dataframe\">\n",
       "  <thead>\n",
       "    <tr style=\"text-align: right;\">\n",
       "      <th></th>\n",
       "      <th>pollution</th>\n",
       "      <th>dew</th>\n",
       "      <th>temp</th>\n",
       "      <th>press</th>\n",
       "      <th>wnd_spd</th>\n",
       "      <th>snow</th>\n",
       "      <th>rain</th>\n",
       "      <th>single_input_vector</th>\n",
       "      <th>single_output_vector</th>\n",
       "      <th>past_sequences</th>\n",
       "      <th>future_sequences</th>\n",
       "      <th>output_vector</th>\n",
       "    </tr>\n",
       "  </thead>\n",
       "  <tbody>\n",
       "    <tr>\n",
       "      <th>0</th>\n",
       "      <td>234.0</td>\n",
       "      <td>-21</td>\n",
       "      <td>-10.0</td>\n",
       "      <td>1032.0</td>\n",
       "      <td>4.47</td>\n",
       "      <td>0</td>\n",
       "      <td>0</td>\n",
       "      <td>[[234.0, -21.0, -10.0, 1032.0, 4.47, 0.0, 0.0]]</td>\n",
       "      <td>[[234.0]]</td>\n",
       "      <td>[[0.0, 0.0, 0.0, 0.0, 0.0, 0.0, 0.0], [0.0, 0....</td>\n",
       "      <td>[[234.0], [19.0], [313.0]]</td>\n",
       "      <td>[[234.0], [19.0], [313.0]]</td>\n",
       "    </tr>\n",
       "    <tr>\n",
       "      <th>1</th>\n",
       "      <td>19.0</td>\n",
       "      <td>13</td>\n",
       "      <td>14.0</td>\n",
       "      <td>1024.0</td>\n",
       "      <td>38.00</td>\n",
       "      <td>0</td>\n",
       "      <td>11</td>\n",
       "      <td>[[19.0, 13.0, 14.0, 1024.0, 38.0, 0.0, 11.0]]</td>\n",
       "      <td>[[19.0]]</td>\n",
       "      <td>[[0.0, 0.0, 0.0, 0.0, 0.0, 0.0, 0.0], [0.0, 0....</td>\n",
       "      <td>[[19.0], [313.0], [258.0]]</td>\n",
       "      <td>[[19.0], [313.0], [258.0]]</td>\n",
       "    </tr>\n",
       "    <tr>\n",
       "      <th>2</th>\n",
       "      <td>313.0</td>\n",
       "      <td>-10</td>\n",
       "      <td>1.0</td>\n",
       "      <td>1033.0</td>\n",
       "      <td>3.56</td>\n",
       "      <td>0</td>\n",
       "      <td>0</td>\n",
       "      <td>[[313.0, -10.0, 1.0, 1033.0, 3.56, 0.0, 0.0]]</td>\n",
       "      <td>[[313.0]]</td>\n",
       "      <td>[[0.0, 0.0, 0.0, 0.0, 0.0, 0.0, 0.0], [234.0, ...</td>\n",
       "      <td>[[313.0], [258.0], [45.0]]</td>\n",
       "      <td>[[313.0], [258.0], [45.0]]</td>\n",
       "    </tr>\n",
       "    <tr>\n",
       "      <th>3</th>\n",
       "      <td>258.0</td>\n",
       "      <td>-17</td>\n",
       "      <td>-5.0</td>\n",
       "      <td>1022.0</td>\n",
       "      <td>1.79</td>\n",
       "      <td>0</td>\n",
       "      <td>0</td>\n",
       "      <td>[[258.0, -17.0, -5.0, 1022.0, 1.79, 0.0, 0.0]]</td>\n",
       "      <td>[[258.0]]</td>\n",
       "      <td>[[234.0, -21.0, -10.0, 1032.0, 4.47, 0.0, 0.0]...</td>\n",
       "      <td>[[258.0], [45.0], [25.0]]</td>\n",
       "      <td>[[258.0], [45.0], [25.0]]</td>\n",
       "    </tr>\n",
       "    <tr>\n",
       "      <th>4</th>\n",
       "      <td>45.0</td>\n",
       "      <td>-5</td>\n",
       "      <td>14.0</td>\n",
       "      <td>1011.0</td>\n",
       "      <td>4.02</td>\n",
       "      <td>0</td>\n",
       "      <td>0</td>\n",
       "      <td>[[45.0, -5.0, 14.0, 1011.0, 4.02, 0.0, 0.0]]</td>\n",
       "      <td>[[45.0]]</td>\n",
       "      <td>[[19.0, 13.0, 14.0, 1024.0, 38.0, 0.0, 11.0], ...</td>\n",
       "      <td>[[45.0], [25.0], [76.0]]</td>\n",
       "      <td>[[45.0], [25.0], [76.0]]</td>\n",
       "    </tr>\n",
       "  </tbody>\n",
       "</table>\n",
       "</div>"
      ],
      "text/plain": [
       "   pollution  dew  temp   press  wnd_spd  snow  rain  \\\n",
       "0      234.0  -21 -10.0  1032.0     4.47     0     0   \n",
       "1       19.0   13  14.0  1024.0    38.00     0    11   \n",
       "2      313.0  -10   1.0  1033.0     3.56     0     0   \n",
       "3      258.0  -17  -5.0  1022.0     1.79     0     0   \n",
       "4       45.0   -5  14.0  1011.0     4.02     0     0   \n",
       "\n",
       "                               single_input_vector single_output_vector  \\\n",
       "0  [[234.0, -21.0, -10.0, 1032.0, 4.47, 0.0, 0.0]]            [[234.0]]   \n",
       "1    [[19.0, 13.0, 14.0, 1024.0, 38.0, 0.0, 11.0]]             [[19.0]]   \n",
       "2    [[313.0, -10.0, 1.0, 1033.0, 3.56, 0.0, 0.0]]            [[313.0]]   \n",
       "3   [[258.0, -17.0, -5.0, 1022.0, 1.79, 0.0, 0.0]]            [[258.0]]   \n",
       "4     [[45.0, -5.0, 14.0, 1011.0, 4.02, 0.0, 0.0]]             [[45.0]]   \n",
       "\n",
       "                                      past_sequences  \\\n",
       "0  [[0.0, 0.0, 0.0, 0.0, 0.0, 0.0, 0.0], [0.0, 0....   \n",
       "1  [[0.0, 0.0, 0.0, 0.0, 0.0, 0.0, 0.0], [0.0, 0....   \n",
       "2  [[0.0, 0.0, 0.0, 0.0, 0.0, 0.0, 0.0], [234.0, ...   \n",
       "3  [[234.0, -21.0, -10.0, 1032.0, 4.47, 0.0, 0.0]...   \n",
       "4  [[19.0, 13.0, 14.0, 1024.0, 38.0, 0.0, 11.0], ...   \n",
       "\n",
       "             future_sequences               output_vector  \n",
       "0  [[234.0], [19.0], [313.0]]  [[234.0], [19.0], [313.0]]  \n",
       "1  [[19.0], [313.0], [258.0]]  [[19.0], [313.0], [258.0]]  \n",
       "2  [[313.0], [258.0], [45.0]]  [[313.0], [258.0], [45.0]]  \n",
       "3   [[258.0], [45.0], [25.0]]   [[258.0], [45.0], [25.0]]  \n",
       "4    [[45.0], [25.0], [76.0]]    [[45.0], [25.0], [76.0]]  "
      ]
     },
     "execution_count": 155,
     "metadata": {},
     "output_type": "execute_result"
    }
   ],
   "source": [
    "train.head()"
   ]
  },
  {
   "cell_type": "code",
   "execution_count": 156,
   "metadata": {
    "collapsed": true
   },
   "outputs": [],
   "source": [
    "# Extract your training data\n",
    "X_train_init = np.asarray(train.past_sequences)\n",
    "stride_length = 3\n",
    "# Training data for LSTM should be in the form of a 3D tuple:\n",
    "#   (# of samples, timesteps, input_dim)\n",
    "# Note that the input data that comes out of the dataframe \n",
    "# will not make a 3D array. It makes an array of arrays, \n",
    "# which is not the same thing.\n",
    "# So far X_train_init is an array of arrays.\n",
    "\n",
    "# Convert to 3D vector usng hstack and reshape\n",
    "# horizontal stack = hstack, essentially removes the outer array \n",
    "#  encapsulation.\n",
    "\n",
    "# reshape into (# of records, total_timesteps, input_dim)\n",
    "# The reshape essentially reshaped the inner list into an 11 by 6 matrix,\n",
    "#  or a max_sequence_length (rows) by input_dim (col) matrix\n",
    "X_train = np.hstack(X_train_init).reshape(len(train), \n",
    "                                          stride_length,\n",
    "                                         len(df.columns))\n",
    "y_train_init = np.asarray(train.output_vector)\n",
    "y_train = np.hstack(y_train_init).reshape(len(train), \n",
    "                                          stride_length,\n",
    "                                          len(output_vec.columns))"
   ]
  },
  {
   "cell_type": "code",
   "execution_count": 158,
   "metadata": {
    "collapsed": true
   },
   "outputs": [],
   "source": [
    "#np.hstack(y_train_init)"
   ]
  },
  {
   "cell_type": "code",
   "execution_count": 159,
   "metadata": {},
   "outputs": [
    {
     "data": {
      "text/plain": [
       "(4380, 7)"
      ]
     },
     "execution_count": 159,
     "metadata": {},
     "output_type": "execute_result"
    }
   ],
   "source": [
    "len(train), len(df.columns)"
   ]
  },
  {
   "cell_type": "code",
   "execution_count": 161,
   "metadata": {
    "collapsed": true
   },
   "outputs": [],
   "source": [
    "# Debugging\n",
    "#train[train.output_vector.apply(lambda x: True if len(x) != 3 else False)]"
   ]
  },
  {
   "cell_type": "code",
   "execution_count": 162,
   "metadata": {},
   "outputs": [
    {
     "name": "stdout",
     "output_type": "stream",
     "text": [
      "(4380, 3, 7)\n",
      "(4380, 3, 1)\n"
     ]
    }
   ],
   "source": [
    "print(X_train.shape)\n",
    "print(y_train.shape)"
   ]
  },
  {
   "cell_type": "code",
   "execution_count": null,
   "metadata": {
    "collapsed": true
   },
   "outputs": [],
   "source": []
  },
  {
   "cell_type": "code",
   "execution_count": 163,
   "metadata": {
    "collapsed": true
   },
   "outputs": [],
   "source": [
    "# Get your input dimensions\n",
    "# Input length is the length for one input sequence \n",
    "#  (i.e. the number of rows for your sample, which is\n",
    "#     the max_sequence_length by construction)\n",
    "input_length = X_train.shape[1]\n",
    "# Input dim is the number of dimensions in one input vector \n",
    "#  (i.e. number of input columns)\n",
    "input_dim = X_train.shape[2]\n",
    "output_dim = len(y_train[0])"
   ]
  },
  {
   "cell_type": "code",
   "execution_count": 164,
   "metadata": {},
   "outputs": [
    {
     "data": {
      "text/plain": [
       "3"
      ]
     },
     "execution_count": 164,
     "metadata": {},
     "output_type": "execute_result"
    }
   ],
   "source": [
    "output_dim"
   ]
  },
  {
   "cell_type": "code",
   "execution_count": 199,
   "metadata": {
    "collapsed": true
   },
   "outputs": [],
   "source": [
    "from keras.models import Model, Sequential\n",
    "from keras.layers import LSTM, Dense, TimeDistributed, Dropout\n",
    "\n",
    "# Initialize the model\n",
    "model = Sequential()\n",
    "\n",
    "# arbitrarily picked the output dim to be 100\n",
    "model.add(LSTM(100, input_shape=(input_length, input_dim), return_sequences=True))\n",
    "# The max output value is > 1 so used relu as final activation\n",
    "# 50 is the output dimension in the layer\n",
    "# Input to this layer will have a shape (None, 3, 50) where 3 = stride_length, None = batch_size,\n",
    "#   and 50 = output layer size\n",
    "\n",
    "# Add dropout probability\n",
    "model.add(Dropout(0.2))\n",
    "# Another LSTM layer\n",
    "model.add(LSTM(50, return_sequences=True))\n",
    "model.add(Dropout(0.15))\n",
    "# Output dimension of 7, since I have a feature length of 7 (pollution + weather stuff)\n",
    "model.add(Dense(7, activation='softmax'))\n",
    "# Output dimension of 1, since I have a feature length of 1 (pollution is only output feature)\n",
    "model.add(TimeDistributed(Dense(1, activation='linear')))\n",
    "#model.add(Dense(output_dim, activation='relu'))\n",
    "\n",
    "# model.compile(loss='mean_squared_error',\n",
    "#              optimizer='rmsprop',\n",
    "#              metrics=['accuracy'])"
   ]
  },
  {
   "cell_type": "code",
   "execution_count": 200,
   "metadata": {
    "collapsed": true
   },
   "outputs": [],
   "source": [
    "model.compile(loss='mse',\n",
    "             optimizer='adam',\n",
    "             metrics=['accuracy'])"
   ]
  },
  {
   "cell_type": "code",
   "execution_count": 204,
   "metadata": {
    "scrolled": false
   },
   "outputs": [
    {
     "name": "stdout",
     "output_type": "stream",
     "text": [
      "Epoch 1/30\n",
      "4380/4380 [==============================] - 3s 799us/step - loss: 17712.2744 - acc: 4.5662e-04\n",
      "Epoch 2/30\n",
      "4380/4380 [==============================] - 3s 770us/step - loss: 17629.6444 - acc: 9.1324e-04\n",
      "Epoch 3/30\n",
      "4380/4380 [==============================] - 3s 791us/step - loss: 17548.2676 - acc: 6.0883e-04\n",
      "Epoch 4/30\n",
      "4380/4380 [==============================] - 3s 789us/step - loss: 17467.8015 - acc: 2.2831e-04\n",
      "Epoch 5/30\n",
      "4380/4380 [==============================] - 3s 774us/step - loss: 17388.0223 - acc: 2.2831e-04\n",
      "Epoch 6/30\n",
      "4380/4380 [==============================] - 4s 812us/step - loss: 17308.9094 - acc: 9.8935e-04\n",
      "Epoch 7/30\n",
      "4380/4380 [==============================] - 3s 789us/step - loss: 17230.2973 - acc: 0.0011\n",
      "Epoch 8/30\n",
      "4380/4380 [==============================] - 3s 779us/step - loss: 17152.1990 - acc: 0.0018\n",
      "Epoch 9/30\n",
      "4380/4380 [==============================] - 3s 798us/step - loss: 17074.6035 - acc: 0.0021\n",
      "Epoch 10/30\n",
      "4380/4380 [==============================] - 4s 843us/step - loss: 16997.4765 - acc: 0.0036\n",
      "Epoch 11/30\n",
      "4380/4380 [==============================] - 4s 805us/step - loss: 16920.8770 - acc: 0.0071\n",
      "Epoch 12/30\n",
      "4380/4380 [==============================] - 4s 820us/step - loss: 16844.7702 - acc: 0.0071\n",
      "Epoch 13/30\n",
      "4380/4380 [==============================] - 4s 850us/step - loss: 16769.0594 - acc: 0.0062\n",
      "Epoch 14/30\n",
      "4380/4380 [==============================] - 4s 814us/step - loss: 16693.7679 - acc: 0.0062\n",
      "Epoch 15/30\n",
      "4380/4380 [==============================] - 3s 786us/step - loss: 16618.9207 - acc: 0.0066\n",
      "Epoch 16/30\n",
      "4380/4380 [==============================] - 4s 804us/step - loss: 16544.4978 - acc: 0.0068\n",
      "Epoch 17/30\n",
      "4380/4380 [==============================] - 4s 802us/step - loss: 16470.4293 - acc: 0.0081\n",
      "Epoch 18/30\n",
      "4380/4380 [==============================] - 3s 785us/step - loss: 16396.7316 - acc: 0.0137\n",
      "Epoch 19/30\n",
      "4380/4380 [==============================] - 3s 798us/step - loss: 16323.5112 - acc: 0.0137\n",
      "Epoch 20/30\n",
      "4380/4380 [==============================] - 4s 808us/step - loss: 16250.7177 - acc: 0.0122\n",
      "Epoch 21/30\n",
      "4380/4380 [==============================] - 4s 800us/step - loss: 16178.2699 - acc: 0.0123\n",
      "Epoch 22/30\n",
      "4380/4380 [==============================] - 4s 842us/step - loss: 16106.1943 - acc: 0.0116\n",
      "Epoch 23/30\n",
      "4380/4380 [==============================] - 4s 805us/step - loss: 16034.5051 - acc: 0.0142\n",
      "Epoch 24/30\n",
      "4380/4380 [==============================] - 4s 847us/step - loss: 15963.2236 - acc: 0.0145\n",
      "Epoch 25/30\n",
      "4380/4380 [==============================] - 3s 798us/step - loss: 15892.3015 - acc: 0.0123\n",
      "Epoch 26/30\n",
      "4380/4380 [==============================] - 4s 811us/step - loss: 15821.7681 - acc: 0.0123\n",
      "Epoch 27/30\n",
      "4380/4380 [==============================] - 4s 861us/step - loss: 15751.5968 - acc: 0.0120\n",
      "Epoch 28/30\n",
      "4380/4380 [==============================] - 4s 842us/step - loss: 15681.7502 - acc: 0.0119\n",
      "Epoch 29/30\n",
      "4380/4380 [==============================] - 4s 801us/step - loss: 15612.3123 - acc: 0.0117\n",
      "Epoch 30/30\n",
      "4380/4380 [==============================] - 4s 819us/step - loss: 15543.2853 - acc: 0.0128\n"
     ]
    }
   ],
   "source": [
    "# Set batch_size to 30 to show that it doesn't have to be a factor \n",
    "# or multiple of your sample size\n",
    "history = model.fit(X_train, y_train,\n",
    "                   batch_size = 20, epochs=30,\n",
    "                   verbose = 1)"
   ]
  },
  {
   "cell_type": "code",
   "execution_count": 205,
   "metadata": {
    "scrolled": true
   },
   "outputs": [
    {
     "data": {
      "text/plain": [
       "array([[[ 14.11614132],\n",
       "        [ 14.1161499 ],\n",
       "        [ 14.1161499 ]],\n",
       "\n",
       "       [[ 14.11614799],\n",
       "        [ 14.1161499 ],\n",
       "        [ 14.1161499 ]],\n",
       "\n",
       "       [[ 14.11614799],\n",
       "        [ 14.1161499 ],\n",
       "        [ 14.1161499 ]],\n",
       "\n",
       "       ..., \n",
       "       [[ 14.11614799],\n",
       "        [ 14.1161499 ],\n",
       "        [ 14.1161499 ]],\n",
       "\n",
       "       [[ 14.11614799],\n",
       "        [ 14.1161499 ],\n",
       "        [ 14.1161499 ]],\n",
       "\n",
       "       [[ 14.11614799],\n",
       "        [ 14.1161499 ],\n",
       "        [ 14.1161499 ]]], dtype=float32)"
      ]
     },
     "execution_count": 205,
     "metadata": {},
     "output_type": "execute_result"
    }
   ],
   "source": [
    "model.predict(X_train)"
   ]
  },
  {
   "cell_type": "code",
   "execution_count": 206,
   "metadata": {},
   "outputs": [
    {
     "data": {
      "text/plain": [
       "array([[[ 234.],\n",
       "        [  19.],\n",
       "        [ 313.]],\n",
       "\n",
       "       [[ 258.],\n",
       "        [  45.],\n",
       "        [  25.]],\n",
       "\n",
       "       [[  76.],\n",
       "        [ 403.],\n",
       "        [ 150.]],\n",
       "\n",
       "       ..., \n",
       "       [[  53.],\n",
       "        [ 259.],\n",
       "        [  93.]],\n",
       "\n",
       "       [[  85.],\n",
       "        [ 118.],\n",
       "        [  11.]],\n",
       "\n",
       "       [[ 126.],\n",
       "        [ 126.],\n",
       "        [ 126.]]])"
      ]
     },
     "execution_count": 206,
     "metadata": {},
     "output_type": "execute_result"
    }
   ],
   "source": [
    "y_train"
   ]
  },
  {
   "cell_type": "code",
   "execution_count": null,
   "metadata": {
    "collapsed": true
   },
   "outputs": [],
   "source": []
  }
 ],
 "metadata": {
  "kernelspec": {
   "display_name": "Python 3",
   "language": "python",
   "name": "python3"
  },
  "language_info": {
   "codemirror_mode": {
    "name": "ipython",
    "version": 3
   },
   "file_extension": ".py",
   "mimetype": "text/x-python",
   "name": "python",
   "nbconvert_exporter": "python",
   "pygments_lexer": "ipython3",
   "version": "3.6.2"
  }
 },
 "nbformat": 4,
 "nbformat_minor": 2
}
