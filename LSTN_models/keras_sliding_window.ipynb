{
 "cells": [
  {
   "cell_type": "markdown",
   "metadata": {},
   "source": [
    "Imports"
   ]
  },
  {
   "cell_type": "code",
   "execution_count": 1,
   "metadata": {},
   "outputs": [
    {
     "name": "stderr",
     "output_type": "stream",
     "text": [
      "Using TensorFlow backend.\n"
     ]
    }
   ],
   "source": [
    "from math import sqrt\n",
    "from numpy import concatenate\n",
    "from matplotlib import pyplot as plt\n",
    "%matplotlib inline\n",
    "from sklearn.preprocessing import MinMaxScaler\n",
    "from sklearn.preprocessing import LabelEncoder\n",
    "from sklearn.metrics import mean_squared_error\n",
    "from keras.models import Sequential\n",
    "from keras.layers import Dense\n",
    "from keras.layers import LSTM\n",
    "import numpy as np\n",
    "import pandas as pd\n",
    "import time"
   ]
  },
  {
   "cell_type": "code",
   "execution_count": 2,
   "metadata": {
    "collapsed": true
   },
   "outputs": [],
   "source": [
    "from sklearn.model_selection import train_test_split\n",
    "from keras.preprocessing.sequence import pad_sequences"
   ]
  },
  {
   "cell_type": "markdown",
   "metadata": {},
   "source": [
    "## Baseline LSTM + room to change network architecture"
   ]
  },
  {
   "cell_type": "code",
   "execution_count": 3,
   "metadata": {
    "collapsed": true
   },
   "outputs": [],
   "source": [
    "def handle_wind_dir(data):\n",
    "    '''\n",
    "    Different ways to handle the string format:\n",
    "     1. Drop it\n",
    "     2. LabelEncode it\n",
    "     3. One-hot encode it\n",
    "     \n",
    "    The reason I need to handle it is because Keras' pad_sequences function takes int() of\n",
    "    all the columns.\n",
    "    '''\n",
    "    # I'll drop it first\n",
    "    data = data.drop('wnd_dir', axis=1, inplace=False)\n",
    "    return data"
   ]
  },
  {
   "cell_type": "code",
   "execution_count": 4,
   "metadata": {
    "collapsed": true
   },
   "outputs": [],
   "source": [
    "import warnings; warnings.filterwarnings('ignore')"
   ]
  },
  {
   "cell_type": "code",
   "execution_count": 5,
   "metadata": {
    "collapsed": true
   },
   "outputs": [],
   "source": [
    "df = pd.read_csv('pollution.csv', header=0, index_col=0)"
   ]
  },
  {
   "cell_type": "code",
   "execution_count": 6,
   "metadata": {
    "collapsed": true
   },
   "outputs": [],
   "source": [
    "# Optionally drop wind dir\n",
    "df = handle_wind_dir(df)"
   ]
  },
  {
   "cell_type": "code",
   "execution_count": 7,
   "metadata": {
    "collapsed": true
   },
   "outputs": [],
   "source": [
    "train, test = train_test_split(df, test_size=.998, random_state=789)"
   ]
  },
  {
   "cell_type": "code",
   "execution_count": 8,
   "metadata": {},
   "outputs": [
    {
     "data": {
      "text/plain": [
       "87"
      ]
     },
     "execution_count": 8,
     "metadata": {},
     "output_type": "execute_result"
    }
   ],
   "source": [
    "len(train)"
   ]
  },
  {
   "cell_type": "code",
   "execution_count": 9,
   "metadata": {},
   "outputs": [
    {
     "data": {
      "text/plain": [
       "43713"
      ]
     },
     "execution_count": 9,
     "metadata": {},
     "output_type": "execute_result"
    }
   ],
   "source": [
    "len(test)"
   ]
  },
  {
   "cell_type": "code",
   "execution_count": 10,
   "metadata": {
    "collapsed": true
   },
   "outputs": [],
   "source": [
    "def prepare_sequences(df):\n",
    "    ''' \n",
    "    Let df = train and prepare sequences.\n",
    "    '''\n",
    "    input_cols = list(df.columns)\n",
    "    df['single_input_vector'] = df[input_cols].apply(tuple, axis=1).apply(list)\\\n",
    "        .apply(lambda x: [list(x)])\n",
    "    return df.reset_index(drop=True)"
   ]
  },
  {
   "cell_type": "code",
   "execution_count": 11,
   "metadata": {
    "collapsed": true
   },
   "outputs": [],
   "source": [
    "train = prepare_sequences(train)"
   ]
  },
  {
   "cell_type": "code",
   "execution_count": 12,
   "metadata": {},
   "outputs": [
    {
     "data": {
      "text/html": [
       "<div>\n",
       "<style>\n",
       "    .dataframe thead tr:only-child th {\n",
       "        text-align: right;\n",
       "    }\n",
       "\n",
       "    .dataframe thead th {\n",
       "        text-align: left;\n",
       "    }\n",
       "\n",
       "    .dataframe tbody tr th {\n",
       "        vertical-align: top;\n",
       "    }\n",
       "</style>\n",
       "<table border=\"1\" class=\"dataframe\">\n",
       "  <thead>\n",
       "    <tr style=\"text-align: right;\">\n",
       "      <th></th>\n",
       "      <th>pollution</th>\n",
       "      <th>dew</th>\n",
       "      <th>temp</th>\n",
       "      <th>press</th>\n",
       "      <th>wnd_spd</th>\n",
       "      <th>snow</th>\n",
       "      <th>rain</th>\n",
       "      <th>single_input_vector</th>\n",
       "    </tr>\n",
       "  </thead>\n",
       "  <tbody>\n",
       "    <tr>\n",
       "      <th>0</th>\n",
       "      <td>16.0</td>\n",
       "      <td>10</td>\n",
       "      <td>14.0</td>\n",
       "      <td>1020.0</td>\n",
       "      <td>18.32</td>\n",
       "      <td>0</td>\n",
       "      <td>0</td>\n",
       "      <td>[[16.0, 10.0, 14.0, 1020.0, 18.32, 0.0, 0.0]]</td>\n",
       "    </tr>\n",
       "    <tr>\n",
       "      <th>1</th>\n",
       "      <td>12.0</td>\n",
       "      <td>-11</td>\n",
       "      <td>2.0</td>\n",
       "      <td>1025.0</td>\n",
       "      <td>109.07</td>\n",
       "      <td>0</td>\n",
       "      <td>0</td>\n",
       "      <td>[[12.0, -11.0, 2.0, 1025.0, 109.07, 0.0, 0.0]]</td>\n",
       "    </tr>\n",
       "    <tr>\n",
       "      <th>2</th>\n",
       "      <td>0.0</td>\n",
       "      <td>17</td>\n",
       "      <td>21.0</td>\n",
       "      <td>1012.0</td>\n",
       "      <td>48.27</td>\n",
       "      <td>0</td>\n",
       "      <td>0</td>\n",
       "      <td>[[0.0, 17.0, 21.0, 1012.0, 48.27, 0.0, 0.0]]</td>\n",
       "    </tr>\n",
       "    <tr>\n",
       "      <th>3</th>\n",
       "      <td>68.0</td>\n",
       "      <td>17</td>\n",
       "      <td>19.0</td>\n",
       "      <td>1006.0</td>\n",
       "      <td>3.58</td>\n",
       "      <td>0</td>\n",
       "      <td>0</td>\n",
       "      <td>[[68.0, 17.0, 19.0, 1006.0, 3.58, 0.0, 0.0]]</td>\n",
       "    </tr>\n",
       "    <tr>\n",
       "      <th>4</th>\n",
       "      <td>0.0</td>\n",
       "      <td>-19</td>\n",
       "      <td>5.0</td>\n",
       "      <td>1017.0</td>\n",
       "      <td>32.62</td>\n",
       "      <td>0</td>\n",
       "      <td>0</td>\n",
       "      <td>[[0.0, -19.0, 5.0, 1017.0, 32.62, 0.0, 0.0]]</td>\n",
       "    </tr>\n",
       "  </tbody>\n",
       "</table>\n",
       "</div>"
      ],
      "text/plain": [
       "   pollution  dew  temp   press  wnd_spd  snow  rain  \\\n",
       "0       16.0   10  14.0  1020.0    18.32     0     0   \n",
       "1       12.0  -11   2.0  1025.0   109.07     0     0   \n",
       "2        0.0   17  21.0  1012.0    48.27     0     0   \n",
       "3       68.0   17  19.0  1006.0     3.58     0     0   \n",
       "4        0.0  -19   5.0  1017.0    32.62     0     0   \n",
       "\n",
       "                              single_input_vector  \n",
       "0   [[16.0, 10.0, 14.0, 1020.0, 18.32, 0.0, 0.0]]  \n",
       "1  [[12.0, -11.0, 2.0, 1025.0, 109.07, 0.0, 0.0]]  \n",
       "2    [[0.0, 17.0, 21.0, 1012.0, 48.27, 0.0, 0.0]]  \n",
       "3    [[68.0, 17.0, 19.0, 1006.0, 3.58, 0.0, 0.0]]  \n",
       "4    [[0.0, -19.0, 5.0, 1017.0, 32.62, 0.0, 0.0]]  "
      ]
     },
     "execution_count": 12,
     "metadata": {},
     "output_type": "execute_result"
    }
   ],
   "source": [
    "train.head()"
   ]
  },
  {
   "cell_type": "code",
   "execution_count": 82,
   "metadata": {
    "collapsed": true
   },
   "outputs": [],
   "source": [
    "def func(x, maxlen=None):\n",
    "    '''\n",
    "    Pad sequences with lists of 0s. Functional lambda programming.\n",
    "    '''\n",
    "    zeros_to_add = maxlen - len(x)\n",
    "    prepended = [np.zeros(7).tolist()]\n",
    "    y = prepended*zeros_to_add + x\n",
    "    return y\n",
    "\n",
    "def balanced_sliding_windows(df, stride=3):\n",
    "    '''\n",
    "    Create sliding windows of size [n - 3, n + 3]. Let df=train.\n",
    "    '''\n",
    "    seqs = []\n",
    "    for i, value in df.iterrows():\n",
    "        if i >= stride and i < len(df) - stride:\n",
    "            sequences = df.iloc[i-stride:i+stride, 0].sum()\n",
    "        elif i < stride:\n",
    "            sequences = df.iloc[i:i+stride, 0].sum()\n",
    "        else:\n",
    "            sequences = df.iloc[i-stride:i,].sum()\n",
    "        seqs.append(sequences)\n",
    "    return pd.Series(seqs)\n",
    "        \n",
    "def past_windows(df, stride=3):\n",
    "    '''\n",
    "    Create windows of size [n - 3: n]. Let df=train.\n",
    "    '''\n",
    "    seqs = []\n",
    "    for i, value in df.iterrows():\n",
    "        if i >= stride and i < len(df) - stride:\n",
    "            sequences = df.iloc[i-stride:i, -1].sum()\n",
    "        elif i < stride:\n",
    "            sequences = df.iloc[0:i, -1].sum()\n",
    "        else:\n",
    "            sequences = df.iloc[i-stride:i, -1].sum()\n",
    "        if sequences == 0:\n",
    "            # Pad empty array with arrays of 0s\n",
    "            sequences = func([], stride)\n",
    "        if len(sequences) < stride:\n",
    "            # Pad with arrays of 0s\n",
    "            sequences = func(sequences, stride)\n",
    "        seqs.append(sequences)\n",
    "    return pd.Series(seqs)\n",
    "\n",
    "def future_windows(df, stride=3):\n",
    "    '''\n",
    "    Create windows of size [n : n+3]. Let df=train.\n",
    "    '''\n",
    "    seqs = []\n",
    "    for i, value in df.iterrows():\n",
    "        if i >= stride and i < len(df) - stride:\n",
    "            sequences = df.iloc[i:i+stride, -1].sum()\n",
    "        elif i < stride:\n",
    "            sequences = df.iloc[i:i+stride, -1].sum()\n",
    "        else:\n",
    "            sequences = df.iloc[i:, -1].sum()\n",
    "        if type(sequences) == 'int' and sequences == 0:\n",
    "            sequences = func([], stride)\n",
    "        if len(sequences) < stride:\n",
    "            # Pad with arrays of 0s\n",
    "            sequences = func(sequences, stride)\n",
    "        seqs.append(sequences)\n",
    "    return pd.Series(seqs)"
   ]
  },
  {
   "cell_type": "code",
   "execution_count": 83,
   "metadata": {
    "collapsed": true
   },
   "outputs": [],
   "source": [
    "input_vec = train['single_input_vector']\n",
    "input_vec = pd.DataFrame(input_vec)"
   ]
  },
  {
   "cell_type": "code",
   "execution_count": 84,
   "metadata": {
    "collapsed": true
   },
   "outputs": [],
   "source": [
    "# Good so far."
   ]
  },
  {
   "cell_type": "code",
   "execution_count": 85,
   "metadata": {},
   "outputs": [
    {
     "data": {
      "text/plain": [
       "0    [[16.0, 10.0, 14.0, 1020.0, 18.32, 0.0, 0.0], ...\n",
       "1    [[12.0, -11.0, 2.0, 1025.0, 109.07, 0.0, 0.0],...\n",
       "2    [[0.0, 17.0, 21.0, 1012.0, 48.27, 0.0, 0.0], [...\n",
       "3    [[16.0, 10.0, 14.0, 1020.0, 18.32, 0.0, 0.0], ...\n",
       "4    [[12.0, -11.0, 2.0, 1025.0, 109.07, 0.0, 0.0],...\n",
       "dtype: object"
      ]
     },
     "execution_count": 85,
     "metadata": {},
     "output_type": "execute_result"
    }
   ],
   "source": [
    "balanced_sliding_windows(input_vec).head()"
   ]
  },
  {
   "cell_type": "code",
   "execution_count": 86,
   "metadata": {},
   "outputs": [
    {
     "data": {
      "text/plain": [
       "0    [[0.0, 0.0, 0.0, 0.0, 0.0, 0.0, 0.0], [0.0, 0....\n",
       "1    [[0.0, 0.0, 0.0, 0.0, 0.0, 0.0, 0.0], [0.0, 0....\n",
       "2    [[0.0, 0.0, 0.0, 0.0, 0.0, 0.0, 0.0], [16.0, 1...\n",
       "3    [[16.0, 10.0, 14.0, 1020.0, 18.32, 0.0, 0.0], ...\n",
       "4    [[12.0, -11.0, 2.0, 1025.0, 109.07, 0.0, 0.0],...\n",
       "dtype: object"
      ]
     },
     "execution_count": 86,
     "metadata": {},
     "output_type": "execute_result"
    }
   ],
   "source": [
    "past_windows(input_vec).head()"
   ]
  },
  {
   "cell_type": "code",
   "execution_count": 87,
   "metadata": {},
   "outputs": [
    {
     "data": {
      "text/plain": [
       "0    [[16.0, 10.0, 14.0, 1020.0, 18.32, 0.0, 0.0], ...\n",
       "1    [[12.0, -11.0, 2.0, 1025.0, 109.07, 0.0, 0.0],...\n",
       "2    [[0.0, 17.0, 21.0, 1012.0, 48.27, 0.0, 0.0], [...\n",
       "3    [[68.0, 17.0, 19.0, 1006.0, 3.58, 0.0, 0.0], [...\n",
       "4    [[0.0, -19.0, 5.0, 1017.0, 32.62, 0.0, 0.0], [...\n",
       "dtype: object"
      ]
     },
     "execution_count": 87,
     "metadata": {},
     "output_type": "execute_result"
    }
   ],
   "source": [
    "future_windows(input_vec).head()"
   ]
  },
  {
   "cell_type": "code",
   "execution_count": 88,
   "metadata": {
    "collapsed": true
   },
   "outputs": [],
   "source": [
    "# Good so far"
   ]
  },
  {
   "cell_type": "code",
   "execution_count": 89,
   "metadata": {
    "collapsed": true
   },
   "outputs": [],
   "source": [
    "train['past_sequences'] = past_windows(input_vec)\n",
    "train['future_sequences'] = future_windows(input_vec)"
   ]
  },
  {
   "cell_type": "code",
   "execution_count": 90,
   "metadata": {},
   "outputs": [
    {
     "data": {
      "text/html": [
       "<div>\n",
       "<style>\n",
       "    .dataframe thead tr:only-child th {\n",
       "        text-align: right;\n",
       "    }\n",
       "\n",
       "    .dataframe thead th {\n",
       "        text-align: left;\n",
       "    }\n",
       "\n",
       "    .dataframe tbody tr th {\n",
       "        vertical-align: top;\n",
       "    }\n",
       "</style>\n",
       "<table border=\"1\" class=\"dataframe\">\n",
       "  <thead>\n",
       "    <tr style=\"text-align: right;\">\n",
       "      <th></th>\n",
       "      <th>pollution</th>\n",
       "      <th>dew</th>\n",
       "      <th>temp</th>\n",
       "      <th>press</th>\n",
       "      <th>wnd_spd</th>\n",
       "      <th>snow</th>\n",
       "      <th>rain</th>\n",
       "      <th>single_input_vector</th>\n",
       "      <th>past_sequences</th>\n",
       "      <th>future_sequences</th>\n",
       "      <th>output_vector</th>\n",
       "    </tr>\n",
       "  </thead>\n",
       "  <tbody>\n",
       "    <tr>\n",
       "      <th>0</th>\n",
       "      <td>16.0</td>\n",
       "      <td>10</td>\n",
       "      <td>14.0</td>\n",
       "      <td>1020.0</td>\n",
       "      <td>18.32</td>\n",
       "      <td>0</td>\n",
       "      <td>0</td>\n",
       "      <td>[[16.0, 10.0, 14.0, 1020.0, 18.32, 0.0, 0.0]]</td>\n",
       "      <td>[[0.0, 0.0, 0.0, 0.0, 0.0, 0.0, 0.0], [0.0, 0....</td>\n",
       "      <td>[[16.0, 10.0, 14.0, 1020.0, 18.32, 0.0, 0.0], ...</td>\n",
       "      <td>[[16.0, 10.0, 14.0, 1020.0, 18.32, 0.0, 0.0], ...</td>\n",
       "    </tr>\n",
       "    <tr>\n",
       "      <th>1</th>\n",
       "      <td>12.0</td>\n",
       "      <td>-11</td>\n",
       "      <td>2.0</td>\n",
       "      <td>1025.0</td>\n",
       "      <td>109.07</td>\n",
       "      <td>0</td>\n",
       "      <td>0</td>\n",
       "      <td>[[12.0, -11.0, 2.0, 1025.0, 109.07, 0.0, 0.0]]</td>\n",
       "      <td>[[0.0, 0.0, 0.0, 0.0, 0.0, 0.0, 0.0], [0.0, 0....</td>\n",
       "      <td>[[12.0, -11.0, 2.0, 1025.0, 109.07, 0.0, 0.0],...</td>\n",
       "      <td>[[12.0, -11.0, 2.0, 1025.0, 109.07, 0.0, 0.0],...</td>\n",
       "    </tr>\n",
       "    <tr>\n",
       "      <th>2</th>\n",
       "      <td>0.0</td>\n",
       "      <td>17</td>\n",
       "      <td>21.0</td>\n",
       "      <td>1012.0</td>\n",
       "      <td>48.27</td>\n",
       "      <td>0</td>\n",
       "      <td>0</td>\n",
       "      <td>[[0.0, 17.0, 21.0, 1012.0, 48.27, 0.0, 0.0]]</td>\n",
       "      <td>[[0.0, 0.0, 0.0, 0.0, 0.0, 0.0, 0.0], [16.0, 1...</td>\n",
       "      <td>[[0.0, 17.0, 21.0, 1012.0, 48.27, 0.0, 0.0], [...</td>\n",
       "      <td>[[0.0, 17.0, 21.0, 1012.0, 48.27, 0.0, 0.0], [...</td>\n",
       "    </tr>\n",
       "    <tr>\n",
       "      <th>3</th>\n",
       "      <td>68.0</td>\n",
       "      <td>17</td>\n",
       "      <td>19.0</td>\n",
       "      <td>1006.0</td>\n",
       "      <td>3.58</td>\n",
       "      <td>0</td>\n",
       "      <td>0</td>\n",
       "      <td>[[68.0, 17.0, 19.0, 1006.0, 3.58, 0.0, 0.0]]</td>\n",
       "      <td>[[16.0, 10.0, 14.0, 1020.0, 18.32, 0.0, 0.0], ...</td>\n",
       "      <td>[[68.0, 17.0, 19.0, 1006.0, 3.58, 0.0, 0.0], [...</td>\n",
       "      <td>[[68.0, 17.0, 19.0, 1006.0, 3.58, 0.0, 0.0], [...</td>\n",
       "    </tr>\n",
       "    <tr>\n",
       "      <th>4</th>\n",
       "      <td>0.0</td>\n",
       "      <td>-19</td>\n",
       "      <td>5.0</td>\n",
       "      <td>1017.0</td>\n",
       "      <td>32.62</td>\n",
       "      <td>0</td>\n",
       "      <td>0</td>\n",
       "      <td>[[0.0, -19.0, 5.0, 1017.0, 32.62, 0.0, 0.0]]</td>\n",
       "      <td>[[12.0, -11.0, 2.0, 1025.0, 109.07, 0.0, 0.0],...</td>\n",
       "      <td>[[0.0, -19.0, 5.0, 1017.0, 32.62, 0.0, 0.0], [...</td>\n",
       "      <td>[[0.0, -19.0, 5.0, 1017.0, 32.62, 0.0, 0.0], [...</td>\n",
       "    </tr>\n",
       "  </tbody>\n",
       "</table>\n",
       "</div>"
      ],
      "text/plain": [
       "   pollution  dew  temp   press  wnd_spd  snow  rain  \\\n",
       "0       16.0   10  14.0  1020.0    18.32     0     0   \n",
       "1       12.0  -11   2.0  1025.0   109.07     0     0   \n",
       "2        0.0   17  21.0  1012.0    48.27     0     0   \n",
       "3       68.0   17  19.0  1006.0     3.58     0     0   \n",
       "4        0.0  -19   5.0  1017.0    32.62     0     0   \n",
       "\n",
       "                              single_input_vector  \\\n",
       "0   [[16.0, 10.0, 14.0, 1020.0, 18.32, 0.0, 0.0]]   \n",
       "1  [[12.0, -11.0, 2.0, 1025.0, 109.07, 0.0, 0.0]]   \n",
       "2    [[0.0, 17.0, 21.0, 1012.0, 48.27, 0.0, 0.0]]   \n",
       "3    [[68.0, 17.0, 19.0, 1006.0, 3.58, 0.0, 0.0]]   \n",
       "4    [[0.0, -19.0, 5.0, 1017.0, 32.62, 0.0, 0.0]]   \n",
       "\n",
       "                                      past_sequences  \\\n",
       "0  [[0.0, 0.0, 0.0, 0.0, 0.0, 0.0, 0.0], [0.0, 0....   \n",
       "1  [[0.0, 0.0, 0.0, 0.0, 0.0, 0.0, 0.0], [0.0, 0....   \n",
       "2  [[0.0, 0.0, 0.0, 0.0, 0.0, 0.0, 0.0], [16.0, 1...   \n",
       "3  [[16.0, 10.0, 14.0, 1020.0, 18.32, 0.0, 0.0], ...   \n",
       "4  [[12.0, -11.0, 2.0, 1025.0, 109.07, 0.0, 0.0],...   \n",
       "\n",
       "                                    future_sequences  \\\n",
       "0  [[16.0, 10.0, 14.0, 1020.0, 18.32, 0.0, 0.0], ...   \n",
       "1  [[12.0, -11.0, 2.0, 1025.0, 109.07, 0.0, 0.0],...   \n",
       "2  [[0.0, 17.0, 21.0, 1012.0, 48.27, 0.0, 0.0], [...   \n",
       "3  [[68.0, 17.0, 19.0, 1006.0, 3.58, 0.0, 0.0], [...   \n",
       "4  [[0.0, -19.0, 5.0, 1017.0, 32.62, 0.0, 0.0], [...   \n",
       "\n",
       "                                       output_vector  \n",
       "0  [[16.0, 10.0, 14.0, 1020.0, 18.32, 0.0, 0.0], ...  \n",
       "1  [[12.0, -11.0, 2.0, 1025.0, 109.07, 0.0, 0.0],...  \n",
       "2  [[0.0, 17.0, 21.0, 1012.0, 48.27, 0.0, 0.0], [...  \n",
       "3  [[68.0, 17.0, 19.0, 1006.0, 3.58, 0.0, 0.0], [...  \n",
       "4  [[0.0, -19.0, 5.0, 1017.0, 32.62, 0.0, 0.0], [...  "
      ]
     },
     "execution_count": 90,
     "metadata": {},
     "output_type": "execute_result"
    }
   ],
   "source": [
    "train.head()"
   ]
  },
  {
   "cell_type": "code",
   "execution_count": null,
   "metadata": {},
   "outputs": [],
   "source": []
  },
  {
   "cell_type": "code",
   "execution_count": 135,
   "metadata": {
    "collapsed": true
   },
   "outputs": [],
   "source": [
    "# predicting G for now, just a test example\n",
    "# If your output is multi-dimensional, you need to capture those \n",
    "# dimensions in one object\n",
    "# If your output is a single dimension, this step may be unnecessary\n",
    "def set_output_featureset(df):\n",
    "    '''\n",
    "    Let df=train and prepare output vector\n",
    "    '''\n",
    "    df['output_vector'] = df['future_sequences']\n",
    "    return df"
   ]
  },
  {
   "cell_type": "code",
   "execution_count": 92,
   "metadata": {
    "collapsed": true,
    "scrolled": true
   },
   "outputs": [],
   "source": [
    "train = set_output_featureset(train)"
   ]
  },
  {
   "cell_type": "code",
   "execution_count": 93,
   "metadata": {},
   "outputs": [
    {
     "data": {
      "text/html": [
       "<div>\n",
       "<style>\n",
       "    .dataframe thead tr:only-child th {\n",
       "        text-align: right;\n",
       "    }\n",
       "\n",
       "    .dataframe thead th {\n",
       "        text-align: left;\n",
       "    }\n",
       "\n",
       "    .dataframe tbody tr th {\n",
       "        vertical-align: top;\n",
       "    }\n",
       "</style>\n",
       "<table border=\"1\" class=\"dataframe\">\n",
       "  <thead>\n",
       "    <tr style=\"text-align: right;\">\n",
       "      <th></th>\n",
       "      <th>pollution</th>\n",
       "      <th>dew</th>\n",
       "      <th>temp</th>\n",
       "      <th>press</th>\n",
       "      <th>wnd_spd</th>\n",
       "      <th>snow</th>\n",
       "      <th>rain</th>\n",
       "      <th>single_input_vector</th>\n",
       "      <th>past_sequences</th>\n",
       "      <th>future_sequences</th>\n",
       "      <th>output_vector</th>\n",
       "    </tr>\n",
       "  </thead>\n",
       "  <tbody>\n",
       "    <tr>\n",
       "      <th>0</th>\n",
       "      <td>16.0</td>\n",
       "      <td>10</td>\n",
       "      <td>14.0</td>\n",
       "      <td>1020.0</td>\n",
       "      <td>18.32</td>\n",
       "      <td>0</td>\n",
       "      <td>0</td>\n",
       "      <td>[[16.0, 10.0, 14.0, 1020.0, 18.32, 0.0, 0.0]]</td>\n",
       "      <td>[[0.0, 0.0, 0.0, 0.0, 0.0, 0.0, 0.0], [0.0, 0....</td>\n",
       "      <td>[[16.0, 10.0, 14.0, 1020.0, 18.32, 0.0, 0.0], ...</td>\n",
       "      <td>[[16.0, 10.0, 14.0, 1020.0, 18.32, 0.0, 0.0], ...</td>\n",
       "    </tr>\n",
       "    <tr>\n",
       "      <th>1</th>\n",
       "      <td>12.0</td>\n",
       "      <td>-11</td>\n",
       "      <td>2.0</td>\n",
       "      <td>1025.0</td>\n",
       "      <td>109.07</td>\n",
       "      <td>0</td>\n",
       "      <td>0</td>\n",
       "      <td>[[12.0, -11.0, 2.0, 1025.0, 109.07, 0.0, 0.0]]</td>\n",
       "      <td>[[0.0, 0.0, 0.0, 0.0, 0.0, 0.0, 0.0], [0.0, 0....</td>\n",
       "      <td>[[12.0, -11.0, 2.0, 1025.0, 109.07, 0.0, 0.0],...</td>\n",
       "      <td>[[12.0, -11.0, 2.0, 1025.0, 109.07, 0.0, 0.0],...</td>\n",
       "    </tr>\n",
       "    <tr>\n",
       "      <th>2</th>\n",
       "      <td>0.0</td>\n",
       "      <td>17</td>\n",
       "      <td>21.0</td>\n",
       "      <td>1012.0</td>\n",
       "      <td>48.27</td>\n",
       "      <td>0</td>\n",
       "      <td>0</td>\n",
       "      <td>[[0.0, 17.0, 21.0, 1012.0, 48.27, 0.0, 0.0]]</td>\n",
       "      <td>[[0.0, 0.0, 0.0, 0.0, 0.0, 0.0, 0.0], [16.0, 1...</td>\n",
       "      <td>[[0.0, 17.0, 21.0, 1012.0, 48.27, 0.0, 0.0], [...</td>\n",
       "      <td>[[0.0, 17.0, 21.0, 1012.0, 48.27, 0.0, 0.0], [...</td>\n",
       "    </tr>\n",
       "    <tr>\n",
       "      <th>3</th>\n",
       "      <td>68.0</td>\n",
       "      <td>17</td>\n",
       "      <td>19.0</td>\n",
       "      <td>1006.0</td>\n",
       "      <td>3.58</td>\n",
       "      <td>0</td>\n",
       "      <td>0</td>\n",
       "      <td>[[68.0, 17.0, 19.0, 1006.0, 3.58, 0.0, 0.0]]</td>\n",
       "      <td>[[16.0, 10.0, 14.0, 1020.0, 18.32, 0.0, 0.0], ...</td>\n",
       "      <td>[[68.0, 17.0, 19.0, 1006.0, 3.58, 0.0, 0.0], [...</td>\n",
       "      <td>[[68.0, 17.0, 19.0, 1006.0, 3.58, 0.0, 0.0], [...</td>\n",
       "    </tr>\n",
       "    <tr>\n",
       "      <th>4</th>\n",
       "      <td>0.0</td>\n",
       "      <td>-19</td>\n",
       "      <td>5.0</td>\n",
       "      <td>1017.0</td>\n",
       "      <td>32.62</td>\n",
       "      <td>0</td>\n",
       "      <td>0</td>\n",
       "      <td>[[0.0, -19.0, 5.0, 1017.0, 32.62, 0.0, 0.0]]</td>\n",
       "      <td>[[12.0, -11.0, 2.0, 1025.0, 109.07, 0.0, 0.0],...</td>\n",
       "      <td>[[0.0, -19.0, 5.0, 1017.0, 32.62, 0.0, 0.0], [...</td>\n",
       "      <td>[[0.0, -19.0, 5.0, 1017.0, 32.62, 0.0, 0.0], [...</td>\n",
       "    </tr>\n",
       "  </tbody>\n",
       "</table>\n",
       "</div>"
      ],
      "text/plain": [
       "   pollution  dew  temp   press  wnd_spd  snow  rain  \\\n",
       "0       16.0   10  14.0  1020.0    18.32     0     0   \n",
       "1       12.0  -11   2.0  1025.0   109.07     0     0   \n",
       "2        0.0   17  21.0  1012.0    48.27     0     0   \n",
       "3       68.0   17  19.0  1006.0     3.58     0     0   \n",
       "4        0.0  -19   5.0  1017.0    32.62     0     0   \n",
       "\n",
       "                              single_input_vector  \\\n",
       "0   [[16.0, 10.0, 14.0, 1020.0, 18.32, 0.0, 0.0]]   \n",
       "1  [[12.0, -11.0, 2.0, 1025.0, 109.07, 0.0, 0.0]]   \n",
       "2    [[0.0, 17.0, 21.0, 1012.0, 48.27, 0.0, 0.0]]   \n",
       "3    [[68.0, 17.0, 19.0, 1006.0, 3.58, 0.0, 0.0]]   \n",
       "4    [[0.0, -19.0, 5.0, 1017.0, 32.62, 0.0, 0.0]]   \n",
       "\n",
       "                                      past_sequences  \\\n",
       "0  [[0.0, 0.0, 0.0, 0.0, 0.0, 0.0, 0.0], [0.0, 0....   \n",
       "1  [[0.0, 0.0, 0.0, 0.0, 0.0, 0.0, 0.0], [0.0, 0....   \n",
       "2  [[0.0, 0.0, 0.0, 0.0, 0.0, 0.0, 0.0], [16.0, 1...   \n",
       "3  [[16.0, 10.0, 14.0, 1020.0, 18.32, 0.0, 0.0], ...   \n",
       "4  [[12.0, -11.0, 2.0, 1025.0, 109.07, 0.0, 0.0],...   \n",
       "\n",
       "                                    future_sequences  \\\n",
       "0  [[16.0, 10.0, 14.0, 1020.0, 18.32, 0.0, 0.0], ...   \n",
       "1  [[12.0, -11.0, 2.0, 1025.0, 109.07, 0.0, 0.0],...   \n",
       "2  [[0.0, 17.0, 21.0, 1012.0, 48.27, 0.0, 0.0], [...   \n",
       "3  [[68.0, 17.0, 19.0, 1006.0, 3.58, 0.0, 0.0], [...   \n",
       "4  [[0.0, -19.0, 5.0, 1017.0, 32.62, 0.0, 0.0], [...   \n",
       "\n",
       "                                       output_vector  \n",
       "0  [[16.0, 10.0, 14.0, 1020.0, 18.32, 0.0, 0.0], ...  \n",
       "1  [[12.0, -11.0, 2.0, 1025.0, 109.07, 0.0, 0.0],...  \n",
       "2  [[0.0, 17.0, 21.0, 1012.0, 48.27, 0.0, 0.0], [...  \n",
       "3  [[68.0, 17.0, 19.0, 1006.0, 3.58, 0.0, 0.0], [...  \n",
       "4  [[0.0, -19.0, 5.0, 1017.0, 32.62, 0.0, 0.0], [...  "
      ]
     },
     "execution_count": 93,
     "metadata": {},
     "output_type": "execute_result"
    }
   ],
   "source": [
    "train.head()"
   ]
  },
  {
   "cell_type": "code",
   "execution_count": null,
   "metadata": {
    "collapsed": true
   },
   "outputs": [],
   "source": []
  },
  {
   "cell_type": "code",
   "execution_count": 94,
   "metadata": {},
   "outputs": [],
   "source": [
    "# Extract your training data\n",
    "X_train_init = np.asarray(train.past_sequences)\n",
    "stride_length = 3\n",
    "# Training data for LSTM should be in the form of a 3D tuple:\n",
    "#   (# of samples, timesteps, input_dim)\n",
    "# Note that the input data that comes out of the dataframe \n",
    "# will not make a 3D array. It makes an array of arrays, \n",
    "# which is not the same thing.\n",
    "# So far X_train_init is an array of arrays.\n",
    "\n",
    "# Convert to 3D vector usng hstack and reshape\n",
    "# horizontal stack = hstack, essentially removes the outer array \n",
    "#  encapsulation.\n",
    "\n",
    "# reshape into (# of records, total_timesteps, input_dim)\n",
    "# The reshape essentially reshaped the inner list into an 11 by 6 matrix,\n",
    "#  or a max_sequence_length (rows) by input_dim (col) matrix\n",
    "X_train = np.hstack(X_train_init).reshape(len(train), \n",
    "                                          stride_length,\n",
    "                                         len(df.columns))\n",
    "y_train_init = np.asarray(train.output_vector)\n",
    "y_train = np.hstack(y_train_init).reshape(len(train), \n",
    "                                          stride_length,\n",
    "                                          len(df.columns))"
   ]
  },
  {
   "cell_type": "code",
   "execution_count": 95,
   "metadata": {},
   "outputs": [
    {
     "data": {
      "text/plain": [
       "(87, 7)"
      ]
     },
     "execution_count": 95,
     "metadata": {},
     "output_type": "execute_result"
    }
   ],
   "source": [
    "len(train), len(df.columns)"
   ]
  },
  {
   "cell_type": "code",
   "execution_count": 97,
   "metadata": {},
   "outputs": [],
   "source": [
    "# Debugging\n",
    "#train[train.output_vector.apply(lambda x: True if len(x) != 3 else False)]"
   ]
  },
  {
   "cell_type": "code",
   "execution_count": 98,
   "metadata": {},
   "outputs": [
    {
     "name": "stdout",
     "output_type": "stream",
     "text": [
      "(87, 3, 7)\n",
      "(87, 3, 7)\n"
     ]
    }
   ],
   "source": [
    "print(X_train.shape)\n",
    "print(y_train.shape)"
   ]
  },
  {
   "cell_type": "code",
   "execution_count": null,
   "metadata": {
    "collapsed": true
   },
   "outputs": [],
   "source": []
  },
  {
   "cell_type": "code",
   "execution_count": 99,
   "metadata": {
    "collapsed": true
   },
   "outputs": [],
   "source": [
    "# Get your input dimensions\n",
    "# Input length is the length for one input sequence \n",
    "#  (i.e. the number of rows for your sample, which is\n",
    "#     the max_sequence_length by construction)\n",
    "input_length = X_train.shape[1]\n",
    "# Input dim is the number of dimensions in one input vector \n",
    "#  (i.e. number of input columns)\n",
    "input_dim = X_train.shape[2]\n",
    "output_dim = len(y_train[0])"
   ]
  },
  {
   "cell_type": "code",
   "execution_count": 102,
   "metadata": {},
   "outputs": [
    {
     "data": {
      "text/plain": [
       "3"
      ]
     },
     "execution_count": 102,
     "metadata": {},
     "output_type": "execute_result"
    }
   ],
   "source": [
    "output_dim"
   ]
  },
  {
   "cell_type": "code",
   "execution_count": 130,
   "metadata": {},
   "outputs": [],
   "source": [
    "from keras.models import Model, Sequential\n",
    "from keras.layers import LSTM, Dense\n",
    "\n",
    "# Initialize the model\n",
    "model = Sequential()\n",
    "\n",
    "# arbitrarily picked the output dim to be 100\n",
    "model.add(LSTM(100, input_shape=(input_length, input_dim), return_sequences=True))\n",
    "# The max output value is > 1 so used relu as final activation\n",
    "# 50 is the output dimension in the layer\n",
    "# Input to this layer will have a shape (None, 3, 50) where 3 = stride_length, None = batch_size,\n",
    "#   and 50 = output layer size\n",
    "model.add(LSTM(50, return_sequences=True))\n",
    "# Output dimension of 7, since I have a feature length of 7\n",
    "model.add(Dense(7, activation='relu'))\n",
    "#model.add(Dense(output_dim, activation='relu'))\n",
    "\n",
    "# model.compile(loss='mean_squared_error',\n",
    "#              optimizer='rmsprop',\n",
    "#              metrics=['accuracy'])"
   ]
  },
  {
   "cell_type": "code",
   "execution_count": 132,
   "metadata": {
    "collapsed": true
   },
   "outputs": [],
   "source": [
    "model.compile(loss='mse',\n",
    "             optimizer='rmsprop',\n",
    "             metrics=['mse'])"
   ]
  },
  {
   "cell_type": "code",
   "execution_count": 133,
   "metadata": {
    "scrolled": false
   },
   "outputs": [
    {
     "name": "stdout",
     "output_type": "stream",
     "text": [
      "Epoch 1/50\n",
      "87/87 [==============================] - 2s 19ms/step - loss: 144305.0178 - mean_squared_error: 144305.0232\n",
      "Epoch 2/50\n",
      "87/87 [==============================] - 0s 599us/step - loss: 144220.5997 - mean_squared_error: 144220.6051\n",
      "Epoch 3/50\n",
      "87/87 [==============================] - 0s 628us/step - loss: 144160.4547 - mean_squared_error: 144160.4445\n",
      "Epoch 4/50\n",
      "87/87 [==============================] - 0s 618us/step - loss: 144108.5948 - mean_squared_error: 144108.5948\n",
      "Epoch 5/50\n",
      "87/87 [==============================] - 0s 693us/step - loss: 144060.8939 - mean_squared_error: 144060.8933\n",
      "Epoch 6/50\n",
      "87/87 [==============================] - 0s 782us/step - loss: 144015.5738 - mean_squared_error: 144015.5846\n",
      "Epoch 7/50\n",
      "87/87 [==============================] - ETA: 0s - loss: 145095.2031 - mean_squared_error: 145095.21 - 0s 799us/step - loss: 143971.8863 - mean_squared_error: 143971.9019\n",
      "Epoch 8/50\n",
      "87/87 [==============================] - 0s 761us/step - loss: 143929.2371 - mean_squared_error: 143929.2425\n",
      "Epoch 9/50\n",
      "87/87 [==============================] - 0s 671us/step - loss: 143887.5059 - mean_squared_error: 143887.4903\n",
      "Epoch 10/50\n",
      "87/87 [==============================] - 0s 708us/step - loss: 143846.0022 - mean_squared_error: 143845.9962\n",
      "Epoch 11/50\n",
      "87/87 [==============================] - 0s 737us/step - loss: 143804.9634 - mean_squared_error: 143804.9688\n",
      "Epoch 12/50\n",
      "87/87 [==============================] - 0s 709us/step - loss: 143764.2732 - mean_squared_error: 143764.2678\n",
      "Epoch 13/50\n",
      "87/87 [==============================] - 0s 644us/step - loss: 143723.6616 - mean_squared_error: 143723.6562\n",
      "Epoch 14/50\n",
      "87/87 [==============================] - 0s 694us/step - loss: 143683.0900 - mean_squared_error: 143683.0846\n",
      "Epoch 15/50\n",
      "87/87 [==============================] - 0s 629us/step - loss: 143642.9300 - mean_squared_error: 143642.9203\n",
      "Epoch 16/50\n",
      "87/87 [==============================] - 0s 691us/step - loss: 143602.6789 - mean_squared_error: 143602.6681\n",
      "Epoch 17/50\n",
      "87/87 [==============================] - 0s 726us/step - loss: 143562.3976 - mean_squared_error: 143562.3820\n",
      "Epoch 18/50\n",
      "87/87 [==============================] - 0s 697us/step - loss: 143522.1934 - mean_squared_error: 143522.1934\n",
      "Epoch 19/50\n",
      "87/87 [==============================] - 0s 683us/step - loss: 143481.9747 - mean_squared_error: 143481.9747\n",
      "Epoch 20/50\n",
      "87/87 [==============================] - 0s 687us/step - loss: 143441.8297 - mean_squared_error: 143441.8351\n",
      "Epoch 21/50\n",
      "87/87 [==============================] - 0s 633us/step - loss: 143401.7010 - mean_squared_error: 143401.7010\n",
      "Epoch 22/50\n",
      "87/87 [==============================] - 0s 640us/step - loss: 143361.5609 - mean_squared_error: 143361.5663\n",
      "Epoch 23/50\n",
      "87/87 [==============================] - 0s 666us/step - loss: 143321.4450 - mean_squared_error: 143321.4397\n",
      "Epoch 24/50\n",
      "87/87 [==============================] - 0s 665us/step - loss: 143281.3874 - mean_squared_error: 143281.3815\n",
      "Epoch 25/50\n",
      "87/87 [==============================] - 0s 615us/step - loss: 143241.3825 - mean_squared_error: 143241.3928\n",
      "Epoch 26/50\n",
      "87/87 [==============================] - 0s 651us/step - loss: 143201.2446 - mean_squared_error: 143201.2446\n",
      "Epoch 27/50\n",
      "87/87 [==============================] - 0s 631us/step - loss: 143161.2301 - mean_squared_error: 143161.2360\n",
      "Epoch 28/50\n",
      "87/87 [==============================] - 0s 641us/step - loss: 143121.1223 - mean_squared_error: 143121.1175\n",
      "Epoch 29/50\n",
      "87/87 [==============================] - 0s 613us/step - loss: 143080.9256 - mean_squared_error: 143080.9310\n",
      "Epoch 30/50\n",
      "87/87 [==============================] - 0s 643us/step - loss: 143041.0744 - mean_squared_error: 143041.0797\n",
      "Epoch 31/50\n",
      "87/87 [==============================] - 0s 597us/step - loss: 143000.8739 - mean_squared_error: 143000.8745\n",
      "Epoch 32/50\n",
      "87/87 [==============================] - 0s 676us/step - loss: 142960.7823 - mean_squared_error: 142960.7877\n",
      "Epoch 33/50\n",
      "87/87 [==============================] - 0s 698us/step - loss: 142920.8141 - mean_squared_error: 142920.8033\n",
      "Epoch 34/50\n",
      "87/87 [==============================] - 0s 684us/step - loss: 142880.7462 - mean_squared_error: 142880.7355\n",
      "Epoch 35/50\n",
      "87/87 [==============================] - 0s 700us/step - loss: 142840.5447 - mean_squared_error: 142840.5345\n",
      "Epoch 36/50\n",
      "87/87 [==============================] - 0s 676us/step - loss: 142800.5189 - mean_squared_error: 142800.5129\n",
      "Epoch 37/50\n",
      "87/87 [==============================] - 0s 654us/step - loss: 142760.2872 - mean_squared_error: 142760.2764\n",
      "Epoch 38/50\n",
      "87/87 [==============================] - 0s 716us/step - loss: 142720.1482 - mean_squared_error: 142720.1579\n",
      "Epoch 39/50\n",
      "87/87 [==============================] - 0s 651us/step - loss: 142680.0981 - mean_squared_error: 142680.0975\n",
      "Epoch 40/50\n",
      "87/87 [==============================] - 0s 660us/step - loss: 142639.9488 - mean_squared_error: 142639.9537\n",
      "Epoch 41/50\n",
      "87/87 [==============================] - 0s 664us/step - loss: 142599.8405 - mean_squared_error: 142599.8351\n",
      "Epoch 42/50\n",
      "87/87 [==============================] - 0s 679us/step - loss: 142559.6067 - mean_squared_error: 142559.6115\n",
      "Epoch 43/50\n",
      "87/87 [==============================] - 0s 669us/step - loss: 142519.5296 - mean_squared_error: 142519.5135\n",
      "Epoch 44/50\n",
      "87/87 [==============================] - 0s 664us/step - loss: 142479.3335 - mean_squared_error: 142479.3389\n",
      "Epoch 45/50\n",
      "87/87 [==============================] - 0s 690us/step - loss: 142439.1853 - mean_squared_error: 142439.1853\n",
      "Epoch 46/50\n",
      "87/87 [==============================] - 0s 658us/step - loss: 142399.0022 - mean_squared_error: 142399.0022\n",
      "Epoch 47/50\n",
      "87/87 [==============================] - 0s 679us/step - loss: 142358.8475 - mean_squared_error: 142358.8427\n",
      "Epoch 48/50\n",
      "87/87 [==============================] - 0s 639us/step - loss: 142318.6816 - mean_squared_error: 142318.6810\n",
      "Epoch 49/50\n",
      "87/87 [==============================] - 0s 672us/step - loss: 142278.4343 - mean_squared_error: 142278.4289\n",
      "Epoch 50/50\n",
      "87/87 [==============================] - 0s 678us/step - loss: 142238.3098 - mean_squared_error: 142238.3050\n"
     ]
    }
   ],
   "source": [
    "# Set batch_size to 30 to show that it doesn't have to be a factor \n",
    "# or multiple of your sample size\n",
    "history = model.fit(X_train, y_train,\n",
    "                   batch_size = 30, epochs=50,\n",
    "                   verbose = 1)"
   ]
  },
  {
   "cell_type": "code",
   "execution_count": 134,
   "metadata": {
    "scrolled": true
   },
   "outputs": [
    {
     "data": {
      "text/plain": [
       "array([[[  0.        ,   0.        ,   0.        , ...,  11.9026413 ,\n",
       "           0.        ,   0.03339411],\n",
       "        [  0.        ,   0.        ,   0.        , ...,  16.65005493,\n",
       "           0.        ,   0.05424776],\n",
       "        [  0.        ,   0.        ,   0.        , ...,  17.27027512,\n",
       "           0.        ,   0.05687078]],\n",
       "\n",
       "       [[  0.        ,   0.        ,   0.        , ...,  13.29907131,\n",
       "           0.        ,   0.04295556],\n",
       "        [  0.        ,   0.        ,   0.        , ...,  16.75527191,\n",
       "           0.        ,   0.0551289 ],\n",
       "        [  0.        ,   0.        ,   0.        , ...,  17.2850132 ,\n",
       "           0.        ,   0.0569947 ]],\n",
       "\n",
       "       [[  0.        ,   0.        ,   0.        , ...,  13.29907131,\n",
       "           0.        ,   0.04295556],\n",
       "        [  0.        ,   0.        ,   0.        , ...,  16.75527191,\n",
       "           0.        ,   0.0551289 ],\n",
       "        [  0.        ,   0.        ,   0.        , ...,  17.2850132 ,\n",
       "           0.        ,   0.0569947 ]],\n",
       "\n",
       "       ..., \n",
       "       [[  0.        ,   0.        ,   0.        , ...,  13.29907131,\n",
       "           0.        ,   0.04295554],\n",
       "        [  0.        ,   0.        ,   0.        , ...,  16.75527191,\n",
       "           0.        ,   0.05512893],\n",
       "        [  0.        ,   0.        ,   0.        , ...,  17.2850132 ,\n",
       "           0.        ,   0.0569947 ]],\n",
       "\n",
       "       [[  0.        ,   0.        ,   0.        , ...,  13.29907131,\n",
       "           0.        ,   0.04295554],\n",
       "        [  0.        ,   0.        ,   0.        , ...,  16.75527191,\n",
       "           0.        ,   0.05512893],\n",
       "        [  0.        ,   0.        ,   0.        , ...,  17.2850132 ,\n",
       "           0.        ,   0.0569947 ]],\n",
       "\n",
       "       [[  0.        ,   0.        ,   0.        , ...,  13.29907131,\n",
       "           0.        ,   0.04295554],\n",
       "        [  0.        ,   0.        ,   0.        , ...,  16.75527191,\n",
       "           0.        ,   0.05512893],\n",
       "        [  0.        ,   0.        ,   0.        , ...,  17.28501129,\n",
       "           0.        ,   0.05699464]]], dtype=float32)"
      ]
     },
     "execution_count": 134,
     "metadata": {},
     "output_type": "execute_result"
    }
   ],
   "source": [
    "model.predict(X_train)"
   ]
  },
  {
   "cell_type": "code",
   "execution_count": 125,
   "metadata": {},
   "outputs": [
    {
     "data": {
      "text/plain": [
       "array([[[  16.  ,   10.  ,   14.  , ...,   18.32,    0.  ,    0.  ],\n",
       "        [  12.  ,  -11.  ,    2.  , ...,  109.07,    0.  ,    0.  ],\n",
       "        [   0.  ,   17.  ,   21.  , ...,   48.27,    0.  ,    0.  ]],\n",
       "\n",
       "       [[  68.  ,   17.  ,   19.  , ...,    3.58,    0.  ,    0.  ],\n",
       "        [   0.  ,  -19.  ,    5.  , ...,   32.62,    0.  ,    0.  ],\n",
       "        [ 390.  ,   -8.  ,    0.  , ...,    0.89,    0.  ,    0.  ]],\n",
       "\n",
       "       [[   6.  ,    1.  ,    2.  , ...,    0.89,    0.  ,    0.  ],\n",
       "        [  13.  ,  -24.  ,   -5.  , ...,  266.42,    0.  ,    0.  ],\n",
       "        [  18.  ,  -17.  ,   11.  , ...,   59.01,    0.  ,    0.  ]],\n",
       "\n",
       "       ..., \n",
       "       [[  53.  ,   -8.  ,    8.  , ...,    6.26,    0.  ,    0.  ],\n",
       "        [ 259.  ,   12.  ,   15.  , ...,    9.39,    0.  ,    0.  ],\n",
       "        [  93.  ,   -4.  ,   10.  , ...,    2.68,    0.  ,    0.  ]],\n",
       "\n",
       "       [[  85.  ,   16.  ,   26.  , ...,   21.01,    0.  ,    0.  ],\n",
       "        [ 118.  ,   21.  ,   23.  , ...,    1.79,    0.  ,    0.  ],\n",
       "        [  11.  ,  -23.  ,   -1.  , ...,   66.59,    0.  ,    0.  ]],\n",
       "\n",
       "       [[ 126.  ,   22.  ,   24.  , ...,    1.79,    0.  ,    0.  ],\n",
       "        [ 126.  ,   22.  ,   24.  , ...,    1.79,    0.  ,    0.  ],\n",
       "        [ 126.  ,   22.  ,   24.  , ...,    1.79,    0.  ,    0.  ]]])"
      ]
     },
     "execution_count": 125,
     "metadata": {},
     "output_type": "execute_result"
    }
   ],
   "source": [
    "y_train"
   ]
  },
  {
   "cell_type": "code",
   "execution_count": null,
   "metadata": {
    "collapsed": true
   },
   "outputs": [],
   "source": []
  }
 ],
 "metadata": {
  "kernelspec": {
   "display_name": "Python 3",
   "language": "python",
   "name": "python3"
  },
  "language_info": {
   "codemirror_mode": {
    "name": "ipython",
    "version": 3
   },
   "file_extension": ".py",
   "mimetype": "text/x-python",
   "name": "python",
   "nbconvert_exporter": "python",
   "pygments_lexer": "ipython3",
   "version": "3.6.2"
  }
 },
 "nbformat": 4,
 "nbformat_minor": 2
}
